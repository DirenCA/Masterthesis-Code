{
 "cells": [
  {
   "cell_type": "code",
   "execution_count": 1,
   "outputs": [
    {
     "name": "stdout",
     "output_type": "stream",
     "text": [
      "Jupyter environment detected. Enabling Open3D WebVisualizer.\n",
      "[Open3D INFO] WebRTC GUI backend enabled.\n",
      "[Open3D INFO] WebRTCWindowSystem: HTTP handshake server disabled.\n"
     ]
    }
   ],
   "source": [
    "from PIL import Image, ImageOps, ImageFilter\n",
    "import matplotlib.pyplot as plt\n",
    "import numpy as np\n",
    "import open3d as o3d\n",
    "import cv2\n",
    "import glob\n",
    "from camera_intrinsic import get_camera_intrinsics\n",
    "from exif_extract import transform_jpeg_to_depthmap_samsungs20\n",
    "from exif_extract import transform_jpeg_to_depthmap_iphone"
   ],
   "metadata": {
    "collapsed": false,
    "ExecuteTime": {
     "end_time": "2025-02-02T14:18:57.030921100Z",
     "start_time": "2025-02-02T14:18:54.408679Z"
    }
   },
   "id": "39665618ec521b93"
  },
  {
   "cell_type": "markdown",
   "source": [
    "  # Standard Variablen\n",
    "Hier definieren, extrahieren und verarbeiten wir die Tiefenkarten und RGB-Bilder des Samsung s20+ und des Iphone 14 Pro Max und vergleichen diese miteinander.\n",
    "Es kann aber hier schon erwähnt werden, dass die Erstellung der Punktewolke und jede weitere Verarbeitung mit den Bildern des Iphone 14 stattfindet, da die Bilder deutlich präziser sind.  "
   ],
   "metadata": {
    "collapsed": false
   },
   "id": "ebedebab02d00c23"
  },
  {
   "cell_type": "markdown",
   "source": [
    "## Tiefenkarte und RGB-Daten extrahieren"
   ],
   "metadata": {
    "collapsed": false
   },
   "id": "511eb6043de3f716"
  },
  {
   "cell_type": "markdown",
   "source": [
    "IPhone Daten"
   ],
   "metadata": {
    "collapsed": false
   },
   "id": "37da22e3d89b9db2"
  },
  {
   "cell_type": "code",
   "execution_count": 2,
   "outputs": [
    {
     "name": "stdout",
     "output_type": "stream",
     "text": [
      "True\n",
      "Die Tiefenkarte existiert bereits\n"
     ]
    }
   ],
   "source": [
    "url_Iphone = r\"C:\\Users\\Diren\\Nextcloud\\HTW\\4.Semester-Masterarbeit\\Masterarbeit\\Code\\IphoneTestBilder\\Küche\\Box\\IMG_8658.jpg\"\n",
    "output_dir_Iphone = r\"C:\\Users\\Diren\\Nextcloud\\HTW\\4.Semester-Masterarbeit\\Masterarbeit\\Code\\IPhoneTiefenkarten\"\n",
    "\n",
    "rgb_url_Iphone, depth_url_Iphone = transform_jpeg_to_depthmap_iphone(url_Iphone, output_dir_Iphone) #Nutzung unserer Funktion\n",
    "\n",
    "#Open Images\n",
    "depth_im_Iphone = Image.open(depth_url_Iphone)  # Quelle: https://stackoverflow.com/a/67346474\n",
    "rgb_im_Iphone = Image.open(rgb_url_Iphone)"
   ],
   "metadata": {
    "collapsed": false,
    "ExecuteTime": {
     "end_time": "2025-01-24T16:56:24.076249900Z",
     "start_time": "2025-01-24T16:56:24.032940200Z"
    }
   },
   "id": "16a012394f44d047"
  },
  {
   "cell_type": "markdown",
   "source": [
    "Samsung Daten"
   ],
   "metadata": {
    "collapsed": false
   },
   "id": "bdab3294ac00a3a6"
  },
  {
   "cell_type": "code",
   "execution_count": 3,
   "outputs": [
    {
     "name": "stdout",
     "output_type": "stream",
     "text": [
      "Tiefenkarte erfolgreich gespeichert: C:\\Users\\Diren\\Nextcloud\\HTW\\4.Semester-Masterarbeit\\Masterarbeit\\Code\\SamsungTiefenkarten\\20250202_143852_DepthMap.jpg\n"
     ]
    }
   ],
   "source": [
    "url_Samsung = r\"C:\\Users\\Diren\\Nextcloud\\HTW\\4.Semester-Masterarbeit\\Masterarbeit\\Code\\SamsungTestBilder\\Vergleich iphone\\20250202_143852.jpg\"\n",
    "output_dir_Samsung = r\"C:\\Users\\Diren\\Nextcloud\\HTW\\4.Semester-Masterarbeit\\Masterarbeit\\Code\\SamsungTiefenkarten\"\n",
    "\n",
    "rgb_url_Samsung, depth_url_Samsung = transform_jpeg_to_depthmap_samsungs20(url_Samsung, output_dir_Samsung) #Nutzung unserer Funktion\n",
    "\n",
    "#Open Images\n",
    "depth_im_Samsung = Image.open(depth_url_Samsung)  # Quelle: https://stackoverflow.com/a/67346474\n",
    "rgb_im_Samsung = Image.open(rgb_url_Samsung)"
   ],
   "metadata": {
    "collapsed": false,
    "ExecuteTime": {
     "end_time": "2025-02-02T14:21:47.426428600Z",
     "start_time": "2025-02-02T14:21:46.957247600Z"
    }
   },
   "id": "32cce5407d2494b6"
  },
  {
   "cell_type": "markdown",
   "source": [
    "Resize RGB image to size of depthmap\n",
    "\n",
    "We need to resize the rgb image later to this size to combine depth map and RGB image and create a RGBD image. First we get the size of the depth map and then resize the RGB image to that size."
   ],
   "metadata": {
    "collapsed": false
   },
   "id": "970d30a62a927650"
  },
  {
   "cell_type": "code",
   "execution_count": 4,
   "outputs": [],
   "source": [
    "def resize(rgb_im, depth_im):\n",
    "    rgb_width, rgb_height = rgb_im.size\n",
    "    rgb_width_original, rgb_height_original = rgb_im.size #need that for later use\n",
    "    dm_width, dm_height = depth_im.size  # width and height of depth map image. \n",
    "    \n",
    "    print(f\"dm_height:{dm_height}, dm_width:{dm_width}\\n rgb_height:{rgb_height}, rgb_width:{rgb_width}\")  # need to scale our RGB image to the size of our depthmap image\n",
    "    \n",
    "    size = (dm_width, dm_height)  # define new size\n",
    "    rgb_im = rgb_im.resize(size)  # fitting the rgb image size to the size of the depth image\n",
    "    \n",
    "    rgb_width, rgb_height = rgb_im.size\n",
    "    print(f\"new_rgb_height:{rgb_height}, new_rgb_width:{rgb_width}\")\n",
    "    \n",
    "    return rgb_im, dm_width, dm_height, rgb_width_original, rgb_height_original"
   ],
   "metadata": {
    "collapsed": false,
    "ExecuteTime": {
     "end_time": "2025-02-02T14:21:51.488735Z",
     "start_time": "2025-02-02T14:21:51.427517800Z"
    }
   },
   "id": "5f2266d267c65d5c"
  },
  {
   "cell_type": "markdown",
   "source": [
    "Resize Iphone RGB Image"
   ],
   "metadata": {
    "collapsed": false
   },
   "id": "3189095b899d3b40"
  },
  {
   "cell_type": "code",
   "execution_count": 15,
   "outputs": [
    {
     "name": "stdout",
     "output_type": "stream",
     "text": [
      "dm_height:768, dm_width:576\n",
      " rgb_height:4032, rgb_width:3024\n",
      "new_rgb_height:768, new_rgb_width:576\n"
     ]
    }
   ],
   "source": [
    "rgb_im_Iphone, dm_width_Iphone, dm_height_Iphone, rgb_width_Iphone, rgb_height_Iphone = resize(rgb_im_Iphone, depth_im_Iphone)"
   ],
   "metadata": {
    "collapsed": false,
    "ExecuteTime": {
     "end_time": "2025-01-24T16:45:20.721512200Z",
     "start_time": "2025-01-24T16:45:20.578359800Z"
    }
   },
   "id": "f41e004b079dd11a"
  },
  {
   "cell_type": "markdown",
   "source": [
    "Resize Samsung RGB Image"
   ],
   "metadata": {
    "collapsed": false
   },
   "id": "ec24735487ab3fbd"
  },
  {
   "cell_type": "code",
   "execution_count": 5,
   "outputs": [
    {
     "name": "stdout",
     "output_type": "stream",
     "text": [
      "dm_height:756, dm_width:1008\n",
      " rgb_height:3024, rgb_width:4032\n",
      "new_rgb_height:756, new_rgb_width:1008\n"
     ]
    },
    {
     "ename": "ValueError",
     "evalue": "too many values to unpack (expected 3)",
     "output_type": "error",
     "traceback": [
      "\u001B[1;31m---------------------------------------------------------------------------\u001B[0m",
      "\u001B[1;31mValueError\u001B[0m                                Traceback (most recent call last)",
      "Cell \u001B[1;32mIn[5], line 1\u001B[0m\n\u001B[1;32m----> 1\u001B[0m rgb_im_Samsung, dm_width_Samsung, dm_height_Samsung \u001B[38;5;241m=\u001B[39m resize(rgb_im_Samsung, depth_im_Samsung)\n",
      "\u001B[1;31mValueError\u001B[0m: too many values to unpack (expected 3)"
     ]
    }
   ],
   "source": [
    "rgb_im_Samsung, dm_width_Samsung, dm_height_Samsung = resize(rgb_im_Samsung, depth_im_Samsung)"
   ],
   "metadata": {
    "collapsed": false,
    "ExecuteTime": {
     "end_time": "2025-02-02T14:21:55.109823200Z",
     "start_time": "2025-02-02T14:21:54.978311Z"
    }
   },
   "id": "bcff2557d8dbc0f6"
  },
  {
   "cell_type": "markdown",
   "source": [
    "Getting the images as numpy arrays for later use"
   ],
   "metadata": {
    "collapsed": false
   },
   "id": "d7e4ddee5397e5d2"
  },
  {
   "cell_type": "markdown",
   "source": [
    "Iphone array"
   ],
   "metadata": {
    "collapsed": false
   },
   "id": "75a0421fc52fb861"
  },
  {
   "cell_type": "code",
   "execution_count": 112,
   "outputs": [],
   "source": [
    "depth_array_Iphone = np.array(depth_im_Iphone)  # getting the depthmap as a numpy array\n",
    "rgb_array_Iphone = np.array(rgb_im_Iphone)  # getting the rgb image as a numpy array"
   ],
   "metadata": {
    "collapsed": false,
    "ExecuteTime": {
     "end_time": "2025-01-24T14:46:09.248619700Z",
     "start_time": "2025-01-24T14:46:09.193882800Z"
    }
   },
   "id": "12cc2b6e80e09492"
  },
  {
   "cell_type": "markdown",
   "source": [
    "Samsung array"
   ],
   "metadata": {
    "collapsed": false
   },
   "id": "640b1162bdc3e56"
  },
  {
   "cell_type": "code",
   "execution_count": 6,
   "outputs": [],
   "source": [
    "depth_array_Samsung = np.array(depth_im_Samsung)  # getting the depthmap as a numpy array\n",
    "rgb_array_Samsung = np.array(rgb_im_Samsung)  # getting the rgb image as a numpy array"
   ],
   "metadata": {
    "collapsed": false,
    "ExecuteTime": {
     "end_time": "2025-02-02T14:22:02.335857400Z",
     "start_time": "2025-02-02T14:22:02.251751200Z"
    }
   },
   "id": "c09eccffdbee2bc9"
  },
  {
   "cell_type": "markdown",
   "source": [
    "We need the images as open3d objects or else we can´t create the RGBD image"
   ],
   "metadata": {
    "collapsed": false
   },
   "id": "30ad51b42447c830"
  },
  {
   "cell_type": "markdown",
   "source": [
    "Iphone o3d object"
   ],
   "metadata": {
    "collapsed": false
   },
   "id": "ac9046c5c82b2a76"
  },
  {
   "cell_type": "code",
   "execution_count": 114,
   "outputs": [],
   "source": [
    "# convert the arrays to open3d objects Quelle: https://stackoverflow.com/questions/63587617/how-to-create-a-rgbd-image-from-numpy-rgb-array-and-depth-array\n",
    "rgb_o3d_Iphone = o3d.geometry.Image(rgb_array_Iphone)\n",
    "depth_o3d_Iphone = o3d.geometry.Image(depth_array_Iphone)\n",
    "#depth_3d = o3d.geometry.Image(np.ascontiguousarray(depth_array_Iphone))"
   ],
   "metadata": {
    "collapsed": false,
    "ExecuteTime": {
     "end_time": "2025-01-24T14:46:10.443313200Z",
     "start_time": "2025-01-24T14:46:10.400315300Z"
    }
   },
   "id": "1ff1eecea57644fb"
  },
  {
   "cell_type": "markdown",
   "source": [
    "Samsung o3d object"
   ],
   "metadata": {
    "collapsed": false
   },
   "id": "27b91b5766d6590a"
  },
  {
   "cell_type": "code",
   "execution_count": 7,
   "outputs": [],
   "source": [
    "rgb_o3d_Samsung = o3d.geometry.Image(rgb_array_Samsung)\n",
    "depth_o3d_Samsung = o3d.geometry.Image(depth_array_Samsung)"
   ],
   "metadata": {
    "collapsed": false,
    "ExecuteTime": {
     "end_time": "2025-02-02T14:22:04.540868200Z",
     "start_time": "2025-02-02T14:22:04.427300300Z"
    }
   },
   "id": "1f527641e1f066cc"
  },
  {
   "cell_type": "markdown",
   "source": [
    "# Processing depth map"
   ],
   "metadata": {
    "collapsed": false
   },
   "id": "a91634b7fa777944"
  },
  {
   "cell_type": "markdown",
   "source": [
    "Plotting the Iphone depthmap "
   ],
   "metadata": {
    "collapsed": false
   },
   "id": "7610897eac83ed2"
  },
  {
   "cell_type": "code",
   "execution_count": 94,
   "outputs": [],
   "source": [
    "#invertieren des array\n",
    "#depth_array_Iphone = 255 - depth_array_Iphone  # Array umkehren"
   ],
   "metadata": {
    "collapsed": false,
    "ExecuteTime": {
     "end_time": "2025-01-24T14:45:00.204534600Z",
     "start_time": "2025-01-24T14:45:00.177018200Z"
    }
   },
   "id": "ea5716f515e3dc16"
  },
  {
   "cell_type": "code",
   "execution_count": 95,
   "id": "initial_id",
   "metadata": {
    "collapsed": true,
    "ExecuteTime": {
     "end_time": "2025-01-24T14:45:00.616447800Z",
     "start_time": "2025-01-24T14:45:00.352309Z"
    }
   },
   "outputs": [
    {
     "data": {
      "text/plain": "<Figure size 640x480 with 2 Axes>",
      "image/png": "[encoded data removed]"
     },
     "metadata": {},
     "output_type": "display_data"
    }
   ],
   "source": [
    "# plotting the depthmap\n",
    "plt.imshow(depth_array_Iphone)\n",
    "plt.colorbar(label=\"Depth Value\")\n",
    "plt.title(\"DepthMapIPhone\")\n",
    "plt.ylabel(\"Height\")\n",
    "plt.xlabel(\"Width\")\n",
    "plt.show()\n"
   ]
  },
  {
   "cell_type": "markdown",
   "source": [
    "Plotting the Samsung depthmap "
   ],
   "metadata": {
    "collapsed": false
   },
   "id": "79263f1cf8471347"
  },
  {
   "cell_type": "code",
   "execution_count": 15,
   "outputs": [
    {
     "data": {
      "text/plain": "<Figure size 800x400 with 2 Axes>",
      "image/png": "[encoded data removed]"
     },
     "metadata": {},
     "output_type": "display_data"
    }
   ],
   "source": [
    "# plotting the depthmap\n",
    "plt.figure(figsize=(8, 4))\n",
    "plt.imshow(depth_array_Samsung, cmap=\"viridis\")\n",
    "plt.colorbar(label=\"Tiefe\")\n",
    "plt.title(\"DepthMapSamsung\")\n",
    "plt.ylabel(\"Height\")\n",
    "plt.xlabel(\"Width\")\n",
    "plt.show()"
   ],
   "metadata": {
    "collapsed": false,
    "ExecuteTime": {
     "end_time": "2025-02-02T14:49:00.129957300Z",
     "start_time": "2025-02-02T14:48:59.933059500Z"
    }
   },
   "id": "a181d4f70ad9a6e"
  },
  {
   "cell_type": "code",
   "execution_count": 14,
   "outputs": [
    {
     "data": {
      "text/plain": "762048"
     },
     "execution_count": 14,
     "metadata": {},
     "output_type": "execute_result"
    }
   ],
   "source": [
    "depth_array_Samsung.size"
   ],
   "metadata": {
    "collapsed": false,
    "ExecuteTime": {
     "end_time": "2025-02-02T14:48:18.861514400Z",
     "start_time": "2025-02-02T14:48:18.804000200Z"
    }
   },
   "id": "6b5b4fb505a3b557"
  },
  {
   "cell_type": "markdown",
   "source": [
    " Processing Depth Map"
   ],
   "metadata": {
    "collapsed": false
   },
   "id": "9353088785aca80b"
  },
  {
   "cell_type": "markdown",
   "source": [
    "Normalisierung"
   ],
   "metadata": {
    "collapsed": false
   },
   "id": "55d072b3143aa44e"
  },
  {
   "cell_type": "code",
   "execution_count": 97,
   "outputs": [],
   "source": [
    "#depth_array = cv2.normalize(depth_array, None, 0, 255, cv2.NORM_MINMAX)"
   ],
   "metadata": {
    "collapsed": false,
    "ExecuteTime": {
     "end_time": "2025-01-24T14:45:04.216215500Z",
     "start_time": "2025-01-24T14:45:04.171168900Z"
    }
   },
   "id": "565726a5988eb1ee"
  },
  {
   "cell_type": "markdown",
   "source": [
    "Filterung"
   ],
   "metadata": {
    "collapsed": false
   },
   "id": "d0ae144eabd6eb3b"
  },
  {
   "cell_type": "code",
   "execution_count": 97,
   "outputs": [],
   "source": [],
   "metadata": {
    "collapsed": false,
    "ExecuteTime": {
     "end_time": "2025-01-24T14:45:04.985379900Z",
     "start_time": "2025-01-24T14:45:04.947379800Z"
    }
   },
   "id": "2a35190ee74f7799"
  },
  {
   "cell_type": "markdown",
   "source": [
    "# Create RGBD image"
   ],
   "metadata": {
    "collapsed": false
   },
   "id": "e6bc2e5080091bec"
  },
  {
   "cell_type": "markdown",
   "source": [
    " RGBD Image"
   ],
   "metadata": {
    "collapsed": false
   },
   "id": "5b8c4137d941279a"
  },
  {
   "cell_type": "code",
   "execution_count": 98,
   "outputs": [],
   "source": [
    "rgbd = o3d.geometry.RGBDImage.create_from_color_and_depth(rgb_o3d_Iphone, depth_o3d_Iphone)  # Quelle:https://www.open3d.org/docs/latest/python_api/open3d.geometry.RGBDImage.html und https://stackoverflo.com/questions/63587617/how-to-create-a-rgbd-image-from-numpy-rgb-array-and-depth-array"
   ],
   "metadata": {
    "collapsed": false,
    "ExecuteTime": {
     "end_time": "2025-01-24T14:45:05.655523800Z",
     "start_time": "2025-01-24T14:45:05.606635500Z"
    }
   },
   "id": "72ae92bfc4cc3f4d"
  },
  {
   "cell_type": "markdown",
   "source": [
    "Comparison of RGB and depth map image"
   ],
   "metadata": {
    "collapsed": false
   },
   "id": "a614b8ec2dd05d5"
  },
  {
   "cell_type": "code",
   "execution_count": 99,
   "outputs": [
    {
     "data": {
      "text/plain": "<Figure size 640x480 with 2 Axes>",
      "image/png": "[encoded data removed]"
     },
     "metadata": {},
     "output_type": "display_data"
    }
   ],
   "source": [
    "plt.subplot(1, 2, 1)\n",
    "plt.title(\"Farbbild\")\n",
    "plt.imshow(rgbd.color)\n",
    "plt.subplot(1, 2, 2)\n",
    "plt.title(\"Tiefenbild\")\n",
    "plt.imshow(rgbd.depth)\n",
    "plt.show()"
   ],
   "metadata": {
    "collapsed": false,
    "ExecuteTime": {
     "end_time": "2025-01-24T14:45:06.200404300Z",
     "start_time": "2025-01-24T14:45:05.943478600Z"
    }
   },
   "id": "2e778af0be6ac3d3"
  },
  {
   "cell_type": "markdown",
   "source": [
    "# Get camera intrinsics"
   ],
   "metadata": {
    "collapsed": false
   },
   "id": "b7f4f17b15cf04bc"
  },
  {
   "cell_type": "markdown",
   "source": [
    "With the intrinsics of the camera that took the photo we are able to correct distortions "
   ],
   "metadata": {
    "collapsed": false
   },
   "id": "de44fa14f993f5a3"
  },
  {
   "cell_type": "markdown",
   "source": [
    "## OpenCV camera calibration"
   ],
   "metadata": {
    "collapsed": false
   },
   "id": "9020369b69105f43"
  },
  {
   "cell_type": "code",
   "execution_count": 100,
   "outputs": [],
   "source": [
    "images = glob.glob(r\"C:\\Users\\Diren\\Nextcloud\\HTW\\4.Semester-Masterarbeit\\Masterarbeit\\Code\\Chesspattern\\8x11_normalCamera\\*.jpg\") #checkerboard pictures for calibration"
   ],
   "metadata": {
    "collapsed": false
   },
   "id": "cc0234dfd51f6a0a"
  },
  {
   "cell_type": "code",
   "execution_count": 101,
   "outputs": [
    {
     "ename": "TypeError",
     "evalue": "cannot unpack non-iterable NoneType object",
     "output_type": "error",
     "traceback": [
      "\u001B[1;31m---------------------------------------------------------------------------\u001B[0m",
      "\u001B[1;31mTypeError\u001B[0m                                 Traceback (most recent call last)",
      "Cell \u001B[1;32mIn[101], line 1\u001B[0m\n\u001B[1;32m----> 1\u001B[0m ret,mtx,dist,rvecs,tvecs, reprojection_error \u001B[38;5;241m=\u001B[39m get_camera_intrinsics(images)\n",
      "\u001B[1;31mTypeError\u001B[0m: cannot unpack non-iterable NoneType object"
     ]
    }
   ],
   "source": [
    "ret,mtx,dist,rvecs,tvecs, reprojection_error = get_camera_intrinsics(images)"
   ],
   "metadata": {
    "collapsed": false
   },
   "id": "d50c84156f5bbf0e"
  },
  {
   "cell_type": "markdown",
   "source": [
    "because the depthmap image is 768x576 and i can´t calibrate the lidar sensor directly, i will scale the matrix (mtx) and distortion coefficients (dist) of the normal camera down. "
   ],
   "metadata": {
    "collapsed": false
   },
   "id": "28fa21d1a172d7e6"
  },
  {
   "cell_type": "code",
   "execution_count": 76,
   "outputs": [
    {
     "ename": "NameError",
     "evalue": "name 'mtx' is not defined",
     "output_type": "error",
     "traceback": [
      "\u001B[1;31m---------------------------------------------------------------------------\u001B[0m",
      "\u001B[1;31mNameError\u001B[0m                                 Traceback (most recent call last)",
      "Cell \u001B[1;32mIn[76], line 8\u001B[0m\n\u001B[0;32m      5\u001B[0m scale_y \u001B[38;5;241m=\u001B[39m dm_height_Iphone \u001B[38;5;241m/\u001B[39m original_height\n\u001B[0;32m      7\u001B[0m \u001B[38;5;66;03m# scaling\u001B[39;00m\n\u001B[1;32m----> 8\u001B[0m scaled_mtx \u001B[38;5;241m=\u001B[39m \u001B[43mmtx\u001B[49m\u001B[38;5;241m.\u001B[39mcopy()\n\u001B[0;32m      9\u001B[0m scaled_mtx[\u001B[38;5;241m0\u001B[39m, \u001B[38;5;241m0\u001B[39m] \u001B[38;5;241m*\u001B[39m\u001B[38;5;241m=\u001B[39m scale_x  \u001B[38;5;66;03m# f_x\u001B[39;00m\n\u001B[0;32m     10\u001B[0m scaled_mtx[\u001B[38;5;241m1\u001B[39m, \u001B[38;5;241m1\u001B[39m] \u001B[38;5;241m*\u001B[39m\u001B[38;5;241m=\u001B[39m scale_y  \u001B[38;5;66;03m# f_y\u001B[39;00m\n",
      "\u001B[1;31mNameError\u001B[0m: name 'mtx' is not defined"
     ]
    }
   ],
   "source": [
    "original_width, original_height = 3024, 4032\n",
    "\n",
    "# sclaingfactor\n",
    "scale_x = dm_width_Iphone / original_width\n",
    "scale_y = dm_height_Iphone / original_height\n",
    "\n",
    "# scaling\n",
    "scaled_mtx = mtx.copy()\n",
    "scaled_mtx[0, 0] *= scale_x  # f_x\n",
    "scaled_mtx[1, 1] *= scale_y  # f_y\n",
    "scaled_mtx[0, 2] *= scale_x  # c_x\n",
    "scaled_mtx[1, 2] *= scale_y  # c_y\n",
    "\n",
    "print(\"Angepasste intrinsische Matrix:\")\n",
    "print(scaled_mtx)"
   ],
   "metadata": {
    "collapsed": false
   },
   "id": "9a16b3ac091cc10a"
  },
  {
   "cell_type": "markdown",
   "source": [
    "## Exiftool camera calibration"
   ],
   "metadata": {
    "collapsed": false
   },
   "id": "bbff157784c1fe25"
  },
  {
   "cell_type": "markdown",
   "source": [
    "intrinsische Matrix und distortion_coefficients via exif"
   ],
   "metadata": {
    "collapsed": false
   },
   "id": "523076f5d7447afb"
  },
  {
   "cell_type": "code",
   "execution_count": 102,
   "outputs": [],
   "source": [
    "mtx_exif = np.array([\n",
    "    [2878.218994140625, 0.0, 1509.392333984375],\n",
    "    [0.0, 2878.218994140625, 2012.1256],\n",
    "    [0.0, 0.0, 1.0]\n",
    "])\n"
   ],
   "metadata": {
    "collapsed": false
   },
   "id": "a27019d0a2fe3f72"
  },
  {
   "cell_type": "code",
   "execution_count": 103,
   "outputs": [],
   "source": [
    "distortion_coefficients_exif = np.array([\n",
    "    -0.35576209425926208,  # k1\n",
    "    -0.0066862036474049091,  # k2\n",
    "    0.0057414853945374489,  # p1\n",
    "    -0.00049229874275624752,  # p2\n",
    "    1.8682043446460739e-05,  # k3\n",
    "    -3.3853208947220992e-07,  # k4\n",
    "    2.383720332232997e-09   # k5\n",
    "])"
   ],
   "metadata": {
    "collapsed": false
   },
   "id": "7781ea3a5f9cb512"
  },
  {
   "cell_type": "code",
   "execution_count": 104,
   "outputs": [],
   "source": [
    "distortion_coefficients_exif = distortion_coefficients_exif[:5]"
   ],
   "metadata": {
    "collapsed": false
   },
   "id": "da63ab9947255abd"
  },
  {
   "cell_type": "markdown",
   "source": [
    "exif mxt anpassen"
   ],
   "metadata": {
    "collapsed": false
   },
   "id": "dcf56ea74e0c2e43"
  },
  {
   "cell_type": "code",
   "execution_count": 77,
   "outputs": [
    {
     "name": "stdout",
     "output_type": "stream",
     "text": [
      "Angepasste intrinsische Matrix:\n",
      "[[548.23218936   0.         287.50330171]\n",
      " [  0.         548.23218936 383.26201905]\n",
      " [  0.           0.           1.        ]]\n"
     ]
    }
   ],
   "source": [
    "original_width, original_height = 3024, 4032\n",
    "\n",
    "# sclaingfactor\n",
    "scale_x = dm_width_Iphone / original_width\n",
    "scale_y = dm_height_Iphone / original_height\n",
    "\n",
    "# scaling\n",
    "scaled_mtx_exif = mtx_exif.copy()\n",
    "scaled_mtx_exif[0, 0] *= scale_x  # f_x\n",
    "scaled_mtx_exif[1, 1] *= scale_y  # f_y\n",
    "scaled_mtx_exif[0, 2] *= scale_x  # c_x\n",
    "scaled_mtx_exif[1, 2] *= scale_y  # c_y\n",
    "\n",
    "print(\"Angepasste intrinsische Matrix:\")\n",
    "print(scaled_mtx_exif)"
   ],
   "metadata": {
    "collapsed": false
   },
   "id": "170c5784cf9b96e4"
  },
  {
   "cell_type": "markdown",
   "source": [
    "because the depthmap is already processes by the IPhone and normalized, I have to scale to numbers back to meters. the maximum depth captured by the LIDAR sensor seems to be 5 meters.\n",
    "so the maximum value of the unedited array, which is 255, is equal to 5 meters while 0 = 0 meters."
   ],
   "metadata": {
    "collapsed": false
   },
   "id": "385124c70b38e266"
  },
  {
   "cell_type": "code",
   "execution_count": 35,
   "outputs": [
    {
     "name": "stdout",
     "output_type": "stream",
     "text": [
      "Minimale Tiefe: 2.45 Meter\n",
      "Maximale Tiefe: 5.00 Meter\n"
     ]
    }
   ],
   "source": [
    "# maximum depth value\n",
    "D_max = 5.0  # 5 meters\n",
    "scaling_factor = (D_max / 255.0)\n",
    "# Umrechnung von Pixelwerten in reale Tiefenwerte\n",
    "real_depth = depth_array_Iphone_dst * scaling_factor\n",
    "\n",
    "# Min- und Maxwerte der berechneten Tiefen\n",
    "print(f\"Minimale Tiefe: {np.min(real_depth):.2f} Meter\")\n",
    "print(f\"Maximale Tiefe: {np.max(real_depth):.2f} Meter\")\n"
   ],
   "metadata": {
    "collapsed": false
   },
   "id": "78caf54c8b4e7290"
  },
  {
   "cell_type": "code",
   "execution_count": 36,
   "outputs": [],
   "source": [
    "scaled_array_Iphone = depth_array_Iphone_dst.copy()\n",
    "scaled_array_Iphone = scaled_array_Iphone * scaling_factor"
   ],
   "metadata": {
    "collapsed": false
   },
   "id": "8c4bf9a0f9422a72"
  },
  {
   "cell_type": "code",
   "execution_count": 37,
   "outputs": [
    {
     "data": {
      "text/plain": "array([[2.56862745, 2.54901961, 2.54901961, ..., 5.        , 5.        ,\n        5.        ],\n       [2.56862745, 2.54901961, 2.54901961, ..., 5.        , 5.        ,\n        5.        ],\n       [2.56862745, 2.56862745, 2.54901961, ..., 5.        , 5.        ,\n        5.        ],\n       ...,\n       [5.        , 5.        , 5.        , ..., 5.        , 5.        ,\n        5.        ],\n       [5.        , 5.        , 5.        , ..., 5.        , 5.        ,\n        5.        ],\n       [5.        , 5.        , 5.        , ..., 5.        , 5.        ,\n        5.        ]])"
     },
     "execution_count": 37,
     "metadata": {},
     "output_type": "execute_result"
    }
   ],
   "source": [
    "scaled_array_Iphone"
   ],
   "metadata": {
    "collapsed": false
   },
   "id": "437037338b547460"
  },
  {
   "cell_type": "markdown",
   "source": [
    "scaled intrinsic"
   ],
   "metadata": {
    "collapsed": false
   },
   "id": "9df5c8e887f3f655"
  },
  {
   "cell_type": "code",
   "execution_count": 110,
   "outputs": [
    {
     "name": "stdout",
     "output_type": "stream",
     "text": [
      "fx: 548.232189360119, fy: 548.232189360119, cx: 287.5033017113095, cy: 383.26201904761905\n"
     ]
    }
   ],
   "source": [
    "fx = scaled_mtx_exif[0, 0]\n",
    "fy = scaled_mtx_exif[1, 1]\n",
    "cx = scaled_mtx_exif[0, 2]\n",
    "cy = scaled_mtx_exif[1, 2]\n",
    "\n",
    "print(f\"fx: {fx}, fy: {fy}, cx: {cx}, cy: {cy}\")\n",
    "\n",
    "\n",
    "# Intrinsic Matrix als Open3D-Objekt\n",
    "intrinsic_exif_scaled = o3d.camera.PinholeCameraIntrinsic(width=dm_width_Iphone,height=dm_height_Iphone, fx=fx, fy=fy, cx=cx, cy=cy)\n"
   ],
   "metadata": {
    "collapsed": false
   },
   "id": "245dd17e9b3540aa"
  },
  {
   "cell_type": "markdown",
   "source": [
    "unscaled intrinsic"
   ],
   "metadata": {
    "collapsed": false
   },
   "id": "b26bc896d0f1b3ad"
  },
  {
   "cell_type": "code",
   "execution_count": 107,
   "outputs": [
    {
     "name": "stdout",
     "output_type": "stream",
     "text": [
      "fx: 2878.218994140625, fy: 2878.218994140625, cx: 1509.392333984375, cy: 2012.1256\n"
     ]
    }
   ],
   "source": [
    "fx = mtx_exif[0, 0]\n",
    "fy = mtx_exif[1, 1]\n",
    "cx = mtx_exif[0, 2]\n",
    "cy = mtx_exif[1, 2]\n",
    "\n",
    "print(f\"fx: {fx}, fy: {fy}, cx: {cx}, cy: {cy}\")\n",
    "\n",
    "\n",
    "# Intrinsic Matrix als Open3D-Objekt\n",
    "intrinsic_exif = o3d.camera.PinholeCameraIntrinsic(width=dm_width_Iphone,height=dm_height_Iphone, fx=fx, fy=fy, cx=cx, cy=cy)\n"
   ],
   "metadata": {
    "collapsed": false
   },
   "id": "f2e00ae45da5fe16"
  },
  {
   "cell_type": "markdown",
   "source": [
    "# Create point cloud"
   ],
   "metadata": {
    "collapsed": false
   },
   "id": "80540d377b4957c0"
  },
  {
   "cell_type": "code",
   "execution_count": 116,
   "outputs": [],
   "source": [
    "depth_data_uint16_Iphone = (depth_array_Iphone.astype(np.uint16)) #Quelle: https://stackoverflow.com/questions/73067231/how-to-convert-uint8-image-to-uint16-python\n",
    "depth_uint16_o3d_Iphone = o3d.geometry.Image(depth_data_uint16_Iphone)"
   ],
   "metadata": {
    "collapsed": false,
    "ExecuteTime": {
     "end_time": "2025-01-24T14:46:17.225339Z",
     "start_time": "2025-01-24T14:46:17.190827200Z"
    }
   },
   "id": "74d9043e1ed383c7"
  },
  {
   "cell_type": "markdown",
   "source": [
    "The PCD looks way better when scaling the intrinsic matrix first"
   ],
   "metadata": {
    "collapsed": false
   },
   "id": "ca3b428a00bb98f8"
  },
  {
   "cell_type": "code",
   "execution_count": 118,
   "outputs": [],
   "source": [
    "\n",
    "# Open3D-Image aus Tiefenkarte erstellen\n",
    "depth_image = o3d.geometry.Image(depth_uint16_o3d_Iphone)\n",
    "\n",
    "# Punktwolke aus Tiefenkarte erstellen\n",
    "pcd_Iphone = o3d.geometry.PointCloud.create_from_depth_image(\n",
    "    depth_image,\n",
    "    intrinsic=intrinsic_exif_scaled\n",
    "    #depth_scale=1000.0,  # Skalierungsfaktor für Millimeter\n",
    "    #depth_trunc=1000.0,  # Maximale Tiefe in Millimetern\n",
    ")\n",
    "\n",
    "# Punktwolke visualisieren\n",
    "o3d.visualization.draw_geometries([pcd_Iphone])\n"
   ],
   "metadata": {
    "collapsed": false,
    "ExecuteTime": {
     "end_time": "2025-01-24T14:47:05.527596700Z",
     "start_time": "2025-01-24T14:47:04.606684400Z"
    }
   },
   "id": "f59fdddc9c56b583"
  },
  {
   "cell_type": "markdown",
   "source": [
    "------------------------------Hier ist das Ende der korrekten intrinsics und  undistorten------------------------------ \n"
   ],
   "metadata": {
    "collapsed": false
   },
   "id": "8711041ff108c84d"
  },
  {
   "cell_type": "code",
   "execution_count": 47,
   "outputs": [],
   "source": [
    "intrinsic = o3d.camera.PinholeCameraIntrinsic(\n",
    "    dm_width_Iphone, \n",
    "    dm_height_Iphone, \n",
    "    fx,  # Fokuslänge x\n",
    "    fy,  # Fokuslänge y\n",
    "    cx,  # optisches Zentrum x\n",
    "    cy   # optisches Zentrum y\n",
    ")"
   ],
   "metadata": {
    "collapsed": false,
    "ExecuteTime": {
     "end_time": "2025-01-24T14:41:07.757528200Z",
     "start_time": "2025-01-24T14:41:07.725013700Z"
    }
   },
   "id": "a91f963f873e6a92"
  },
  {
   "cell_type": "code",
   "execution_count": 41,
   "outputs": [],
   "source": [
    "#iphone daten aus exif\n",
    "\n",
    "#extrinsics\n",
    "extrinsics = np.array([\n",
    "    [0.0, -1.0, 0.0, 0.0],\n",
    "    [1.0,  0.0, 0.0, 0.0],\n",
    "    [0.0,  0.0, 1.0, 0.0],\n",
    "    [0.0,  0.0, 0.0, 1.0]\n",
    "])\n",
    "\n",
    "# Kamera-Parameter-intrinsic\n",
    "dm_width_Iphone  # Intrinsic Matrix Reference Width\n",
    "dm_height_Iphone  # Intrinsic Matrix Reference Height\n",
    "fx = 2855.5684  # Fokallänge in Pixeln entlang x\n",
    "fy = 2855.5684  # Fokallänge in Pixeln entlang y\n",
    "cx = 1515.6122  # Principal Point x\n",
    "cy = 2022.2196  # Principal Point y\n",
    "\n",
    "# Anpassung der intrinsischen Parameter an die Tiefenkarte\n",
    "scale_x = dm_width_Iphone / 3024  # Verhältnis zur Referenzbreite\n",
    "scale_y = dm_height_Iphone / 4032  # Verhältnis zur Referenzhöhe\n",
    "\n",
    "fx_scaled = fx * scale_x  # Skalierte Fokallänge x\n",
    "fy_scaled = fy * scale_y  # Skalierte Fokallänge y\n",
    "cx_scaled = cx * scale_x  # Skalierter Hauptpunkt x\n",
    "cy_scaled = cy * scale_y  # Skalierter Hauptpunkt y\n",
    "\n",
    "\n",
    "# Intrinsic Matrix als Open3D-Objekt\n",
    "intrinsics = o3d.camera.PinholeCameraIntrinsic(width=dm_width_Iphone,height=dm_height_Iphone, fx=fx_scaled, fy=fy_scaled, cx=cx_scaled, cy=cy_scaled)"
   ],
   "metadata": {
    "collapsed": false,
    "ExecuteTime": {
     "end_time": "2025-01-24T14:40:44.620340200Z",
     "start_time": "2025-01-24T14:40:44.578920600Z"
    }
   },
   "id": "2d0246cef147a003"
  },
  {
   "cell_type": "markdown",
   "source": [
    "## Point cloud only from depth image"
   ],
   "metadata": {
    "collapsed": false
   },
   "id": "b4cf780a8dbf3bad"
  },
  {
   "cell_type": "markdown",
   "source": [
    "PCD Iphone"
   ],
   "metadata": {
    "collapsed": false
   },
   "id": "f7e386c5ea526fd9"
  },
  {
   "cell_type": "code",
   "execution_count": 105,
   "outputs": [],
   "source": [
    "\n",
    "# # Erstellen der PinholeCameraIntrinsic für das Bild 768x576\n",
    "# intrinsics = o3d.camera.PinholeCameraIntrinsic(\n",
    "#     width=768,\n",
    "#     height=576,\n",
    "#     fx=550.0,  # Brennweite in x-Richtung\n",
    "#     fy=550.0,  # Brennweite in y-Richtung\n",
    "#     cx=384.0,  # Optisches Zentrum in x\n",
    "#     cy=288.0   # Optisches Zentrum in y\n",
    "# )"
   ],
   "metadata": {
    "collapsed": false,
    "ExecuteTime": {
     "end_time": "2025-01-20T11:38:09.738140800Z",
     "start_time": "2025-01-20T11:38:09.732902700Z"
    }
   },
   "id": "9fbcb222e479adb1"
  },
  {
   "cell_type": "code",
   "execution_count": 40,
   "outputs": [
    {
     "ename": "NameError",
     "evalue": "name 'intrinsic' is not defined",
     "output_type": "error",
     "traceback": [
      "\u001B[1;31m---------------------------------------------------------------------------\u001B[0m",
      "\u001B[1;31mNameError\u001B[0m                                 Traceback (most recent call last)",
      "Cell \u001B[1;32mIn[40], line 9\u001B[0m\n\u001B[0;32m      4\u001B[0m depth_uint16_o3d_Iphone \u001B[38;5;241m=\u001B[39m o3d\u001B[38;5;241m.\u001B[39mgeometry\u001B[38;5;241m.\u001B[39mImage(depth_data_uint16_Iphone)\n\u001B[0;32m      6\u001B[0m \u001B[38;5;66;03m# Point Cloud aus der Tiefenkarte\u001B[39;00m\n\u001B[0;32m      7\u001B[0m pcd_Iphone \u001B[38;5;241m=\u001B[39m o3d\u001B[38;5;241m.\u001B[39mgeometry\u001B[38;5;241m.\u001B[39mPointCloud\u001B[38;5;241m.\u001B[39mcreate_from_depth_image(\n\u001B[0;32m      8\u001B[0m     depth_uint16_o3d_Iphone,\n\u001B[1;32m----> 9\u001B[0m     \u001B[43mintrinsic\u001B[49m,\n\u001B[0;32m     10\u001B[0m )\n\u001B[0;32m     12\u001B[0m \u001B[38;5;66;03m# Extrinsische Matrix anwenden\u001B[39;00m\n\u001B[0;32m     13\u001B[0m \u001B[38;5;66;03m#pcd_Iphone.transform(extrinsics)\u001B[39;00m\n",
      "\u001B[1;31mNameError\u001B[0m: name 'intrinsic' is not defined"
     ]
    }
   ],
   "source": [
    "#test für die intrinsiche operation\n",
    "\n",
    "depth_data_uint16_Iphone = (depth_array_Iphone_dst.astype(np.uint16)) #Quelle: https://stackoverflow.com/questions/73067231/how-to-convert-uint8-image-to-uint16-python\n",
    "depth_uint16_o3d_Iphone = o3d.geometry.Image(depth_data_uint16_Iphone)\n",
    "\n",
    "# Point Cloud aus der Tiefenkarte\n",
    "pcd_Iphone = o3d.geometry.PointCloud.create_from_depth_image(\n",
    "    depth_uint16_o3d_Iphone,\n",
    "    intrinsic,\n",
    ")\n",
    "\n",
    "# Extrinsische Matrix anwenden\n",
    "#pcd_Iphone.transform(extrinsics)"
   ],
   "metadata": {
    "collapsed": false,
    "ExecuteTime": {
     "end_time": "2025-01-24T14:40:40.727405Z",
     "start_time": "2025-01-24T14:40:40.651885200Z"
    }
   },
   "id": "a7bedf42324c4180"
  },
  {
   "cell_type": "code",
   "execution_count": 144,
   "outputs": [],
   "source": [
    "o3d.visualization.draw_geometries([pcd_Iphone])"
   ],
   "metadata": {
    "collapsed": false,
    "ExecuteTime": {
     "end_time": "2025-01-20T12:32:38.591701100Z",
     "start_time": "2025-01-20T12:32:33.059211300Z"
    }
   },
   "id": "9c00348f12a00a32"
  },
  {
   "cell_type": "markdown",
   "source": [
    "PCD Samsung"
   ],
   "metadata": {
    "collapsed": false
   },
   "id": "98786435b8f89a3d"
  },
  {
   "cell_type": "code",
   "execution_count": 47,
   "outputs": [],
   "source": [
    "#depth image von uint8 zu uint16, da sonst die Funktion \"o3d.geometry.PointCloud.create_from_depth_image\" nicht funktioniert. Quelle: https://www.open3d.org/docs/latest/python_api/open3d.geometry.PointCloud.html\n",
    "depth_data_uint16_Samsung = (depth_array_Samsung.astype(np.uint16)) #Quelle: https://stackoverflow.com/questions/73067231/how-to-convert-uint8-image-to-uint16-python\n",
    "depth_uint16_o3d_Samsung = o3d.geometry.Image(depth_data_uint16_Samsung)\n",
    "\n",
    "# Erstelle eine Point Cloud aus dem Tiefenbild\n",
    "pcd_Samsung = o3d.geometry.PointCloud.create_from_depth_image(\n",
    "    depth_uint16_o3d_Samsung,\n",
    "    intrinsic\n",
    ")"
   ],
   "metadata": {
    "collapsed": false,
    "ExecuteTime": {
     "end_time": "2025-01-20T11:36:03.607173400Z",
     "start_time": "2025-01-20T11:36:03.595067600Z"
    }
   },
   "id": "7e1573ecae8c6f73"
  },
  {
   "cell_type": "code",
   "execution_count": 48,
   "outputs": [],
   "source": [
    "#o3d.visualization.draw_geometries([pcd_Samsung])"
   ],
   "metadata": {
    "collapsed": false,
    "ExecuteTime": {
     "end_time": "2025-01-20T11:36:03.609174500Z",
     "start_time": "2025-01-20T11:36:03.605066300Z"
    }
   },
   "id": "7d29ae4c33f4c809"
  },
  {
   "cell_type": "markdown",
   "source": [
    "## Point cloud only from RGBD image"
   ],
   "metadata": {
    "collapsed": false
   },
   "id": "64e0b40d4bc849c"
  },
  {
   "cell_type": "code",
   "execution_count": 50,
   "outputs": [],
   "source": [
    "pcrgbd = o3d.geometry.PointCloud.create_from_rgbd_image(rgbd, intrinsic_exif_scaled)\n",
    "o3d.visualization.draw_geometries([pcrgbd])"
   ],
   "metadata": {
    "collapsed": false,
    "ExecuteTime": {
     "end_time": "2025-01-24T14:43:32.684760400Z",
     "start_time": "2025-01-24T14:43:02.762638Z"
    }
   },
   "id": "fa249596009e4590"
  },
  {
   "cell_type": "markdown",
   "source": [
    "# Clean Point Cloud"
   ],
   "metadata": {
    "collapsed": false
   },
   "id": "8e0c034315a431d1"
  },
  {
   "cell_type": "markdown",
   "source": [
    "To get better results from the PC for the volume estimation I will clean it using Open3D methods"
   ],
   "metadata": {
    "collapsed": false
   },
   "id": "2fa1b68d2f6a6a44"
  },
  {
   "cell_type": "code",
   "execution_count": 119,
   "outputs": [
    {
     "data": {
      "text/plain": "PointCloud with 441283 points."
     },
     "execution_count": 119,
     "metadata": {},
     "output_type": "execute_result"
    }
   ],
   "source": [
    "pcd_center = pcd_Iphone.get_center()\n",
    "pcd_Iphone.translate(pcd_center)"
   ],
   "metadata": {
    "collapsed": false,
    "ExecuteTime": {
     "end_time": "2025-01-24T14:47:13.626027500Z",
     "start_time": "2025-01-24T14:47:13.601511400Z"
    }
   },
   "id": "b49bc6ace5251e46"
  },
  {
   "cell_type": "code",
   "execution_count": 120,
   "outputs": [
    {
     "ename": "NameError",
     "evalue": "name 'pcd_Samsung' is not defined",
     "output_type": "error",
     "traceback": [
      "\u001B[1;31m---------------------------------------------------------------------------\u001B[0m",
      "\u001B[1;31mNameError\u001B[0m                                 Traceback (most recent call last)",
      "Cell \u001B[1;32mIn[120], line 1\u001B[0m\n\u001B[1;32m----> 1\u001B[0m pcd_center \u001B[38;5;241m=\u001B[39m \u001B[43mpcd_Samsung\u001B[49m\u001B[38;5;241m.\u001B[39mget_center()\n\u001B[0;32m      2\u001B[0m pcd_Samsung\u001B[38;5;241m.\u001B[39mtranslate(pcd_center)\n",
      "\u001B[1;31mNameError\u001B[0m: name 'pcd_Samsung' is not defined"
     ]
    }
   ],
   "source": [
    "pcd_center = pcd_Samsung.get_center()\n",
    "pcd_Samsung.translate(pcd_center)"
   ],
   "metadata": {
    "collapsed": false,
    "ExecuteTime": {
     "end_time": "2025-01-24T14:47:15.192557200Z",
     "start_time": "2025-01-24T14:47:15.154292400Z"
    }
   },
   "id": "229dc8bcea143139"
  },
  {
   "cell_type": "markdown",
   "source": [
    "## Voxelization"
   ],
   "metadata": {
    "collapsed": false
   },
   "id": "809869c1576a3643"
  },
  {
   "cell_type": "code",
   "execution_count": 121,
   "outputs": [],
   "source": [
    "#pcd_Iphone = pcd_Iphone.voxel_down_sample(voxel_size=0.0000005)\n",
    "#o3d.visualization.draw_geometries([pcd_Iphone])"
   ],
   "metadata": {
    "collapsed": false,
    "ExecuteTime": {
     "end_time": "2025-01-24T14:47:16.463128100Z",
     "start_time": "2025-01-24T14:47:16.415889900Z"
    }
   },
   "id": "35984c2e205a6935"
  },
  {
   "cell_type": "markdown",
   "source": [
    "## Statistical oulier removal (SOR)\n",
    "Bereinigung der Punktwolke mit Statistical Outlier Removal"
   ],
   "metadata": {
    "collapsed": false
   },
   "id": "ca8b983931bb725"
  },
  {
   "cell_type": "code",
   "execution_count": 122,
   "outputs": [],
   "source": [
    "#Quelle: https://www.open3d.org/docs/latest/tutorial/Advanced/pointcloud_outlier_removal.html\n",
    "\n",
    "def display_inlier_outlier(cloud, ind):\n",
    "    inlier_cloud = cloud.select_by_index(ind)\n",
    "    outlier_cloud = cloud.select_by_index(ind, invert=True)\n",
    "\n",
    "    print(\"Showing outliers (red) and inliers (gray): \")\n",
    "    outlier_cloud.paint_uniform_color([1, 0, 0])\n",
    "    inlier_cloud.paint_uniform_color([0.8, 0.8, 0.8])\n",
    "    o3d.visualization.draw_geometries([inlier_cloud, outlier_cloud])"
   ],
   "metadata": {
    "collapsed": false,
    "ExecuteTime": {
     "end_time": "2025-01-24T14:47:17.466361400Z",
     "start_time": "2025-01-24T14:47:17.416708Z"
    }
   },
   "id": "6d9febbb1ea5ea92"
  },
  {
   "cell_type": "markdown",
   "source": [
    "Removing the outliers"
   ],
   "metadata": {
    "collapsed": false
   },
   "id": "637c3889b6512928"
  },
  {
   "cell_type": "code",
   "execution_count": 123,
   "outputs": [],
   "source": [
    "cl, ind = pcd_Iphone.remove_statistical_outlier(nb_neighbors=100, std_ratio=3.0) #gute Ergebnisse mit diesen Werten bisher"
   ],
   "metadata": {
    "collapsed": false,
    "ExecuteTime": {
     "end_time": "2025-01-24T14:47:19.995589300Z",
     "start_time": "2025-01-24T14:47:18.542546400Z"
    }
   },
   "id": "559ba76b5eeea0aa"
  },
  {
   "cell_type": "markdown",
   "source": [
    "Displaying inlier in grey and outlier in red"
   ],
   "metadata": {
    "collapsed": false
   },
   "id": "cab1a1430738f91f"
  },
  {
   "cell_type": "code",
   "execution_count": 124,
   "outputs": [
    {
     "name": "stdout",
     "output_type": "stream",
     "text": [
      "Showing outliers (red) and inliers (gray): \n"
     ]
    }
   ],
   "source": [
    "display_inlier_outlier(pcd_Iphone, ind)"
   ],
   "metadata": {
    "collapsed": false,
    "ExecuteTime": {
     "end_time": "2025-01-24T14:47:27.625697900Z",
     "start_time": "2025-01-24T14:47:21.815784900Z"
    }
   },
   "id": "d6fd19f70e9cc21d"
  },
  {
   "cell_type": "markdown",
   "source": [
    "We will use this PC from now on"
   ],
   "metadata": {
    "collapsed": false
   },
   "id": "6e9e78df7269ea97"
  },
  {
   "cell_type": "code",
   "execution_count": 125,
   "outputs": [],
   "source": [
    "# Cleaned PC\n",
    "pcd_Iphone = pcd_Iphone.select_by_index(ind)  # Nur Inlier"
   ],
   "metadata": {
    "collapsed": false,
    "ExecuteTime": {
     "end_time": "2025-01-24T14:47:30.931115400Z",
     "start_time": "2025-01-24T14:47:30.887654500Z"
    }
   },
   "id": "9200fe1e7f207195"
  },
  {
   "cell_type": "markdown",
   "source": [
    "Visualizing the new PC"
   ],
   "metadata": {
    "collapsed": false
   },
   "id": "1991410888644ae2"
  },
  {
   "cell_type": "code",
   "execution_count": 126,
   "outputs": [],
   "source": [
    "#o3d.visualization.draw_geometries([pcd_Iphone])"
   ],
   "metadata": {
    "collapsed": false,
    "ExecuteTime": {
     "end_time": "2025-01-24T14:47:32.084509500Z",
     "start_time": "2025-01-24T14:47:32.046512700Z"
    }
   },
   "id": "10ca47518df761a0"
  },
  {
   "cell_type": "markdown",
   "source": [
    "## Estimating normals"
   ],
   "metadata": {
    "collapsed": false
   },
   "id": "9c996acfc8122fa"
  },
  {
   "cell_type": "code",
   "execution_count": 127,
   "outputs": [
    {
     "name": "stdout",
     "output_type": "stream",
     "text": [
      "0.00037481899657484333\n"
     ]
    }
   ],
   "source": [
    "nn_distance = np.mean(pcd_Iphone.compute_nearest_neighbor_distance())\n",
    "\n",
    "print(nn_distance)"
   ],
   "metadata": {
    "collapsed": false,
    "ExecuteTime": {
     "end_time": "2025-01-24T14:47:33.053254800Z",
     "start_time": "2025-01-24T14:47:32.859102200Z"
    }
   },
   "id": "1913115ea6d42ece"
  },
  {
   "cell_type": "code",
   "execution_count": 128,
   "outputs": [],
   "source": [
    "radius_normals = nn_distance * 4\n",
    "\n",
    "pcd_Iphone.estimate_normals(search_param=o3d.geometry.KDTreeSearchParamHybrid(radius=radius_normals, max_nn=16), fast_normal_computation=True)\n",
    "\n",
    "pcd_Iphone.paint_uniform_color([0.6, 0.6, 0.6])\n",
    "o3d.visualization.draw_geometries([pcd_Iphone])"
   ],
   "metadata": {
    "collapsed": false,
    "ExecuteTime": {
     "end_time": "2025-01-24T14:47:40.109731800Z",
     "start_time": "2025-01-24T14:47:33.686090100Z"
    }
   },
   "id": "482121de1df864e7"
  },
  {
   "cell_type": "markdown",
   "source": [
    "## Multi RANSAC"
   ],
   "metadata": {
    "collapsed": false
   },
   "id": "14bc1da0d11815e5"
  },
  {
   "cell_type": "code",
   "execution_count": 60,
   "outputs": [],
   "source": [
    "front = [ -0.26316981750620544, 0.40283907551778914, 0.87661983002309707 ]\n",
    "lookat = [ -0.11224615038136918, -0.0060122200969514247, 0.24006176520010536 ]\n",
    "up = [ 0.75550742721619912, 0.65112664204123394, -0.072405962774251584 ]\n",
    "zoom = 0.69999999999999996"
   ],
   "metadata": {
    "collapsed": false,
    "ExecuteTime": {
     "end_time": "2025-01-20T11:36:08.024494Z",
     "start_time": "2025-01-20T11:36:07.978312500Z"
    }
   },
   "id": "6e2bd1480ef74c35"
  },
  {
   "cell_type": "code",
   "execution_count": 61,
   "outputs": [
    {
     "name": "stdout",
     "output_type": "stream",
     "text": [
      "Plane equation: -0.04x + 0.89y + 0.45z + -0.12 = 0\n"
     ]
    }
   ],
   "source": [
    "pt_to_plane_dist = 0.028\n",
    "\n",
    "plane_model, inliers = pcd_Iphone.segment_plane(distance_threshold=pt_to_plane_dist, ransac_n=20, num_iterations=1000)\n",
    "[a, b, c, d] = plane_model\n",
    "print(f\"Plane equation: {a:.2f}x + {b:.2f}y + {c:.2f}z + {d:.2f} = 0\")\n",
    "\n",
    "inlier_cloud = pcd_Iphone.select_by_index(inliers)\n",
    "outlier_cloud = pcd_Iphone.select_by_index(inliers, invert=True)\n",
    "inlier_cloud.paint_uniform_color([1.0, 0, 0])\n",
    "outlier_cloud.paint_uniform_color([0.6, 0.6, 0.6])\n",
    "\n",
    "o3d.visualization.draw_geometries([inlier_cloud, outlier_cloud], zoom=zoom, front=front, lookat=lookat, up=up)\n"
   ],
   "metadata": {
    "collapsed": false,
    "ExecuteTime": {
     "end_time": "2025-01-20T11:36:09.768994200Z",
     "start_time": "2025-01-20T11:36:07.987312100Z"
    }
   },
   "id": "21e9edcaca253390"
  },
  {
   "cell_type": "code",
   "execution_count": 62,
   "outputs": [
    {
     "name": "stdout",
     "output_type": "stream",
     "text": [
      "pass 0 / 6 done.\n",
      "pass 1 / 6 done.\n",
      "pass 2 / 6 done.\n",
      "pass 3 / 6 done.\n"
     ]
    },
    {
     "ename": "RuntimeError",
     "evalue": "[Open3D Error] (class std::tuple<class Eigen::Matrix<double,4,1,0,4,1>,class std::vector<unsigned __int64,class std::allocator<unsigned __int64> > > __cdecl open3d::geometry::PointCloud::SegmentPlane(const double,const int,const int,const double) const) D:\\a\\Open3D\\Open3D\\cpp\\open3d\\geometry\\PointCloudSegmentation.cpp:175: There must be at least 'ransac_n' points.\n",
     "output_type": "error",
     "traceback": [
      "\u001B[1;31m---------------------------------------------------------------------------\u001B[0m",
      "\u001B[1;31mRuntimeError\u001B[0m                              Traceback (most recent call last)",
      "Cell \u001B[1;32mIn[62], line 10\u001B[0m\n\u001B[0;32m      8\u001B[0m \u001B[38;5;28;01mfor\u001B[39;00m i \u001B[38;5;129;01min\u001B[39;00m \u001B[38;5;28mrange\u001B[39m(max_plane_idx):\n\u001B[0;32m      9\u001B[0m     colors \u001B[38;5;241m=\u001B[39m plt\u001B[38;5;241m.\u001B[39mget_cmap(\u001B[38;5;124m\"\u001B[39m\u001B[38;5;124mtab20\u001B[39m\u001B[38;5;124m\"\u001B[39m)(i)\n\u001B[1;32m---> 10\u001B[0m     segment_models[i], inliers \u001B[38;5;241m=\u001B[39m \u001B[43mrest\u001B[49m\u001B[38;5;241;43m.\u001B[39;49m\u001B[43msegment_plane\u001B[49m\u001B[43m(\u001B[49m\u001B[43mdistance_threshold\u001B[49m\u001B[38;5;241;43m=\u001B[39;49m\u001B[43mpt_to_plane_dist\u001B[49m\u001B[43m,\u001B[49m\u001B[43m \u001B[49m\u001B[43mransac_n\u001B[49m\u001B[38;5;241;43m=\u001B[39;49m\u001B[38;5;241;43m3\u001B[39;49m\u001B[43m,\u001B[49m\u001B[43m \u001B[49m\u001B[43mnum_iterations\u001B[49m\u001B[38;5;241;43m=\u001B[39;49m\u001B[38;5;241;43m1000\u001B[39;49m\u001B[43m)\u001B[49m\n\u001B[0;32m     11\u001B[0m     segments[i] \u001B[38;5;241m=\u001B[39m rest\u001B[38;5;241m.\u001B[39mselect_by_index(inliers)\n\u001B[0;32m     12\u001B[0m     segments[i]\u001B[38;5;241m.\u001B[39mpaint_uniform_color(\u001B[38;5;28mlist\u001B[39m(colors[:\u001B[38;5;241m3\u001B[39m]))\n",
      "\u001B[1;31mRuntimeError\u001B[0m: [Open3D Error] (class std::tuple<class Eigen::Matrix<double,4,1,0,4,1>,class std::vector<unsigned __int64,class std::allocator<unsigned __int64> > > __cdecl open3d::geometry::PointCloud::SegmentPlane(const double,const int,const int,const double) const) D:\\a\\Open3D\\Open3D\\cpp\\open3d\\geometry\\PointCloudSegmentation.cpp:175: There must be at least 'ransac_n' points.\n"
     ]
    }
   ],
   "source": [
    "max_plane_idx = 6\n",
    "pt_to_plane_dist = 0.02\n",
    "\n",
    "segment_models = {}\n",
    "segments = {}\n",
    "rest = pcd_Iphone\n",
    "\n",
    "for i in range(max_plane_idx):\n",
    "    colors = plt.get_cmap(\"tab20\")(i)\n",
    "    segment_models[i], inliers = rest.segment_plane(distance_threshold=pt_to_plane_dist, ransac_n=3, num_iterations=1000)\n",
    "    segments[i] = rest.select_by_index(inliers)\n",
    "    segments[i].paint_uniform_color(list(colors[:3]))\n",
    "    rest = rest.select_by_index(inliers, invert=True)\n",
    "    print(\"pass\", i, \"/\", max_plane_idx, \"done.\")\n",
    "\n",
    "o3d.visualization.draw_geometries([segments[i] for i in range(max_plane_idx)] + [rest], zoom=zoom, front=front, lookat=lookat, up=up)\n"
   ],
   "metadata": {
    "collapsed": false,
    "ExecuteTime": {
     "end_time": "2025-01-20T11:36:10.060801300Z",
     "start_time": "2025-01-20T11:36:09.752085900Z"
    }
   },
   "id": "8d6f4ea03296b12d"
  },
  {
   "cell_type": "markdown",
   "source": [
    "## Plane segmentation with RANSAC"
   ],
   "metadata": {
    "collapsed": false
   },
   "id": "656244480f7015ca"
  },
  {
   "cell_type": "code",
   "execution_count": 130,
   "outputs": [],
   "source": [
    "plane_model, inliers = pcd_Iphone.segment_plane(\n",
    "    distance_threshold=0.01,\n",
    "    ransac_n=10,\n",
    "    num_iterations=6000,\n",
    "    probability=1\n",
    ")\n",
    "\n",
    "[a, b, c, d] = plane_model.tolist()\n",
    "\n",
    "# Inlier- und Outlier-Punktwolken\n",
    "inlier_cloud = pcd_Iphone.select_by_index(inliers)\n",
    "inlier_cloud = inlier_cloud.paint_uniform_color([1.0, 0, 0])\n",
    "outlier_cloud = pcd_Iphone.select_by_index(inliers, invert=True)\n",
    "\n",
    "# Darstellung der Punktwolken\n",
    "o3d.visualization.draw_geometries(\n",
    "    [inlier_cloud, outlier_cloud])\n"
   ],
   "metadata": {
    "collapsed": false,
    "ExecuteTime": {
     "end_time": "2025-01-24T14:48:13.416570700Z",
     "start_time": "2025-01-24T14:48:03.545763900Z"
    }
   },
   "id": "9f5a791bd9d7906a"
  },
  {
   "cell_type": "code",
   "execution_count": null,
   "outputs": [],
   "source": [
    "pcd_Iphone = outlier_cloud"
   ],
   "metadata": {
    "collapsed": false,
    "ExecuteTime": {
     "start_time": "2025-01-20T11:36:10.060801300Z"
    }
   },
   "id": "e48890f776ce5d89"
  },
  {
   "cell_type": "code",
   "execution_count": null,
   "outputs": [],
   "source": [
    "o3d.visualization.draw_geometries([pcd_Iphone], window_name=\"\")"
   ],
   "metadata": {
    "collapsed": false,
    "ExecuteTime": {
     "end_time": "2025-01-20T11:36:10.084800800Z",
     "start_time": "2025-01-20T11:36:10.060801300Z"
    }
   },
   "id": "ace07bdbb3baaa40"
  },
  {
   "cell_type": "markdown",
   "source": [
    "## SOR again"
   ],
   "metadata": {
    "collapsed": false
   },
   "id": "5032234e569fd5da"
  },
  {
   "cell_type": "code",
   "execution_count": null,
   "outputs": [],
   "source": [
    "#ggf. kann man für die restlichen punkte nun wieder SOR nutzen?\n",
    "cl, ind = pcd_Iphone.remove_statistical_outlier(nb_neighbors=1000, std_ratio=3.0) "
   ],
   "metadata": {
    "collapsed": false,
    "ExecuteTime": {
     "start_time": "2025-01-20T11:36:10.061800800Z"
    }
   },
   "id": "116c594e0512a6b"
  },
  {
   "cell_type": "code",
   "execution_count": null,
   "outputs": [],
   "source": [
    "display_inlier_outlier(pcd_Iphone, ind)"
   ],
   "metadata": {
    "collapsed": false,
    "ExecuteTime": {
     "start_time": "2025-01-20T11:36:10.062802500Z"
    }
   },
   "id": "7e5cddc031889f6e"
  },
  {
   "cell_type": "code",
   "execution_count": null,
   "outputs": [],
   "source": [
    "# Cleaned PC\n",
    "pcd_Iphone = pcd_Iphone.select_by_index(ind)  # Nur Inlier"
   ],
   "metadata": {
    "collapsed": false,
    "ExecuteTime": {
     "start_time": "2025-01-20T11:36:10.063801800Z"
    }
   },
   "id": "344e2540751ba382"
  },
  {
   "cell_type": "markdown",
   "source": [
    "Visualizing the new PC"
   ],
   "metadata": {
    "collapsed": false
   },
   "id": "6f711624ceb16b43"
  },
  {
   "cell_type": "code",
   "execution_count": null,
   "outputs": [],
   "source": [
    "o3d.visualization.draw_geometries([pcd_Iphone])"
   ],
   "metadata": {
    "collapsed": false,
    "ExecuteTime": {
     "start_time": "2025-01-20T11:36:10.064802700Z"
    }
   },
   "id": "bca0a1b7869c55e0"
  },
  {
   "cell_type": "markdown",
   "source": [
    "## Hidden point removal"
   ],
   "metadata": {
    "collapsed": false
   },
   "id": "3fecadf62c0f4faf"
  },
  {
   "cell_type": "code",
   "execution_count": null,
   "outputs": [],
   "source": [],
   "metadata": {
    "collapsed": false,
    "ExecuteTime": {
     "start_time": "2025-01-20T11:36:10.066801600Z"
    }
   },
   "id": "d515024fc9cc113e"
  },
  {
   "cell_type": "markdown",
   "source": [
    "# Sonstiges/Tests"
   ],
   "metadata": {
    "collapsed": false
   },
   "id": "d9795dfa927ff3c"
  },
  {
   "cell_type": "markdown",
   "source": [
    "## Entzerrung"
   ],
   "metadata": {
    "collapsed": false
   },
   "id": "69ca09e0b3ce8506"
  },
  {
   "cell_type": "code",
   "execution_count": null,
   "outputs": [],
   "source": [
    "depth_image = cv2.imread(url, cv2.IMREAD_UNCHANGED)\n",
    "\n",
    "if depth_image is None:\n",
    "    raise ValueError(\"Tiefenkarte konnte nicht geladen werden.\")\n",
    "if depth_image.dtype != np.uint16:\n",
    "    print(\"Tiefenkarte ist nicht im 16-Bit-Format. Konvertiere...\")\n",
    "    if depth_image.dtype == np.uint8:\n",
    "        depth_image = (depth_image.astype(np.uint16)) * 256  # Skalieren, falls 8-Bit\n",
    "    else:\n",
    "        raise ValueError(f\"Unsupported depth image dtype: {depth_image.dtype}\")\n",
    "\n",
    "intrinsic_matrix = np.array([\n",
    "    [fx_scaled, 0, cx_scaled],\n",
    "    [0, fy_scaled, cy_scaled],\n",
    "    [0, 0, 1]\n",
    "])\n",
    "\n",
    "# undisort coeffs from exif data\n",
    "distortion_coeffs = np.array([\n",
    "    0.0,  # k1\n",
    "    -0.1,  # k2 (reduziert)\n",
    "    0.0,  # p1\n",
    "    0.0,  # p2\n",
    "    0.0   # k3\n",
    "])\n",
    "\n",
    "# undistort depthmap\n",
    "new_camera_matrix, roi = cv2.getOptimalNewCameraMatrix(\n",
    "    intrinsic_matrix,\n",
    "    distortion_coeffs,\n",
    "    (dm_width_Iphone, dm_height_Iphone),\n",
    "    alpha=1  # 1: Behalte alle Pixel\n",
    ")\n",
    "\n",
    "undistorted_depth = cv2.undistort(\n",
    "    depth_image,\n",
    "    intrinsic_matrix,\n",
    "    distortion_coeffs,\n",
    "    None\n",
    ")\n",
    "\n",
    "depth_image_o3d = o3d.geometry.Image(undistorted_depth)\n",
    "\n",
    "intrinsics = o3d.camera.PinholeCameraIntrinsic(\n",
    "    width=dm_width_Iphone,\n",
    "    height=dm_height_Iphone,\n",
    "    fx=new_camera_matrix[0, 0],  # Angepasste Fokallänge x\n",
    "    fy=new_camera_matrix[1, 1],  # Angepasste Fokallänge y\n",
    "    cx=new_camera_matrix[0, 2],  # Angepasster Hauptpunkt x\n",
    "    cy=new_camera_matrix[1, 2]   # Angepasster Hauptpunkt y\n",
    ")\n",
    "\n",
    "pcd = o3d.geometry.PointCloud.create_from_depth_image(\n",
    "    depth_image_o3d,\n",
    "    intrinsics,\n",
    "    depth_scale=1000.0,  # Skala für Tiefenwerte (z.B. mm -> Meter)\n",
    "    project_valid_depth_only=True\n",
    ")\n",
    "\n",
    "pcd.transform(extrinsics)\n",
    "\n",
    "o3d.visualization.draw_geometries([pcd])\n"
   ],
   "metadata": {
    "collapsed": false,
    "ExecuteTime": {
     "start_time": "2025-01-20T11:36:10.066801600Z"
    }
   },
   "id": "ff9cee4730028557"
  },
  {
   "cell_type": "code",
   "execution_count": null,
   "outputs": [],
   "source": [
    "# cv2.imshow(\"Original Depth Map\", depth_image)\n",
    "# cv2.imshow(\"Undistorted Depth Map\", undistorted_depth)\n",
    "# cv2.waitKey(0)"
   ],
   "metadata": {
    "collapsed": false,
    "ExecuteTime": {
     "start_time": "2025-01-20T11:36:10.067801200Z"
    }
   },
   "id": "de71974dd6dcffe9"
  },
  {
   "cell_type": "markdown",
   "source": [
    "## DBSCAN-Clustering"
   ],
   "metadata": {
    "collapsed": false
   },
   "id": "25b73866ac7bb644"
  },
  {
   "cell_type": "code",
   "execution_count": null,
   "outputs": [],
   "source": [
    "# DBSCAN-Clustering\n",
    "eps = 0.02  # Radius für Nachbarn\n",
    "min_points = 50  # Mindestanzahl von Punkten in einem Cluster\n",
    "labels = np.array(pcd_Iphone.cluster_dbscan(eps=eps, min_points=min_points, print_progress=True))\n",
    "\n",
    "num_clusters = len(set(labels)) - (1 if -1 in labels else 0)\n",
    "print(f\"Anzahl der Cluster: {num_clusters}\")\n",
    "\n",
    "# colors for clusters\n",
    "colors = plt.get_cmap(\"tab20\")(labels / (num_clusters if num_clusters > 0 else 1))\n",
    "colors[labels < 0] = 0  # Rauschen (Label -1) schwarz färben\n",
    "pcd_Iphone.colors = o3d.utility.Vector3dVector(colors[:, :3])\n",
    "\n",
    "o3d.visualization.draw_geometries([pcd_Iphone])"
   ],
   "metadata": {
    "collapsed": false,
    "ExecuteTime": {
     "start_time": "2025-01-20T11:36:10.068801800Z"
    }
   },
   "id": "49612a7a81425ab"
  },
  {
   "cell_type": "code",
   "execution_count": null,
   "outputs": [],
   "source": [
    "for cluster_id in np.unique(labels):\n",
    "    cluster_size = np.sum(labels == cluster_id)\n",
    "    if cluster_id == -1:\n",
    "        print(f\"Rauschen: {cluster_size} Punkte\")\n",
    "    else:\n",
    "        print(f\"Cluster {cluster_id}: {cluster_size} Punkte\")"
   ],
   "metadata": {
    "collapsed": false,
    "ExecuteTime": {
     "start_time": "2025-01-20T11:36:10.068801800Z"
    }
   },
   "id": "206a8fec03afed20"
  },
  {
   "cell_type": "code",
   "execution_count": null,
   "outputs": [],
   "source": [
    "# ID des zu entfernenden Clusters\n",
    "cluster_to_remove = 1  # Ersetzen Sie dies durch die Cluster-ID des unerwünschten Clusters\n",
    "\n",
    "# Indizes der Punkte im Cluster finden\n",
    "indices_to_remove = np.where(labels == cluster_to_remove)[0]\n",
    "\n",
    "# Punktwolke ohne das unerwünschte Cluster erstellen\n",
    "remaining_cloud = pcd_Iphone.select_by_index(indices_to_remove, invert=True)\n",
    "\n",
    "# Visualisierung der bereinigten Punktwolke\n",
    "o3d.visualization.draw_geometries([remaining_cloud], window_name=\"Bereinigte Punktwolke\")\n"
   ],
   "metadata": {
    "collapsed": false,
    "ExecuteTime": {
     "start_time": "2025-01-20T11:36:10.070802900Z"
    }
   },
   "id": "552300631fa92b9e"
  },
  {
   "cell_type": "markdown",
   "source": [
    "## Convex Hull\n",
    "Die Konvexe Hülle wird ggf. relevant für die Volumenberechnung, sobald ich nur das Zielobjekt extrahieren kann. Problem ist nur bei dieser Methode, dass bspw. runde Objekte überschätzt werden. "
   ],
   "metadata": {
    "collapsed": false
   },
   "id": "fdf349ae545468e9"
  },
  {
   "cell_type": "code",
   "execution_count": null,
   "outputs": [],
   "source": [
    "scale_factor = 1000  # Skalieren um den Faktor 1000 (z. B. mm -> m)\n",
    "remaining_cloud.scale(scale_factor, center=remaining_cloud.get_center())"
   ],
   "metadata": {
    "collapsed": false,
    "ExecuteTime": {
     "start_time": "2025-01-20T11:36:10.071802800Z"
    }
   },
   "id": "d5091539ec43ab0b"
  },
  {
   "cell_type": "code",
   "execution_count": null,
   "outputs": [],
   "source": [
    "# calculate hull\n",
    "hull_mesh, hull_vertices = remaining_cloud.compute_convex_hull()\n",
    "\n",
    "hull_ls = o3d.geometry.LineSet.create_from_triangle_mesh(hull_mesh)\n",
    "\n",
    "hull_ls.paint_uniform_color([1, 0, 0])\n",
    "\n",
    "o3d.visualization.draw_geometries([remaining_cloud, hull_ls])\n"
   ],
   "metadata": {
    "collapsed": false,
    "ExecuteTime": {
     "start_time": "2025-01-20T11:36:10.072800900Z"
    }
   },
   "id": "42f88c909e06b7d3"
  },
  {
   "cell_type": "code",
   "execution_count": null,
   "outputs": [],
   "source": [
    "# Konvexe Hülle aus der Punktwolke berechnen\n",
    "hull, _ = remaining_cloud.compute_convex_hull()\n",
    "\n",
    "#Volumen der konvexen Hülle berechnen\n",
    "volume = hull.get_volume()\n",
    "\n",
    "print(f\"Volumen der konvexen Hülle: {volume:.2f} Einheiten^3\")"
   ],
   "metadata": {
    "collapsed": false,
    "ExecuteTime": {
     "start_time": "2025-01-20T11:36:10.073801700Z"
    }
   },
   "id": "ca286370d50257f6"
  },
  {
   "cell_type": "code",
   "execution_count": null,
   "outputs": [],
   "source": [
    "bounds = remaining_cloud.get_max_bound() - remaining_cloud.get_min_bound()\n",
    "print(f\"Ausdehnung der Punktwolke: x={bounds[0]:.2f}, y={bounds[1]:.2f}, z={bounds[2]:.2f}\")\n"
   ],
   "metadata": {
    "collapsed": false,
    "ExecuteTime": {
     "start_time": "2025-01-20T11:36:10.075801500Z"
    }
   },
   "id": "d9747f53592e117"
  },
  {
   "cell_type": "code",
   "execution_count": null,
   "outputs": [],
   "source": [
    "print(f\"Anzahl der Punkte in der konvexen Hülle: {len(hull.vertices)}\")\n",
    "print(f\"Anzahl der Dreiecke in der konvexen Hülle: {len(hull.triangles)}\")\n"
   ],
   "metadata": {
    "collapsed": false,
    "ExecuteTime": {
     "start_time": "2025-01-20T11:36:10.076802100Z"
    }
   },
   "id": "7b0fd9718c043ea4"
  },
  {
   "cell_type": "code",
   "execution_count": null,
   "outputs": [],
   "source": [
    "# Visualisierung der Hülle und Punktwolke\n",
    "hull.paint_uniform_color([1, 0, 0])  # Hülle rot färben\n",
    "o3d.visualization.draw_geometries([remaining_cloud, hull])"
   ],
   "metadata": {
    "collapsed": false,
    "ExecuteTime": {
     "start_time": "2025-01-20T11:36:10.077801600Z"
    }
   },
   "id": "d4317f866b49cf7e"
  },
  {
   "cell_type": "markdown",
   "source": [
    "## Mesh\n",
    "Ggf. auch interessant"
   ],
   "metadata": {
    "collapsed": false
   },
   "id": "893e80589c9fa959"
  },
  {
   "cell_type": "markdown",
   "source": [
    "## Interaktive PC"
   ],
   "metadata": {
    "collapsed": false
   },
   "id": "1074126d208c070d"
  },
  {
   "cell_type": "code",
   "execution_count": null,
   "outputs": [],
   "source": [
    "# Punktwolke interaktiv anzeigen\n",
    "print(\"Drücke 'Shift + Linksklick', um Punkte auszuwählen, und 'Shift + Rechtsklick', um Auswahl aufzuheben.\")\n",
    "picked_points = o3d.visualization.draw_geometries_with_editing([pcd])\n",
    "\n",
    "# Ausgewählte Punkt-Indizes anzeigen\n",
    "print(f\"Ausgewählte Punkt-Indizes: {picked_points}\")"
   ],
   "metadata": {
    "collapsed": false,
    "ExecuteTime": {
     "start_time": "2025-01-20T11:36:10.078803200Z"
    }
   },
   "id": "a4b497526f0b6b97"
  },
  {
   "cell_type": "code",
   "execution_count": null,
   "outputs": [],
   "source": [
    "print(picked_points)"
   ],
   "metadata": {
    "collapsed": false,
    "ExecuteTime": {
     "start_time": "2025-01-20T11:36:10.079801300Z"
    }
   },
   "id": "6111c305f9b8c2cb"
  },
  {
   "cell_type": "code",
   "execution_count": null,
   "outputs": [],
   "source": [
    "import numpy as np\n",
    "\n",
    "# Koordinaten der Punkte\n",
    "point1 = np.array([-0.12, 0.0076, 0.24])  # Punkt 1 (#250552)\n",
    "point2 = np.array([-0.034, -0.071, 0.16])  # Punkt 2 (#52765)\n",
    "\n",
    "# Euklidische Distanz berechnen\n",
    "distance = np.linalg.norm(point2 - point1)\n",
    "\n",
    "# Ergebnis ausgeben\n",
    "print(f\"Abstand zwischen den Punkten: {distance:.6f} Einheiten\")\n"
   ],
   "metadata": {
    "collapsed": false,
    "ExecuteTime": {
     "start_time": "2025-01-20T11:36:10.080801400Z"
    }
   },
   "id": "a4e060c634c2dc13"
  },
  {
   "cell_type": "markdown",
   "source": [
    "weiteres"
   ],
   "metadata": {
    "collapsed": false
   },
   "id": "917f36d5b264b25a"
  },
  {
   "cell_type": "code",
   "execution_count": null,
   "outputs": [],
   "source": [
    "# Punktkoordinaten abrufen\n",
    "points = np.asarray(pcd_Iphone.points)\n",
    "\n",
    "# Minimum und Maximum der Z-Achse (Tiefe) prüfen\n",
    "min_z = np.min(points[:, 2])\n",
    "max_z = np.max(points[:, 2])\n",
    "\n",
    "print(f\"Minimale Z-Tiefe: {min_z}\")\n",
    "print(f\"Maximale Z-Tiefe: {max_z}\")"
   ],
   "metadata": {
    "collapsed": false,
    "ExecuteTime": {
     "start_time": "2025-01-20T11:36:10.081802300Z"
    }
   },
   "id": "109926315faa3bd4"
  },
  {
   "cell_type": "code",
   "execution_count": null,
   "outputs": [],
   "source": [
    "# unit of measurement herausfinden\n",
    "depth_array_Iphone"
   ],
   "metadata": {
    "collapsed": false,
    "ExecuteTime": {
     "start_time": "2025-01-20T11:36:10.082801300Z"
    }
   },
   "id": "5dd79fb504bb1d09"
  },
  {
   "cell_type": "code",
   "execution_count": null,
   "outputs": [],
   "source": [],
   "metadata": {
    "collapsed": false,
    "ExecuteTime": {
     "start_time": "2025-01-20T11:36:10.083800900Z"
    }
   },
   "id": "93669adab566c01"
  }
 ],
 "metadata": {
  "kernelspec": {
   "display_name": "Python 3",
   "language": "python",
   "name": "python3"
  },
  "language_info": {
   "codemirror_mode": {
    "name": "ipython",
    "version": 2
   },
   "file_extension": ".py",
   "mimetype": "text/x-python",
   "name": "python",
   "nbconvert_exporter": "python",
   "pygments_lexer": "ipython2",
   "version": "2.7.6"
  }
 },
 "nbformat": 4,
 "nbformat_minor": 5
}
