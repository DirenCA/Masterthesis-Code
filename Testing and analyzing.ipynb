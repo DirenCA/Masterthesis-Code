{
 "cells": [
  {
   "cell_type": "code",
   "execution_count": 56,
   "outputs": [],
   "source": [
    "from PIL import Image, ImageOps\n",
    "import matplotlib.pyplot as plt\n",
    "import numpy as np\n",
    "import open3d as o3d\n",
    "import cv2\n",
    "from camera_intrinsic import mtx\n",
    "from exif_extract import transform_jpeg_to_depthmap_samsungs20\n",
    "from exif_extract import transform_jpeg_to_depthmap_iphone"
   ],
   "metadata": {
    "collapsed": false,
    "ExecuteTime": {
     "end_time": "2025-01-05T16:14:33.695663700Z",
     "start_time": "2025-01-05T16:14:33.428353100Z"
    }
   },
   "id": "39665618ec521b93"
  },
  {
   "cell_type": "markdown",
   "source": [
    "# Standard Variablen"
   ],
   "metadata": {
    "collapsed": false
   },
   "id": "ebedebab02d00c23"
  },
  {
   "cell_type": "markdown",
   "source": [
    "IPhone Bilder Url"
   ],
   "metadata": {
    "collapsed": false
   },
   "id": "37da22e3d89b9db2"
  },
  {
   "cell_type": "code",
   "execution_count": 57,
   "outputs": [],
   "source": [
    "url = r\"C:\\Users\\Diren\\Nextcloud\\HTW\\4.Semester-Masterarbeit\\Masterarbeit\\Code\\TestBilder\\20250105_150944.jpg\""
   ],
   "metadata": {
    "collapsed": false,
    "ExecuteTime": {
     "end_time": "2025-01-05T16:14:33.746664600Z",
     "start_time": "2025-01-05T16:14:33.438239200Z"
    }
   },
   "id": "16a012394f44d047"
  },
  {
   "cell_type": "markdown",
   "source": [
    "Iphone Bilder"
   ],
   "metadata": {
    "collapsed": false
   },
   "id": "bdab3294ac00a3a6"
  },
  {
   "cell_type": "code",
   "execution_count": null,
   "outputs": [],
   "source": [],
   "metadata": {
    "collapsed": false
   },
   "id": "32cce5407d2494b6"
  },
  {
   "cell_type": "code",
   "execution_count": 58,
   "outputs": [
    {
     "name": "stdout",
     "output_type": "stream",
     "text": [
      "Keine Tiefenkarte gefunden oder extrahiert.\n"
     ]
    },
    {
     "ename": "FileNotFoundError",
     "evalue": "[Errno 2] No such file or directory: 'C:\\\\Users\\\\Diren\\\\Nextcloud\\\\HTW\\\\4.Semester-Masterarbeit\\\\Masterarbeit\\\\Code\\\\Tiefenkarten\\\\20250105_150944_DepthMap.tiff'",
     "output_type": "error",
     "traceback": [
      "\u001B[1;31m---------------------------------------------------------------------------\u001B[0m",
      "\u001B[1;31mFileNotFoundError\u001B[0m                         Traceback (most recent call last)",
      "Cell \u001B[1;32mIn[58], line 4\u001B[0m\n\u001B[0;32m      1\u001B[0m rgb_image_url, depth_image_url \u001B[38;5;241m=\u001B[39m transform_jpeg_to_depthmap(url)\n\u001B[0;32m      3\u001B[0m \u001B[38;5;66;03m#Images\u001B[39;00m\n\u001B[1;32m----> 4\u001B[0m depth_im \u001B[38;5;241m=\u001B[39m \u001B[43mImage\u001B[49m\u001B[38;5;241;43m.\u001B[39;49m\u001B[43mopen\u001B[49m\u001B[43m(\u001B[49m\u001B[43mdepth_image_url\u001B[49m\u001B[43m)\u001B[49m  \u001B[38;5;66;03m# Quelle: https://stackoverflow.com/a/67346474\u001B[39;00m\n\u001B[0;32m      5\u001B[0m rgb_im \u001B[38;5;241m=\u001B[39m Image\u001B[38;5;241m.\u001B[39mopen(rgb_image_url)\n\u001B[0;32m      8\u001B[0m \u001B[38;5;66;03m# print(depth_min, depth_max)\u001B[39;00m\n\u001B[0;32m      9\u001B[0m \u001B[38;5;66;03m# print(depth_array)  # ggf. herausfinden, in welcher einheit die Entfernung angegeben ist (cm, mm, etc. ?) -> vermutlich cm?\u001B[39;00m\n",
      "File \u001B[1;32m~\\Masterarbeit\\venv\\Lib\\site-packages\\PIL\\Image.py:3469\u001B[0m, in \u001B[0;36mopen\u001B[1;34m(fp, mode, formats)\u001B[0m\n\u001B[0;32m   3466\u001B[0m     filename \u001B[38;5;241m=\u001B[39m os\u001B[38;5;241m.\u001B[39mpath\u001B[38;5;241m.\u001B[39mrealpath(os\u001B[38;5;241m.\u001B[39mfspath(fp))\n\u001B[0;32m   3468\u001B[0m \u001B[38;5;28;01mif\u001B[39;00m filename:\n\u001B[1;32m-> 3469\u001B[0m     fp \u001B[38;5;241m=\u001B[39m builtins\u001B[38;5;241m.\u001B[39mopen(filename, \u001B[38;5;124m\"\u001B[39m\u001B[38;5;124mrb\u001B[39m\u001B[38;5;124m\"\u001B[39m)\n\u001B[0;32m   3470\u001B[0m     exclusive_fp \u001B[38;5;241m=\u001B[39m \u001B[38;5;28;01mTrue\u001B[39;00m\n\u001B[0;32m   3471\u001B[0m \u001B[38;5;28;01melse\u001B[39;00m:\n",
      "\u001B[1;31mFileNotFoundError\u001B[0m: [Errno 2] No such file or directory: 'C:\\\\Users\\\\Diren\\\\Nextcloud\\\\HTW\\\\4.Semester-Masterarbeit\\\\Masterarbeit\\\\Code\\\\Tiefenkarten\\\\20250105_150944_DepthMap.tiff'"
     ]
    }
   ],
   "source": [
    "rgb_image_url, depth_image_url = transform_jpeg_to_depthmap_samsungs20(url)\n",
    "\n",
    "#Images\n",
    "depth_im = Image.open(depth_image_url)  # Quelle: https://stackoverflow.com/a/67346474\n",
    "rgb_im = Image.open(rgb_image_url)\n",
    "\n",
    "\n",
    "# print(depth_min, depth_max)\n",
    "# print(depth_array)  # ggf. herausfinden, in welcher einheit die Entfernung angegeben ist (cm, mm, etc. ?) -> vermutlich cm?"
   ],
   "metadata": {
    "collapsed": false,
    "ExecuteTime": {
     "end_time": "2025-01-05T16:14:34.016664Z",
     "start_time": "2025-01-05T16:14:33.443003600Z"
    }
   },
   "id": "af5334aa03547091"
  },
  {
   "cell_type": "markdown",
   "source": [
    "We need to resize the rgb image later to this size to combine depth map and RGB image and create a RGBD image. First we get the size of the depth map and then resize the RGB image to that size."
   ],
   "metadata": {
    "collapsed": false
   },
   "id": "970d30a62a927650"
  },
  {
   "cell_type": "code",
   "execution_count": 60,
   "outputs": [
    {
     "name": "stdout",
     "output_type": "stream",
     "text": [
      "dm_height:768, dm_width:576\n",
      " rgb_height:566, rgb_width:1008\n",
      "new_rgb_height:768, new_rgb_width:576\n"
     ]
    }
   ],
   "source": [
    "rgb_width, rgb_height = rgb_im.size\n",
    "dm_width, dm_height = depth_im.size  # width and height of depth map image. \n",
    "\n",
    "print(f\"dm_height:{dm_height}, dm_width:{dm_width}\\n rgb_height:{rgb_height}, rgb_width:{rgb_width}\")  # need to scale our RGB image to the size of our depthmap image\n",
    "\n",
    "size = (dm_width, dm_height)  # define new size\n",
    "rgb_im = rgb_im.resize(size)  # fitting the rgb image size to the size of the depth image\n",
    "\n",
    "rgb_width, rgb_height = rgb_im.size\n",
    "print(f\"new_rgb_height:{rgb_height}, new_rgb_width:{rgb_width}\")"
   ],
   "metadata": {
    "collapsed": false,
    "ExecuteTime": {
     "end_time": "2025-01-05T16:14:47.668566700Z",
     "start_time": "2025-01-05T16:14:47.655254900Z"
    }
   },
   "id": "5f2266d267c65d5c"
  },
  {
   "cell_type": "markdown",
   "source": [
    "Getting the images as numpy arrays for later use"
   ],
   "metadata": {
    "collapsed": false
   },
   "id": "d7e4ddee5397e5d2"
  },
  {
   "cell_type": "code",
   "execution_count": 61,
   "outputs": [],
   "source": [
    "depth_array = np.array(depth_im)  # getting the depthmap as a numpy array\n",
    "rgb_array = np.array(rgb_im)  # getting the rgb image as a numpy array"
   ],
   "metadata": {
    "collapsed": false,
    "ExecuteTime": {
     "end_time": "2025-01-05T16:14:48.366406300Z",
     "start_time": "2025-01-05T16:14:48.351546600Z"
    }
   },
   "id": "12cc2b6e80e09492"
  },
  {
   "cell_type": "markdown",
   "source": [
    "We need the images as open3d objects or else we can´t create the RGBD image"
   ],
   "metadata": {
    "collapsed": false
   },
   "id": "30ad51b42447c830"
  },
  {
   "cell_type": "code",
   "execution_count": 62,
   "outputs": [],
   "source": [
    "# convert the arrays to open3d objects Quelle: https://stackoverflow.com/questions/63587617/how-to-create-a-rgbd-image-from-numpy-rgb-array-and-depth-array\n",
    "rgb_o3d = o3d.geometry.Image(rgb_array)\n",
    "depth_o3d = o3d.geometry.Image(depth_array)\n",
    "depth_3d = o3d.geometry.Image(np.ascontiguousarray(depth_array))"
   ],
   "metadata": {
    "collapsed": false,
    "ExecuteTime": {
     "end_time": "2025-01-05T16:14:49.373322200Z",
     "start_time": "2025-01-05T16:14:49.361629500Z"
    }
   },
   "id": "1ff1eecea57644fb"
  },
  {
   "cell_type": "markdown",
   "source": [
    "# Visualizing depth map"
   ],
   "metadata": {
    "collapsed": false
   },
   "id": "a91634b7fa777944"
  },
  {
   "cell_type": "markdown",
   "source": [],
   "metadata": {
    "collapsed": false
   },
   "id": "8f19e3486036beb0"
  },
  {
   "cell_type": "code",
   "execution_count": 67,
   "id": "initial_id",
   "metadata": {
    "collapsed": true,
    "ExecuteTime": {
     "end_time": "2025-01-05T16:16:58.501291700Z",
     "start_time": "2025-01-05T16:16:58.456488800Z"
    }
   },
   "outputs": [
    {
     "ename": "FileNotFoundError",
     "evalue": "[Errno 2] No such file or directory: 'C:\\\\Users\\\\Diren\\\\Nextcloud\\\\HTW\\\\4.Semester-Masterarbeit\\\\Masterarbeit\\\\Code\\\\Tiefenkarten\\\\20250105_150944_DepthMap.tiff'",
     "output_type": "error",
     "traceback": [
      "\u001B[1;31m---------------------------------------------------------------------------\u001B[0m",
      "\u001B[1;31mFileNotFoundError\u001B[0m                         Traceback (most recent call last)",
      "Cell \u001B[1;32mIn[67], line 4\u001B[0m\n\u001B[0;32m      1\u001B[0m uurl \u001B[38;5;241m=\u001B[39m \u001B[38;5;124mr\u001B[39m\u001B[38;5;124m\"\u001B[39m\u001B[38;5;124mC:\u001B[39m\u001B[38;5;124m\\\u001B[39m\u001B[38;5;124mUsers\u001B[39m\u001B[38;5;124m\\\u001B[39m\u001B[38;5;124mDiren\u001B[39m\u001B[38;5;124m\\\u001B[39m\u001B[38;5;124mNextcloud\u001B[39m\u001B[38;5;124m\\\u001B[39m\u001B[38;5;124mHTW\u001B[39m\u001B[38;5;124m\\\u001B[39m\u001B[38;5;124m4.Semester-Masterarbeit\u001B[39m\u001B[38;5;124m\\\u001B[39m\u001B[38;5;124mMasterarbeit\u001B[39m\u001B[38;5;124m\\\u001B[39m\u001B[38;5;124mCode\u001B[39m\u001B[38;5;124m\\\u001B[39m\u001B[38;5;124mIphoneTestBilder\u001B[39m\u001B[38;5;124m\\\u001B[39m\u001B[38;5;124mtesti2.jpg\u001B[39m\u001B[38;5;124m\"\u001B[39m\n\u001B[0;32m      2\u001B[0m depth_im \u001B[38;5;241m=\u001B[39m Image\u001B[38;5;241m.\u001B[39mopen(uurl) \u001B[38;5;66;03m#später löschen\u001B[39;00m\n\u001B[1;32m----> 4\u001B[0m depth_im \u001B[38;5;241m=\u001B[39m \u001B[43mImage\u001B[49m\u001B[38;5;241;43m.\u001B[39;49m\u001B[43mopen\u001B[49m\u001B[43m(\u001B[49m\u001B[43mdepth_image_url\u001B[49m\u001B[43m)\u001B[49m  \u001B[38;5;66;03m# Quelle: https://stackoverflow.com/a/67346474\u001B[39;00m\n\u001B[0;32m      5\u001B[0m dm_width, dm_height \u001B[38;5;241m=\u001B[39m depth_im\u001B[38;5;241m.\u001B[39msize  \u001B[38;5;66;03m# width and height of depthmap image\u001B[39;00m\n\u001B[0;32m      7\u001B[0m depth_array \u001B[38;5;241m=\u001B[39m np\u001B[38;5;241m.\u001B[39marray(depth_im)  \u001B[38;5;66;03m# getting the depthmap as a numpy array\u001B[39;00m\n",
      "File \u001B[1;32m~\\Masterarbeit\\venv\\Lib\\site-packages\\PIL\\Image.py:3469\u001B[0m, in \u001B[0;36mopen\u001B[1;34m(fp, mode, formats)\u001B[0m\n\u001B[0;32m   3466\u001B[0m     filename \u001B[38;5;241m=\u001B[39m os\u001B[38;5;241m.\u001B[39mpath\u001B[38;5;241m.\u001B[39mrealpath(os\u001B[38;5;241m.\u001B[39mfspath(fp))\n\u001B[0;32m   3468\u001B[0m \u001B[38;5;28;01mif\u001B[39;00m filename:\n\u001B[1;32m-> 3469\u001B[0m     fp \u001B[38;5;241m=\u001B[39m builtins\u001B[38;5;241m.\u001B[39mopen(filename, \u001B[38;5;124m\"\u001B[39m\u001B[38;5;124mrb\u001B[39m\u001B[38;5;124m\"\u001B[39m)\n\u001B[0;32m   3470\u001B[0m     exclusive_fp \u001B[38;5;241m=\u001B[39m \u001B[38;5;28;01mTrue\u001B[39;00m\n\u001B[0;32m   3471\u001B[0m \u001B[38;5;28;01melse\u001B[39;00m:\n",
      "\u001B[1;31mFileNotFoundError\u001B[0m: [Errno 2] No such file or directory: 'C:\\\\Users\\\\Diren\\\\Nextcloud\\\\HTW\\\\4.Semester-Masterarbeit\\\\Masterarbeit\\\\Code\\\\Tiefenkarten\\\\20250105_150944_DepthMap.tiff'"
     ]
    }
   ],
   "source": [
    "depth_im = Image.open(depth_image_url)  # Quelle: https://stackoverflow.com/a/67346474\n",
    "dm_width, dm_height = depth_im.size  # width and height of depthmap image\n",
    "\n",
    "depth_array = np.array(depth_im)  # getting the depthmap as a numpy array\n",
    "\n",
    "# plotting the depthmap\n",
    "plt.imshow(depth_array)\n",
    "plt.colorbar(label=\"Depth Value\")\n",
    "plt.title(\"DepthMap\")\n",
    "plt.ylabel(\"Height\")\n",
    "plt.xlabel(\"Width\")\n",
    "plt.show()\n"
   ]
  },
  {
   "cell_type": "markdown",
   "source": [
    "### Processing Depth Map"
   ],
   "metadata": {
    "collapsed": false
   },
   "id": "9353088785aca80b"
  },
  {
   "cell_type": "markdown",
   "source": [
    "Normalisierung"
   ],
   "metadata": {
    "collapsed": false
   },
   "id": "55d072b3143aa44e"
  },
  {
   "cell_type": "code",
   "execution_count": null,
   "outputs": [],
   "source": [
    "#depth_array = cv2.normalize(depth_array, None, 0, 255, cv2.NORM_MINMAX)"
   ],
   "metadata": {
    "collapsed": false,
    "ExecuteTime": {
     "start_time": "2025-01-05T16:14:33.701665400Z"
    }
   },
   "id": "565726a5988eb1ee"
  },
  {
   "cell_type": "markdown",
   "source": [
    "Filterung"
   ],
   "metadata": {
    "collapsed": false
   },
   "id": "d0ae144eabd6eb3b"
  },
  {
   "cell_type": "code",
   "execution_count": null,
   "outputs": [],
   "source": [],
   "metadata": {
    "collapsed": false,
    "ExecuteTime": {
     "start_time": "2025-01-05T16:14:33.702664400Z"
    }
   },
   "id": "2a35190ee74f7799"
  },
  {
   "cell_type": "markdown",
   "source": [
    "# Create RGBD image"
   ],
   "metadata": {
    "collapsed": false
   },
   "id": "e6bc2e5080091bec"
  },
  {
   "cell_type": "code",
   "execution_count": null,
   "outputs": [],
   "source": [
    "rgbd = o3d.geometry.RGBDImage.create_from_color_and_depth(rgb_o3d, depth_o3d)  # Quelle:https://www.open3d.org/docs/latest/python_api/open3d.geometry.RGBDImage.html und https://stackoverflo.com/questions/63587617/how-to-create-a-rgbd-image-from-numpy-rgb-array-and-depth-array"
   ],
   "metadata": {
    "collapsed": false,
    "ExecuteTime": {
     "start_time": "2025-01-05T16:14:33.703666900Z"
    }
   },
   "id": "72ae92bfc4cc3f4d"
  },
  {
   "cell_type": "markdown",
   "source": [
    "Comparison of RGB and depth map image"
   ],
   "metadata": {
    "collapsed": false
   },
   "id": "a614b8ec2dd05d5"
  },
  {
   "cell_type": "code",
   "execution_count": null,
   "outputs": [],
   "source": [
    "plt.subplot(1, 2, 1)\n",
    "plt.title(\"Farbbild\")\n",
    "plt.imshow(rgbd.color)\n",
    "plt.subplot(1, 2, 2)\n",
    "plt.title(\"Tiefenbild\")\n",
    "plt.imshow(rgbd.depth)\n",
    "plt.show()"
   ],
   "metadata": {
    "collapsed": false,
    "ExecuteTime": {
     "start_time": "2025-01-05T16:14:33.705664900Z"
    }
   },
   "id": "2e778af0be6ac3d3"
  },
  {
   "cell_type": "markdown",
   "source": [
    "# Creating point cloud"
   ],
   "metadata": {
    "collapsed": false
   },
   "id": "80540d377b4957c0"
  },
  {
   "cell_type": "markdown",
   "source": [
    "## Get camera intrinsics"
   ],
   "metadata": {
    "collapsed": false
   },
   "id": "9b1fe1ebed2c48d7"
  },
  {
   "cell_type": "markdown",
   "source": [
    "With the intrinsics of the camera that took the photo we are able to correct distortions "
   ],
   "metadata": {
    "collapsed": false
   },
   "id": "99b8049378a98c5d"
  },
  {
   "cell_type": "code",
   "execution_count": null,
   "outputs": [],
   "source": [
    "fx = mtx[0, 0]\n",
    "fy = mtx[1, 1]\n",
    "cx = mtx[0, 2]\n",
    "cy = mtx[1, 2]\n",
    "\n",
    "print(f\"fx: {fx}, fy: {fy}, cx: {cx}, cy: {cy}\")\n"
   ],
   "metadata": {
    "collapsed": false,
    "ExecuteTime": {
     "start_time": "2025-01-05T16:14:33.706665200Z"
    }
   },
   "id": "fa24f48c6a0ebcfc"
  },
  {
   "cell_type": "code",
   "execution_count": null,
   "outputs": [],
   "source": [
    "intrinsic = o3d.camera.PinholeCameraIntrinsic(\n",
    "    dm_width, \n",
    "    dm_height, \n",
    "    fx,  # Fokuslänge x\n",
    "    fy,  # Fokuslänge y\n",
    "    cx,  # optisches Zentrum x\n",
    "    cy   # optisches Zentrum y\n",
    ")\n"
   ],
   "metadata": {
    "collapsed": false,
    "ExecuteTime": {
     "start_time": "2025-01-05T16:14:33.707664200Z"
    }
   },
   "id": "a91f963f873e6a92"
  },
  {
   "cell_type": "markdown",
   "source": [
    "## Point cloud only from depth image"
   ],
   "metadata": {
    "collapsed": false
   },
   "id": "b4cf780a8dbf3bad"
  },
  {
   "cell_type": "code",
   "execution_count": null,
   "outputs": [],
   "source": [
    "#depth image von uint8 zu uint16, da sonst die Funktion \"o3d.geometry.PointCloud.create_from_depth_image\" nicht funktioniert. Quelle: https://www.open3d.org/docs/latest/python_api/open3d.geometry.PointCloud.html\n",
    "depth_data_uint16 = (depth_array.astype(np.uint16)) #Quelle: https://stackoverflow.com/questions/73067231/how-to-convert-uint8-image-to-uint16-python\n",
    "depth_uint16_o3d = o3d.geometry.Image(depth_data_uint16)\n",
    "\n",
    "# Erstelle eine Point Cloud aus dem Tiefenbild\n",
    "pcd = o3d.geometry.PointCloud.create_from_depth_image(\n",
    "    depth_uint16_o3d,\n",
    "    intrinsic\n",
    ")"
   ],
   "metadata": {
    "collapsed": false,
    "ExecuteTime": {
     "start_time": "2025-01-05T16:14:33.708665400Z"
    }
   },
   "id": "7e1573ecae8c6f73"
  },
  {
   "cell_type": "code",
   "execution_count": null,
   "outputs": [],
   "source": [
    "o3d.visualization.draw_geometries([pcd])"
   ],
   "metadata": {
    "collapsed": false,
    "ExecuteTime": {
     "start_time": "2025-01-05T16:14:33.708665400Z"
    }
   },
   "id": "7d29ae4c33f4c809"
  },
  {
   "cell_type": "markdown",
   "source": [
    "## Point cloud only from RGBD image"
   ],
   "metadata": {
    "collapsed": false
   },
   "id": "64e0b40d4bc849c"
  },
  {
   "cell_type": "code",
   "execution_count": null,
   "outputs": [],
   "source": [
    "pcrgbd = o3d.geometry.PointCloud.create_from_rgbd_image(rgbd, intrinsic)\n",
    "o3d.visualization.draw_geometries([pcrgbd])"
   ],
   "metadata": {
    "collapsed": false,
    "ExecuteTime": {
     "start_time": "2025-01-05T16:14:33.709664500Z"
    }
   },
   "id": "fa249596009e4590"
  },
  {
   "cell_type": "markdown",
   "source": [
    "# Clean Point Cloud"
   ],
   "metadata": {
    "collapsed": false
   },
   "id": "8e0c034315a431d1"
  },
  {
   "cell_type": "markdown",
   "source": [
    "To get better results from the PC for the volume estimation I will clean it using Open3D methods"
   ],
   "metadata": {
    "collapsed": false
   },
   "id": "2fa1b68d2f6a6a44"
  },
  {
   "cell_type": "code",
   "execution_count": null,
   "outputs": [],
   "source": [
    "pcd_center = pcd.get_center()\n",
    "pcd.translate(pcd_center)"
   ],
   "metadata": {
    "collapsed": false,
    "ExecuteTime": {
     "start_time": "2025-01-05T16:14:33.710663800Z"
    }
   },
   "id": "b49bc6ace5251e46"
  },
  {
   "cell_type": "markdown",
   "source": [
    "## Statistical oulier removal\n",
    "Bereinigung der Punktwolke mit Statistical Outlier Removal"
   ],
   "metadata": {
    "collapsed": false
   },
   "id": "ca8b983931bb725"
  },
  {
   "cell_type": "code",
   "execution_count": null,
   "outputs": [],
   "source": [
    "#Quelle: https://www.open3d.org/docs/latest/tutorial/Advanced/pointcloud_outlier_removal.html\n",
    "\n",
    "def display_inlier_outlier(cloud, ind):\n",
    "    inlier_cloud = cloud.select_by_index(ind)\n",
    "    outlier_cloud = cloud.select_by_index(ind, invert=True)\n",
    "\n",
    "    print(\"Showing outliers (red) and inliers (gray): \")\n",
    "    outlier_cloud.paint_uniform_color([1, 0, 0])\n",
    "    inlier_cloud.paint_uniform_color([0.8, 0.8, 0.8])\n",
    "    o3d.visualization.draw_geometries([inlier_cloud, outlier_cloud])"
   ],
   "metadata": {
    "collapsed": false,
    "ExecuteTime": {
     "start_time": "2025-01-05T16:14:33.711665Z"
    }
   },
   "id": "6d9febbb1ea5ea92"
  },
  {
   "cell_type": "markdown",
   "source": [
    "Removing the outliers"
   ],
   "metadata": {
    "collapsed": false
   },
   "id": "637c3889b6512928"
  },
  {
   "cell_type": "code",
   "execution_count": null,
   "outputs": [],
   "source": [
    "cl, ind = pcd.remove_statistical_outlier(nb_neighbors=100, std_ratio=3.0) #gute Ergebnisse mit diesen Werten bisher"
   ],
   "metadata": {
    "collapsed": false,
    "ExecuteTime": {
     "start_time": "2025-01-05T16:14:33.712665400Z"
    }
   },
   "id": "559ba76b5eeea0aa"
  },
  {
   "cell_type": "markdown",
   "source": [
    "Displaying inlier in grey and outlier in red"
   ],
   "metadata": {
    "collapsed": false
   },
   "id": "cab1a1430738f91f"
  },
  {
   "cell_type": "code",
   "execution_count": null,
   "outputs": [],
   "source": [
    "display_inlier_outlier(pcd, ind)"
   ],
   "metadata": {
    "collapsed": false,
    "ExecuteTime": {
     "start_time": "2025-01-05T16:14:33.714665200Z"
    }
   },
   "id": "d6fd19f70e9cc21d"
  },
  {
   "cell_type": "markdown",
   "source": [
    "We will use this PC from now on"
   ],
   "metadata": {
    "collapsed": false
   },
   "id": "6e9e78df7269ea97"
  },
  {
   "cell_type": "code",
   "execution_count": null,
   "outputs": [],
   "source": [
    "# Cleaned PC\n",
    "pcd = pcd.select_by_index(ind)  # Nur Inlier"
   ],
   "metadata": {
    "collapsed": false,
    "ExecuteTime": {
     "start_time": "2025-01-05T16:14:33.715664500Z"
    }
   },
   "id": "9200fe1e7f207195"
  },
  {
   "cell_type": "markdown",
   "source": [
    "Visualizing the new PC"
   ],
   "metadata": {
    "collapsed": false
   },
   "id": "1991410888644ae2"
  },
  {
   "cell_type": "code",
   "execution_count": null,
   "outputs": [],
   "source": [
    "o3d.visualization.draw_geometries([pcd])"
   ],
   "metadata": {
    "collapsed": false,
    "ExecuteTime": {
     "start_time": "2025-01-05T16:14:33.716664900Z"
    }
   },
   "id": "10ca47518df761a0"
  },
  {
   "cell_type": "markdown",
   "source": [
    "## Voxelization"
   ],
   "metadata": {
    "collapsed": false
   },
   "id": "4e4f91ffc4880a95"
  },
  {
   "cell_type": "code",
   "execution_count": null,
   "outputs": [],
   "source": [
    "downpcd = pcrgbd.voxel_down_sample(voxel_size=0.0000005)\n",
    "o3d.visualization.draw_geometries([downpcd])"
   ],
   "metadata": {
    "collapsed": false,
    "ExecuteTime": {
     "start_time": "2025-01-05T16:14:33.717665400Z"
    }
   },
   "id": "b682a0ef2ec3246a"
  },
  {
   "cell_type": "markdown",
   "source": [
    "### Plane segmentation"
   ],
   "metadata": {
    "collapsed": false
   },
   "id": "656244480f7015ca"
  },
  {
   "cell_type": "code",
   "execution_count": null,
   "outputs": [],
   "source": [
    "plane_model, inliers = pcd.segment_plane(\n",
    "    distance_threshold=0.01,\n",
    "    ransac_n=5,\n",
    "    num_iterations=1000,\n",
    "    probability=1\n",
    ")\n",
    "\n",
    "[a, b, c, d] = plane_model.tolist()\n",
    "print(f\"Plane equation: {a:.2f}x + {b:.2f}y + {c:.2f}z + {d:.2f} = 0\")\n",
    "\n",
    "# Inlier- und Outlier-Punktwolken\n",
    "inlier_cloud = pcd.select_by_index(inliers)\n",
    "inlier_cloud = inlier_cloud.paint_uniform_color([1.0, 0, 0])\n",
    "outlier_cloud = pcd.select_by_index(inliers, invert=True)\n",
    "\n",
    "# Darstellung der Punktwolken\n",
    "o3d.visualization.draw_geometries(\n",
    "    [inlier_cloud, outlier_cloud])\n"
   ],
   "metadata": {
    "collapsed": false,
    "ExecuteTime": {
     "start_time": "2025-01-05T16:14:33.719666Z"
    }
   },
   "id": "9f5a791bd9d7906a"
  },
  {
   "cell_type": "markdown",
   "source": [
    "### Hidden point removal"
   ],
   "metadata": {
    "collapsed": false
   },
   "id": "3fecadf62c0f4faf"
  },
  {
   "cell_type": "code",
   "execution_count": null,
   "outputs": [],
   "source": [],
   "metadata": {
    "collapsed": false,
    "ExecuteTime": {
     "start_time": "2025-01-05T16:14:33.720663900Z"
    }
   },
   "id": "d515024fc9cc113e"
  },
  {
   "cell_type": "markdown",
   "source": [
    "# Sonstiges"
   ],
   "metadata": {
    "collapsed": false
   },
   "id": "d9795dfa927ff3c"
  },
  {
   "cell_type": "markdown",
   "source": [
    "## Convex Hull\n",
    "Die Konvexe Hülle wird ggf. relevant für die Volumenberechnung, sobald ich nur das Zielobjekt extrahieren kann. Problem ist nur bei dieser Methode, dass bspw. runde Objekte überschätzt werden. "
   ],
   "metadata": {
    "collapsed": false
   },
   "id": "732015056ddc7b22"
  },
  {
   "cell_type": "code",
   "execution_count": null,
   "outputs": [],
   "source": [
    "# Berechnung der konvexen Hülle\n",
    "hull_mesh, hull_vertices = pcd.compute_convex_hull()\n",
    "\n",
    "# Erstellen eines Line-Sets aus dem konvexen Hüll-Mesh\n",
    "hull_ls = o3d.geometry.LineSet.create_from_triangle_mesh(hull_mesh)\n",
    "\n",
    "# Farbe der konvexen Hülle setzen\n",
    "hull_ls.paint_uniform_color([1, 0, 0])\n",
    "\n",
    "# Visualisierung: Punktwolke und konvexe Hülle\n",
    "o3d.visualization.draw_geometries([pcd, hull_ls])\n"
   ],
   "metadata": {
    "collapsed": false,
    "ExecuteTime": {
     "start_time": "2025-01-05T16:14:33.721664400Z"
    }
   },
   "id": "46a6f561471c8026"
  },
  {
   "cell_type": "code",
   "execution_count": null,
   "outputs": [],
   "source": [],
   "metadata": {
    "collapsed": false,
    "ExecuteTime": {
     "start_time": "2025-01-05T16:14:33.722664100Z"
    }
   },
   "id": "614190b9b2913946"
  },
  {
   "cell_type": "code",
   "execution_count": null,
   "outputs": [],
   "source": [
    "# DBSCAN-Clustering\n",
    "# eps = 0.02  # Radius für Nachbarn\n",
    "# min_points = 50  # Mindestanzahl von Punkten in einem Cluster\n",
    "# labels = np.array(pcd.cluster_dbscan(eps=eps, min_points=min_points, print_progress=True))\n",
    "# \n",
    "# # Anzahl der Cluster anzeigen\n",
    "# num_clusters = len(set(labels)) - (1 if -1 in labels else 0)\n",
    "# print(f\"Anzahl der Cluster: {num_clusters}\")\n",
    "# \n",
    "# # Cluster visualisieren (Farben zuweisen)\n",
    "# colors = plt.get_cmap(\"tab20\")(labels / (num_clusters if num_clusters > 0 else 1))\n",
    "# colors[labels < 0] = 0  # Rauschen (Label -1) schwarz färben\n",
    "# pcd.colors = o3d.utility.Vector3dVector(colors[:, :3])\n",
    "# \n",
    "# # Visualisierung\n",
    "# o3d.visualization.draw_geometries([pcd])"
   ],
   "metadata": {
    "collapsed": false,
    "ExecuteTime": {
     "start_time": "2025-01-05T16:14:33.724664500Z"
    }
   },
   "id": "49612a7a81425ab"
  },
  {
   "cell_type": "code",
   "execution_count": null,
   "outputs": [],
   "source": [
    "# Punktwolke interaktiv anzeigen\n",
    "print(\"Drücke 'Shift + Linksklick', um Punkte auszuwählen, und 'Shift + Rechtsklick', um Auswahl aufzuheben.\")\n",
    "picked_points = o3d.visualization.draw_geometries_with_editing([pcd])\n",
    "\n",
    "# Ausgewählte Punkt-Indizes anzeigen\n",
    "print(f\"Ausgewählte Punkt-Indizes: {picked_points}\")"
   ],
   "metadata": {
    "collapsed": false,
    "ExecuteTime": {
     "start_time": "2025-01-05T16:14:33.725665100Z"
    }
   },
   "id": "a4b497526f0b6b97"
  },
  {
   "cell_type": "code",
   "execution_count": null,
   "outputs": [],
   "source": [
    "print(picked_points)"
   ],
   "metadata": {
    "collapsed": false,
    "ExecuteTime": {
     "start_time": "2025-01-05T16:14:33.726665100Z"
    }
   },
   "id": "6111c305f9b8c2cb"
  },
  {
   "cell_type": "code",
   "execution_count": null,
   "outputs": [],
   "source": [
    "import numpy as np\n",
    "\n",
    "# Koordinaten der Punkte\n",
    "point1 = np.array([0.075, 0.013, 0.24])  # Punkt 1 (#250552)\n",
    "point2 = np.array([0.018, 0.019, 0.29])  # Punkt 2 (#52765)\n",
    "\n",
    "# Euklidische Distanz berechnen\n",
    "distance = np.linalg.norm(point2 - point1)\n",
    "\n",
    "# Ergebnis ausgeben\n",
    "print(f\"Abstand zwischen den Punkten: {distance:.6f} Einheiten\")\n"
   ],
   "metadata": {
    "collapsed": false,
    "ExecuteTime": {
     "start_time": "2025-01-05T16:14:33.727665400Z"
    }
   },
   "id": "a4e060c634c2dc13"
  },
  {
   "cell_type": "code",
   "execution_count": null,
   "outputs": [],
   "source": [],
   "metadata": {
    "collapsed": false,
    "ExecuteTime": {
     "start_time": "2025-01-05T16:14:33.728664400Z"
    }
   },
   "id": "109926315faa3bd4"
  }
 ],
 "metadata": {
  "kernelspec": {
   "display_name": "Python 3",
   "language": "python",
   "name": "python3"
  },
  "language_info": {
   "codemirror_mode": {
    "name": "ipython",
    "version": 2
   },
   "file_extension": ".py",
   "mimetype": "text/x-python",
   "name": "python",
   "nbconvert_exporter": "python",
   "pygments_lexer": "ipython2",
   "version": "2.7.6"
  }
 },
 "nbformat": 4,
 "nbformat_minor": 5
}
