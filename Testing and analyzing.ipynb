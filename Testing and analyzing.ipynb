{
 "cells": [
  {
   "cell_type": "code",
   "execution_count": 3,
   "outputs": [
    {
     "name": "stdout",
     "output_type": "stream",
     "text": [
      "Jupyter environment detected. Enabling Open3D WebVisualizer.\n",
      "[Open3D INFO] WebRTC GUI backend enabled.\n",
      "[Open3D INFO] WebRTCWindowSystem: HTTP handshake server disabled.\n",
      "[[490.36443796   0.         303.34425126]\n",
      " [  0.         654.59356534 227.86422803]\n",
      " [  0.           0.           1.        ]]\n",
      "Tiefenkarte erfolgreich gespeichert: C:\\Users\\Diren\\Nextcloud\\HTW\\4.Semester-Masterarbeit\\Masterarbeit\\Code\\Tiefenkarten\\20250105_164600_DepthMap.tiff\n",
      "Tiefenkarte erfolgreich gespeichert: C:\\Users\\Diren\\Nextcloud\\HTW\\4.Semester-Masterarbeit\\Masterarbeit\\Code\\IPhoneTiefenkarten\\IMG_8173_DepthMap.jpg\n"
     ]
    }
   ],
   "source": [
    "from PIL import Image, ImageOps\n",
    "import matplotlib.pyplot as plt\n",
    "import numpy as np\n",
    "import open3d as o3d\n",
    "import cv2\n",
    "from camera_intrinsic import mtx\n",
    "from exif_extract import transform_jpeg_to_depthmap_samsungs20\n",
    "from exif_extract import transform_jpeg_to_depthmap_iphone"
   ],
   "metadata": {
    "collapsed": false,
    "ExecuteTime": {
     "end_time": "2025-01-06T18:40:25.130156500Z",
     "start_time": "2025-01-06T18:40:16.220141100Z"
    }
   },
   "id": "39665618ec521b93"
  },
  {
   "cell_type": "markdown",
   "source": [
    "# Standard Variablen\n",
    "Hier definieren, extrahieren und verarbeiten wir die Tiefenkarten und RGB-Bilder des Samsung s20+ und des Iphone 14 und vergliechen diese miteinander.\n",
    "Es kann aber hier schon erwähnt werden, dass die Erstellung der Punktewolke und jede weitere Verarbeitung mit den Bildern des Iphone 14 stattfindet, da die Bilder deutlich präziser sind.  "
   ],
   "metadata": {
    "collapsed": false
   },
   "id": "ebedebab02d00c23"
  },
  {
   "cell_type": "markdown",
   "source": [
    "## Tiefenkarte und RGB-Daten extrahieren"
   ],
   "metadata": {
    "collapsed": false
   },
   "id": "511eb6043de3f716"
  },
  {
   "cell_type": "markdown",
   "source": [
    "IPhone Daten"
   ],
   "metadata": {
    "collapsed": false
   },
   "id": "37da22e3d89b9db2"
  },
  {
   "cell_type": "code",
   "execution_count": 4,
   "outputs": [
    {
     "name": "stdout",
     "output_type": "stream",
     "text": [
      "Tiefenkarte erfolgreich gespeichert: C:\\Users\\Diren\\Nextcloud\\HTW\\4.Semester-Masterarbeit\\Masterarbeit\\Code\\IPhoneTiefenkarten\\IMG_8173_DepthMap.jpg\n"
     ]
    }
   ],
   "source": [
    "url_Iphone = r\"C:\\Users\\Diren\\Nextcloud\\HTW\\4.Semester-Masterarbeit\\Masterarbeit\\Code\\IphoneTestBilder\\IMG_8173.jpg\"\n",
    "output_dir_Iphone = r\"C:\\Users\\Diren\\Nextcloud\\HTW\\4.Semester-Masterarbeit\\Masterarbeit\\Code\\IPhoneTiefenkarten\"\n",
    "\n",
    "rgb_url_Iphone, depth_url_Iphone = transform_jpeg_to_depthmap_iphone(url_Iphone, output_dir_Iphone) #Nutzung unserer Funktion\n",
    "\n",
    "#Open Images\n",
    "depth_im_Iphone = Image.open(depth_url_Iphone)  # Quelle: https://stackoverflow.com/a/67346474\n",
    "rgb_im_Iphone = Image.open(rgb_url_Iphone)"
   ],
   "metadata": {
    "collapsed": false,
    "ExecuteTime": {
     "end_time": "2025-01-06T18:40:34.156916600Z",
     "start_time": "2025-01-06T18:40:33.707416300Z"
    }
   },
   "id": "16a012394f44d047"
  },
  {
   "cell_type": "markdown",
   "source": [
    "Samsung Daten"
   ],
   "metadata": {
    "collapsed": false
   },
   "id": "bdab3294ac00a3a6"
  },
  {
   "cell_type": "code",
   "execution_count": 11,
   "outputs": [
    {
     "name": "stdout",
     "output_type": "stream",
     "text": [
      "Tiefenkarte erfolgreich gespeichert: C:\\Users\\Diren\\Nextcloud\\HTW\\4.Semester-Masterarbeit\\Masterarbeit\\Code\\SamsungTiefenkarten\\20250105_164600_DepthMap.tiff\n"
     ]
    }
   ],
   "source": [
    "url_Samsung = r\"C:\\Users\\Diren\\Nextcloud\\HTW\\4.Semester-Masterarbeit\\Masterarbeit\\Code\\SamsungTestBilder\\20250105_164600.jpg\"\n",
    "output_dir_Samsung = r\"C:\\Users\\Diren\\Nextcloud\\HTW\\4.Semester-Masterarbeit\\Masterarbeit\\Code\\SamsungTiefenkarten\"\n",
    "\n",
    "rgb_url_Samsung, depth_url_Samsung = transform_jpeg_to_depthmap_samsungs20(url_Samsung, output_dir_Samsung) #Nutzung unserer Funktion\n",
    "\n",
    "#Open Images\n",
    "depth_im_Samsung = Image.open(depth_url_Samsung)  # Quelle: https://stackoverflow.com/a/67346474\n",
    "rgb_im_Samsung = Image.open(rgb_url_Samsung)"
   ],
   "metadata": {
    "collapsed": false,
    "ExecuteTime": {
     "end_time": "2025-01-06T18:44:22.790278800Z",
     "start_time": "2025-01-06T18:44:22.462724200Z"
    }
   },
   "id": "32cce5407d2494b6"
  },
  {
   "cell_type": "code",
   "execution_count": 12,
   "outputs": [],
   "source": [
    "\n",
    "# print(depth_min, depth_max)\n",
    "# print(depth_array)  # ggf. herausfinden, in welcher einheit die Entfernung angegeben ist (cm, mm, etc. ?) -> vermutlich cm?"
   ],
   "metadata": {
    "collapsed": false,
    "ExecuteTime": {
     "end_time": "2025-01-06T18:44:24.196296800Z",
     "start_time": "2025-01-06T18:44:24.183654800Z"
    }
   },
   "id": "af5334aa03547091"
  },
  {
   "cell_type": "markdown",
   "source": [
    "We need to resize the rgb image later to this size to combine depth map and RGB image and create a RGBD image. First we get the size of the depth map and then resize the RGB image to that size."
   ],
   "metadata": {
    "collapsed": false
   },
   "id": "970d30a62a927650"
  },
  {
   "cell_type": "code",
   "execution_count": 22,
   "outputs": [],
   "source": [
    "def resize(rgb_im, depth_im):\n",
    "    rgb_width, rgb_height = rgb_im.size\n",
    "    dm_width, dm_height = depth_im.size  # width and height of depth map image. \n",
    "    \n",
    "    print(f\"dm_height:{dm_height}, dm_width:{dm_width}\\n rgb_height:{rgb_height}, rgb_width:{rgb_width}\")  # need to scale our RGB image to the size of our depthmap image\n",
    "    \n",
    "    size = (dm_width, dm_height)  # define new size\n",
    "    rgb_im = rgb_im.resize(size)  # fitting the rgb image size to the size of the depth image\n",
    "    \n",
    "    rgb_width, rgb_height = rgb_im.size\n",
    "    print(f\"new_rgb_height:{rgb_height}, new_rgb_width:{rgb_width}\")\n",
    "    \n",
    "    return rgb_im, dm_width, dm_height"
   ],
   "metadata": {
    "collapsed": false,
    "ExecuteTime": {
     "end_time": "2025-01-06T18:52:37.188327400Z",
     "start_time": "2025-01-06T18:52:37.184792700Z"
    }
   },
   "id": "5f2266d267c65d5c"
  },
  {
   "cell_type": "markdown",
   "source": [
    "Resize Iphone RGB Image"
   ],
   "metadata": {
    "collapsed": false
   },
   "id": "3189095b899d3b40"
  },
  {
   "cell_type": "code",
   "execution_count": 23,
   "outputs": [
    {
     "name": "stdout",
     "output_type": "stream",
     "text": [
      "dm_height:768, dm_width:576\n",
      " rgb_height:768, rgb_width:576\n",
      "new_rgb_height:768, new_rgb_width:576\n"
     ]
    }
   ],
   "source": [
    "rgb_im_Iphone, dm_width_Iphone, dm_height_Iphone = resize(rgb_im_Iphone, depth_im_Iphone)"
   ],
   "metadata": {
    "collapsed": false,
    "ExecuteTime": {
     "end_time": "2025-01-06T18:52:38.076678900Z",
     "start_time": "2025-01-06T18:52:38.069126600Z"
    }
   },
   "id": "f41e004b079dd11a"
  },
  {
   "cell_type": "markdown",
   "source": [
    "Resize Samsung RGB Image"
   ],
   "metadata": {
    "collapsed": false
   },
   "id": "ec24735487ab3fbd"
  },
  {
   "cell_type": "code",
   "execution_count": 15,
   "outputs": [
    {
     "name": "stdout",
     "output_type": "stream",
     "text": [
      "dm_height:756, dm_width:1008\n",
      " rgb_height:3024, rgb_width:4032\n",
      "new_rgb_height:756, new_rgb_width:1008\n"
     ]
    }
   ],
   "source": [
    "rgb_im_Samsung = resize(rgb_im_Samsung, depth_im_Samsung)"
   ],
   "metadata": {
    "collapsed": false,
    "ExecuteTime": {
     "end_time": "2025-01-06T18:45:28.877768500Z",
     "start_time": "2025-01-06T18:45:28.740463900Z"
    }
   },
   "id": "bcff2557d8dbc0f6"
  },
  {
   "cell_type": "markdown",
   "source": [
    "Getting the images as numpy arrays for later use"
   ],
   "metadata": {
    "collapsed": false
   },
   "id": "d7e4ddee5397e5d2"
  },
  {
   "cell_type": "markdown",
   "source": [
    "Iphone array"
   ],
   "metadata": {
    "collapsed": false
   },
   "id": "75a0421fc52fb861"
  },
  {
   "cell_type": "code",
   "execution_count": 16,
   "outputs": [],
   "source": [
    "depth_array_Iphone = np.array(depth_im_Iphone)  # getting the depthmap as a numpy array\n",
    "rgb_array_Iphone = np.array(rgb_im_Iphone)  # getting the rgb image as a numpy array"
   ],
   "metadata": {
    "collapsed": false,
    "ExecuteTime": {
     "end_time": "2025-01-06T18:45:33.644715Z",
     "start_time": "2025-01-06T18:45:33.630716Z"
    }
   },
   "id": "12cc2b6e80e09492"
  },
  {
   "cell_type": "markdown",
   "source": [
    "Samsung array"
   ],
   "metadata": {
    "collapsed": false
   },
   "id": "640b1162bdc3e56"
  },
  {
   "cell_type": "code",
   "execution_count": 17,
   "outputs": [],
   "source": [
    "depth_array_Samsung = np.array(depth_im_Samsung)  # getting the depthmap as a numpy array\n",
    "rgb_array_Samsung = np.array(rgb_im_Samsung)  # getting the rgb image as a numpy array"
   ],
   "metadata": {
    "collapsed": false,
    "ExecuteTime": {
     "end_time": "2025-01-06T18:45:34.392731300Z",
     "start_time": "2025-01-06T18:45:34.386412900Z"
    }
   },
   "id": "c09eccffdbee2bc9"
  },
  {
   "cell_type": "markdown",
   "source": [
    "We need the images as open3d objects or else we can´t create the RGBD image"
   ],
   "metadata": {
    "collapsed": false
   },
   "id": "30ad51b42447c830"
  },
  {
   "cell_type": "code",
   "execution_count": 19,
   "outputs": [],
   "source": [
    "# convert the arrays to open3d objects Quelle: https://stackoverflow.com/questions/63587617/how-to-create-a-rgbd-image-from-numpy-rgb-array-and-depth-array\n",
    "rgb_o3d = o3d.geometry.Image(rgb_array_Iphone)\n",
    "depth_o3d = o3d.geometry.Image(depth_array_Iphone)\n",
    "#depth_3d = o3d.geometry.Image(np.ascontiguousarray(depth_array_Iphone))"
   ],
   "metadata": {
    "collapsed": false,
    "ExecuteTime": {
     "end_time": "2025-01-06T18:49:59.256156600Z",
     "start_time": "2025-01-06T18:49:59.238640600Z"
    }
   },
   "id": "1ff1eecea57644fb"
  },
  {
   "cell_type": "markdown",
   "source": [
    "# Visualizing depth map"
   ],
   "metadata": {
    "collapsed": false
   },
   "id": "a91634b7fa777944"
  },
  {
   "cell_type": "markdown",
   "source": [
    "Plotting the depthmap"
   ],
   "metadata": {
    "collapsed": false
   },
   "id": "7610897eac83ed2"
  },
  {
   "cell_type": "markdown",
   "source": [],
   "metadata": {
    "collapsed": false
   },
   "id": "8f19e3486036beb0"
  },
  {
   "cell_type": "code",
   "execution_count": 18,
   "id": "initial_id",
   "metadata": {
    "collapsed": true,
    "ExecuteTime": {
     "end_time": "2025-01-06T18:47:40.728943700Z",
     "start_time": "2025-01-06T18:47:40.446975100Z"
    }
   },
   "outputs": [
    {
     "data": {
      "text/plain": "<Figure size 640x480 with 2 Axes>",
      "image/png": "[encoded data removed]"
     },
     "metadata": {},
     "output_type": "display_data"
    }
   ],
   "source": [
    "# plotting the depthmap\n",
    "plt.imshow(depth_array_Iphone)\n",
    "plt.colorbar(label=\"Depth Value\")\n",
    "plt.title(\"DepthMap\")\n",
    "plt.ylabel(\"Height\")\n",
    "plt.xlabel(\"Width\")\n",
    "plt.show()\n"
   ]
  },
  {
   "cell_type": "markdown",
   "source": [
    "### Processing Depth Map"
   ],
   "metadata": {
    "collapsed": false
   },
   "id": "9353088785aca80b"
  },
  {
   "cell_type": "markdown",
   "source": [
    "Normalisierung"
   ],
   "metadata": {
    "collapsed": false
   },
   "id": "55d072b3143aa44e"
  },
  {
   "cell_type": "code",
   "execution_count": null,
   "outputs": [],
   "source": [
    "#depth_array = cv2.normalize(depth_array, None, 0, 255, cv2.NORM_MINMAX)"
   ],
   "metadata": {
    "collapsed": false,
    "ExecuteTime": {
     "start_time": "2025-01-05T16:14:33.701665400Z"
    }
   },
   "id": "565726a5988eb1ee"
  },
  {
   "cell_type": "markdown",
   "source": [
    "Filterung"
   ],
   "metadata": {
    "collapsed": false
   },
   "id": "d0ae144eabd6eb3b"
  },
  {
   "cell_type": "code",
   "execution_count": null,
   "outputs": [],
   "source": [],
   "metadata": {
    "collapsed": false,
    "ExecuteTime": {
     "start_time": "2025-01-05T16:14:33.702664400Z"
    }
   },
   "id": "2a35190ee74f7799"
  },
  {
   "cell_type": "markdown",
   "source": [
    "# Create RGBD image"
   ],
   "metadata": {
    "collapsed": false
   },
   "id": "e6bc2e5080091bec"
  },
  {
   "cell_type": "markdown",
   "source": [
    "iPhone RGBD Image"
   ],
   "metadata": {
    "collapsed": false
   },
   "id": "5b8c4137d941279a"
  },
  {
   "cell_type": "code",
   "execution_count": 28,
   "outputs": [],
   "source": [
    "rgbd = o3d.geometry.RGBDImage.create_from_color_and_depth(rgb_o3d, depth_o3d)  # Quelle:https://www.open3d.org/docs/latest/python_api/open3d.geometry.RGBDImage.html und https://stackoverflo.com/questions/63587617/how-to-create-a-rgbd-image-from-numpy-rgb-array-and-depth-array"
   ],
   "metadata": {
    "collapsed": false,
    "ExecuteTime": {
     "end_time": "2025-01-06T18:56:03.533994400Z",
     "start_time": "2025-01-06T18:56:03.524089600Z"
    }
   },
   "id": "72ae92bfc4cc3f4d"
  },
  {
   "cell_type": "markdown",
   "source": [
    "Comparison of RGB and depth map image"
   ],
   "metadata": {
    "collapsed": false
   },
   "id": "a614b8ec2dd05d5"
  },
  {
   "cell_type": "code",
   "execution_count": null,
   "outputs": [],
   "source": [
    "plt.subplot(1, 2, 1)\n",
    "plt.title(\"Farbbild\")\n",
    "plt.imshow(rgbd.color)\n",
    "plt.subplot(1, 2, 2)\n",
    "plt.title(\"Tiefenbild\")\n",
    "plt.imshow(rgbd.depth)\n",
    "plt.show()"
   ],
   "metadata": {
    "collapsed": false,
    "ExecuteTime": {
     "start_time": "2025-01-05T16:14:33.705664900Z"
    }
   },
   "id": "2e778af0be6ac3d3"
  },
  {
   "cell_type": "markdown",
   "source": [
    "# Creating point cloud"
   ],
   "metadata": {
    "collapsed": false
   },
   "id": "80540d377b4957c0"
  },
  {
   "cell_type": "markdown",
   "source": [
    "## Get camera intrinsics"
   ],
   "metadata": {
    "collapsed": false
   },
   "id": "9b1fe1ebed2c48d7"
  },
  {
   "cell_type": "markdown",
   "source": [
    "With the intrinsics of the camera that took the photo we are able to correct distortions "
   ],
   "metadata": {
    "collapsed": false
   },
   "id": "99b8049378a98c5d"
  },
  {
   "cell_type": "code",
   "execution_count": 20,
   "outputs": [
    {
     "name": "stdout",
     "output_type": "stream",
     "text": [
      "fx: 490.36443795915176, fy: 654.5935653359959, cx: 303.34425126266086, cy: 227.86422803169154\n"
     ]
    }
   ],
   "source": [
    "# TODO: IPhone Intrinsics ehralten\n",
    "fx = mtx[0, 0]\n",
    "fy = mtx[1, 1]\n",
    "cx = mtx[0, 2]\n",
    "cy = mtx[1, 2]\n",
    "\n",
    "print(f\"fx: {fx}, fy: {fy}, cx: {cx}, cy: {cy}\")\n"
   ],
   "metadata": {
    "collapsed": false,
    "ExecuteTime": {
     "end_time": "2025-01-06T18:50:21.382851800Z",
     "start_time": "2025-01-06T18:50:21.378165200Z"
    }
   },
   "id": "fa24f48c6a0ebcfc"
  },
  {
   "cell_type": "code",
   "execution_count": 25,
   "outputs": [],
   "source": [
    "intrinsic = o3d.camera.PinholeCameraIntrinsic(\n",
    "    dm_width_Iphone, \n",
    "    dm_height_Iphone, \n",
    "    fx,  # Fokuslänge x\n",
    "    fy,  # Fokuslänge y\n",
    "    cx,  # optisches Zentrum x\n",
    "    cy   # optisches Zentrum y\n",
    ")\n"
   ],
   "metadata": {
    "collapsed": false,
    "ExecuteTime": {
     "end_time": "2025-01-06T18:53:13.368396900Z",
     "start_time": "2025-01-06T18:53:13.342357400Z"
    }
   },
   "id": "a91f963f873e6a92"
  },
  {
   "cell_type": "markdown",
   "source": [
    "## Point cloud only from depth image"
   ],
   "metadata": {
    "collapsed": false
   },
   "id": "b4cf780a8dbf3bad"
  },
  {
   "cell_type": "code",
   "execution_count": 26,
   "outputs": [],
   "source": [
    "#depth image von uint8 zu uint16, da sonst die Funktion \"o3d.geometry.PointCloud.create_from_depth_image\" nicht funktioniert. Quelle: https://www.open3d.org/docs/latest/python_api/open3d.geometry.PointCloud.html\n",
    "depth_data_uint16 = (depth_array_Iphone.astype(np.uint16)) #Quelle: https://stackoverflow.com/questions/73067231/how-to-convert-uint8-image-to-uint16-python\n",
    "depth_uint16_o3d = o3d.geometry.Image(depth_data_uint16)\n",
    "\n",
    "# Erstelle eine Point Cloud aus dem Tiefenbild\n",
    "pcd = o3d.geometry.PointCloud.create_from_depth_image(\n",
    "    depth_uint16_o3d,\n",
    "    intrinsic\n",
    ")"
   ],
   "metadata": {
    "collapsed": false,
    "ExecuteTime": {
     "end_time": "2025-01-06T18:53:20.316750Z",
     "start_time": "2025-01-06T18:53:20.289731700Z"
    }
   },
   "id": "7e1573ecae8c6f73"
  },
  {
   "cell_type": "code",
   "execution_count": 27,
   "outputs": [],
   "source": [
    "o3d.visualization.draw_geometries([pcd])"
   ],
   "metadata": {
    "collapsed": false,
    "ExecuteTime": {
     "end_time": "2025-01-06T18:54:04.840143100Z",
     "start_time": "2025-01-06T18:53:21.268438200Z"
    }
   },
   "id": "7d29ae4c33f4c809"
  },
  {
   "cell_type": "markdown",
   "source": [
    "## Point cloud only from RGBD image"
   ],
   "metadata": {
    "collapsed": false
   },
   "id": "64e0b40d4bc849c"
  },
  {
   "cell_type": "code",
   "execution_count": 29,
   "outputs": [],
   "source": [
    "pcrgbd = o3d.geometry.PointCloud.create_from_rgbd_image(rgbd, intrinsic)\n",
    "o3d.visualization.draw_geometries([pcrgbd])"
   ],
   "metadata": {
    "collapsed": false,
    "ExecuteTime": {
     "end_time": "2025-01-06T18:56:38.128525100Z",
     "start_time": "2025-01-06T18:56:12.472370500Z"
    }
   },
   "id": "fa249596009e4590"
  },
  {
   "cell_type": "markdown",
   "source": [
    "# Clean Point Cloud"
   ],
   "metadata": {
    "collapsed": false
   },
   "id": "8e0c034315a431d1"
  },
  {
   "cell_type": "markdown",
   "source": [
    "To get better results from the PC for the volume estimation I will clean it using Open3D methods"
   ],
   "metadata": {
    "collapsed": false
   },
   "id": "2fa1b68d2f6a6a44"
  },
  {
   "cell_type": "code",
   "execution_count": 30,
   "outputs": [
    {
     "data": {
      "text/plain": "PointCloud with 442321 points."
     },
     "execution_count": 30,
     "metadata": {},
     "output_type": "execute_result"
    }
   ],
   "source": [
    "pcd_center = pcd.get_center()\n",
    "pcd.translate(pcd_center)"
   ],
   "metadata": {
    "collapsed": false,
    "ExecuteTime": {
     "end_time": "2025-01-06T18:56:42.832874100Z",
     "start_time": "2025-01-06T18:56:42.824353600Z"
    }
   },
   "id": "b49bc6ace5251e46"
  },
  {
   "cell_type": "markdown",
   "source": [
    "## Statistical oulier removal\n",
    "Bereinigung der Punktwolke mit Statistical Outlier Removal"
   ],
   "metadata": {
    "collapsed": false
   },
   "id": "ca8b983931bb725"
  },
  {
   "cell_type": "code",
   "execution_count": 31,
   "outputs": [],
   "source": [
    "#Quelle: https://www.open3d.org/docs/latest/tutorial/Advanced/pointcloud_outlier_removal.html\n",
    "\n",
    "def display_inlier_outlier(cloud, ind):\n",
    "    inlier_cloud = cloud.select_by_index(ind)\n",
    "    outlier_cloud = cloud.select_by_index(ind, invert=True)\n",
    "\n",
    "    print(\"Showing outliers (red) and inliers (gray): \")\n",
    "    outlier_cloud.paint_uniform_color([1, 0, 0])\n",
    "    inlier_cloud.paint_uniform_color([0.8, 0.8, 0.8])\n",
    "    o3d.visualization.draw_geometries([inlier_cloud, outlier_cloud])"
   ],
   "metadata": {
    "collapsed": false,
    "ExecuteTime": {
     "end_time": "2025-01-06T18:56:55.340004600Z",
     "start_time": "2025-01-06T18:56:55.310004300Z"
    }
   },
   "id": "6d9febbb1ea5ea92"
  },
  {
   "cell_type": "markdown",
   "source": [
    "Removing the outliers"
   ],
   "metadata": {
    "collapsed": false
   },
   "id": "637c3889b6512928"
  },
  {
   "cell_type": "code",
   "execution_count": 32,
   "outputs": [],
   "source": [
    "cl, ind = pcd.remove_statistical_outlier(nb_neighbors=100, std_ratio=3.0) #gute Ergebnisse mit diesen Werten bisher"
   ],
   "metadata": {
    "collapsed": false,
    "ExecuteTime": {
     "end_time": "2025-01-06T18:57:00.058961500Z",
     "start_time": "2025-01-06T18:56:58.654512500Z"
    }
   },
   "id": "559ba76b5eeea0aa"
  },
  {
   "cell_type": "markdown",
   "source": [
    "Displaying inlier in grey and outlier in red"
   ],
   "metadata": {
    "collapsed": false
   },
   "id": "cab1a1430738f91f"
  },
  {
   "cell_type": "code",
   "execution_count": 33,
   "outputs": [
    {
     "name": "stdout",
     "output_type": "stream",
     "text": [
      "Showing outliers (red) and inliers (gray): \n"
     ]
    }
   ],
   "source": [
    "display_inlier_outlier(pcd, ind)"
   ],
   "metadata": {
    "collapsed": false,
    "ExecuteTime": {
     "end_time": "2025-01-06T18:57:11.240469600Z",
     "start_time": "2025-01-06T18:57:01.909089Z"
    }
   },
   "id": "d6fd19f70e9cc21d"
  },
  {
   "cell_type": "markdown",
   "source": [
    "We will use this PC from now on"
   ],
   "metadata": {
    "collapsed": false
   },
   "id": "6e9e78df7269ea97"
  },
  {
   "cell_type": "code",
   "execution_count": 34,
   "outputs": [],
   "source": [
    "# Cleaned PC\n",
    "pcd = pcd.select_by_index(ind)  # Nur Inlier"
   ],
   "metadata": {
    "collapsed": false,
    "ExecuteTime": {
     "end_time": "2025-01-06T18:57:12.938937700Z",
     "start_time": "2025-01-06T18:57:12.925424100Z"
    }
   },
   "id": "9200fe1e7f207195"
  },
  {
   "cell_type": "markdown",
   "source": [
    "Visualizing the new PC"
   ],
   "metadata": {
    "collapsed": false
   },
   "id": "1991410888644ae2"
  },
  {
   "cell_type": "code",
   "execution_count": 35,
   "outputs": [],
   "source": [
    "o3d.visualization.draw_geometries([pcd])"
   ],
   "metadata": {
    "collapsed": false,
    "ExecuteTime": {
     "end_time": "2025-01-06T18:57:26.951821600Z",
     "start_time": "2025-01-06T18:57:14.687178500Z"
    }
   },
   "id": "10ca47518df761a0"
  },
  {
   "cell_type": "markdown",
   "source": [
    "## Voxelization"
   ],
   "metadata": {
    "collapsed": false
   },
   "id": "4e4f91ffc4880a95"
  },
  {
   "cell_type": "code",
   "execution_count": null,
   "outputs": [],
   "source": [
    "downpcd = pcrgbd.voxel_down_sample(voxel_size=0.0000005)\n",
    "o3d.visualization.draw_geometries([downpcd])"
   ],
   "metadata": {
    "collapsed": false,
    "ExecuteTime": {
     "start_time": "2025-01-05T16:14:33.717665400Z"
    }
   },
   "id": "b682a0ef2ec3246a"
  },
  {
   "cell_type": "markdown",
   "source": [
    "### Plane segmentation"
   ],
   "metadata": {
    "collapsed": false
   },
   "id": "656244480f7015ca"
  },
  {
   "cell_type": "code",
   "execution_count": null,
   "outputs": [],
   "source": [
    "plane_model, inliers = pcd.segment_plane(\n",
    "    distance_threshold=0.01,\n",
    "    ransac_n=5,\n",
    "    num_iterations=1000,\n",
    "    probability=1\n",
    ")\n",
    "\n",
    "[a, b, c, d] = plane_model.tolist()\n",
    "print(f\"Plane equation: {a:.2f}x + {b:.2f}y + {c:.2f}z + {d:.2f} = 0\")\n",
    "\n",
    "# Inlier- und Outlier-Punktwolken\n",
    "inlier_cloud = pcd.select_by_index(inliers)\n",
    "inlier_cloud = inlier_cloud.paint_uniform_color([1.0, 0, 0])\n",
    "outlier_cloud = pcd.select_by_index(inliers, invert=True)\n",
    "\n",
    "# Darstellung der Punktwolken\n",
    "o3d.visualization.draw_geometries(\n",
    "    [inlier_cloud, outlier_cloud])\n"
   ],
   "metadata": {
    "collapsed": false,
    "ExecuteTime": {
     "start_time": "2025-01-05T16:14:33.719666Z"
    }
   },
   "id": "9f5a791bd9d7906a"
  },
  {
   "cell_type": "markdown",
   "source": [
    "### Hidden point removal"
   ],
   "metadata": {
    "collapsed": false
   },
   "id": "3fecadf62c0f4faf"
  },
  {
   "cell_type": "code",
   "execution_count": null,
   "outputs": [],
   "source": [],
   "metadata": {
    "collapsed": false,
    "ExecuteTime": {
     "start_time": "2025-01-05T16:14:33.720663900Z"
    }
   },
   "id": "d515024fc9cc113e"
  },
  {
   "cell_type": "markdown",
   "source": [
    "# Sonstiges"
   ],
   "metadata": {
    "collapsed": false
   },
   "id": "d9795dfa927ff3c"
  },
  {
   "cell_type": "markdown",
   "source": [
    "## Convex Hull\n",
    "Die Konvexe Hülle wird ggf. relevant für die Volumenberechnung, sobald ich nur das Zielobjekt extrahieren kann. Problem ist nur bei dieser Methode, dass bspw. runde Objekte überschätzt werden. "
   ],
   "metadata": {
    "collapsed": false
   },
   "id": "732015056ddc7b22"
  },
  {
   "cell_type": "code",
   "execution_count": null,
   "outputs": [],
   "source": [
    "# Berechnung der konvexen Hülle\n",
    "hull_mesh, hull_vertices = pcd.compute_convex_hull()\n",
    "\n",
    "# Erstellen eines Line-Sets aus dem konvexen Hüll-Mesh\n",
    "hull_ls = o3d.geometry.LineSet.create_from_triangle_mesh(hull_mesh)\n",
    "\n",
    "# Farbe der konvexen Hülle setzen\n",
    "hull_ls.paint_uniform_color([1, 0, 0])\n",
    "\n",
    "# Visualisierung: Punktwolke und konvexe Hülle\n",
    "o3d.visualization.draw_geometries([pcd, hull_ls])\n"
   ],
   "metadata": {
    "collapsed": false,
    "ExecuteTime": {
     "start_time": "2025-01-05T16:14:33.721664400Z"
    }
   },
   "id": "46a6f561471c8026"
  },
  {
   "cell_type": "code",
   "execution_count": null,
   "outputs": [],
   "source": [],
   "metadata": {
    "collapsed": false,
    "ExecuteTime": {
     "start_time": "2025-01-05T16:14:33.722664100Z"
    }
   },
   "id": "614190b9b2913946"
  },
  {
   "cell_type": "code",
   "execution_count": null,
   "outputs": [],
   "source": [
    "# DBSCAN-Clustering\n",
    "# eps = 0.02  # Radius für Nachbarn\n",
    "# min_points = 50  # Mindestanzahl von Punkten in einem Cluster\n",
    "# labels = np.array(pcd.cluster_dbscan(eps=eps, min_points=min_points, print_progress=True))\n",
    "# \n",
    "# # Anzahl der Cluster anzeigen\n",
    "# num_clusters = len(set(labels)) - (1 if -1 in labels else 0)\n",
    "# print(f\"Anzahl der Cluster: {num_clusters}\")\n",
    "# \n",
    "# # Cluster visualisieren (Farben zuweisen)\n",
    "# colors = plt.get_cmap(\"tab20\")(labels / (num_clusters if num_clusters > 0 else 1))\n",
    "# colors[labels < 0] = 0  # Rauschen (Label -1) schwarz färben\n",
    "# pcd.colors = o3d.utility.Vector3dVector(colors[:, :3])\n",
    "# \n",
    "# # Visualisierung\n",
    "# o3d.visualization.draw_geometries([pcd])"
   ],
   "metadata": {
    "collapsed": false,
    "ExecuteTime": {
     "start_time": "2025-01-05T16:14:33.724664500Z"
    }
   },
   "id": "49612a7a81425ab"
  },
  {
   "cell_type": "code",
   "execution_count": null,
   "outputs": [],
   "source": [
    "# Punktwolke interaktiv anzeigen\n",
    "print(\"Drücke 'Shift + Linksklick', um Punkte auszuwählen, und 'Shift + Rechtsklick', um Auswahl aufzuheben.\")\n",
    "picked_points = o3d.visualization.draw_geometries_with_editing([pcd])\n",
    "\n",
    "# Ausgewählte Punkt-Indizes anzeigen\n",
    "print(f\"Ausgewählte Punkt-Indizes: {picked_points}\")"
   ],
   "metadata": {
    "collapsed": false,
    "ExecuteTime": {
     "start_time": "2025-01-05T16:14:33.725665100Z"
    }
   },
   "id": "a4b497526f0b6b97"
  },
  {
   "cell_type": "code",
   "execution_count": null,
   "outputs": [],
   "source": [
    "print(picked_points)"
   ],
   "metadata": {
    "collapsed": false,
    "ExecuteTime": {
     "start_time": "2025-01-05T16:14:33.726665100Z"
    }
   },
   "id": "6111c305f9b8c2cb"
  },
  {
   "cell_type": "code",
   "execution_count": null,
   "outputs": [],
   "source": [
    "import numpy as np\n",
    "\n",
    "# Koordinaten der Punkte\n",
    "point1 = np.array([0.075, 0.013, 0.24])  # Punkt 1 (#250552)\n",
    "point2 = np.array([0.018, 0.019, 0.29])  # Punkt 2 (#52765)\n",
    "\n",
    "# Euklidische Distanz berechnen\n",
    "distance = np.linalg.norm(point2 - point1)\n",
    "\n",
    "# Ergebnis ausgeben\n",
    "print(f\"Abstand zwischen den Punkten: {distance:.6f} Einheiten\")\n"
   ],
   "metadata": {
    "collapsed": false,
    "ExecuteTime": {
     "start_time": "2025-01-05T16:14:33.727665400Z"
    }
   },
   "id": "a4e060c634c2dc13"
  },
  {
   "cell_type": "code",
   "execution_count": null,
   "outputs": [],
   "source": [],
   "metadata": {
    "collapsed": false,
    "ExecuteTime": {
     "start_time": "2025-01-05T16:14:33.728664400Z"
    }
   },
   "id": "109926315faa3bd4"
  }
 ],
 "metadata": {
  "kernelspec": {
   "display_name": "Python 3",
   "language": "python",
   "name": "python3"
  },
  "language_info": {
   "codemirror_mode": {
    "name": "ipython",
    "version": 2
   },
   "file_extension": ".py",
   "mimetype": "text/x-python",
   "name": "python",
   "nbconvert_exporter": "python",
   "pygments_lexer": "ipython2",
   "version": "2.7.6"
  }
 },
 "nbformat": 4,
 "nbformat_minor": 5
}
