{
 "cells": [
  {
   "cell_type": "code",
   "execution_count": 2,
   "outputs": [
    {
     "name": "stdout",
     "output_type": "stream",
     "text": [
      "Jupyter environment detected. Enabling Open3D WebVisualizer.\n",
      "[Open3D INFO] WebRTC GUI backend enabled.\n",
      "[Open3D INFO] WebRTCWindowSystem: HTTP handshake server disabled.\n"
     ]
    }
   ],
   "source": [
    "from PIL import Image, ImageOps, ImageFilter\n",
    "import matplotlib.pyplot as plt\n",
    "import numpy as np\n",
    "import open3d as o3d\n",
    "import cv2\n",
    "import glob\n",
    "from camera_intrinsic import get_camera_intrinsics\n",
    "from exif_extract import transform_jpeg_to_depthmap_samsungs20\n",
    "from exif_extract import transform_jpeg_to_depthmap_iphone\n",
    "from binary_dm import transform_binary_to_depthmap"
   ],
   "metadata": {
    "collapsed": false,
    "ExecuteTime": {
     "end_time": "2025-02-01T17:55:28.593429700Z",
     "start_time": "2025-02-01T17:55:26.606466900Z"
    }
   },
   "id": "39665618ec521b93"
  },
  {
   "cell_type": "markdown",
   "source": [
    "  # Standard Variablen\n",
    "Extraktion der Tiefenkarte"
   ],
   "metadata": {
    "collapsed": false
   },
   "id": "ebedebab02d00c23"
  },
  {
   "cell_type": "markdown",
   "source": [
    "## Tiefenkarte und RGB-Daten extrahieren"
   ],
   "metadata": {
    "collapsed": false
   },
   "id": "511eb6043de3f716"
  },
  {
   "cell_type": "markdown",
   "source": [
    "IPhone Daten  aus Exif"
   ],
   "metadata": {
    "collapsed": false
   },
   "id": "37da22e3d89b9db2"
  },
  {
   "cell_type": "code",
   "execution_count": 3,
   "outputs": [
    {
     "name": "stdout",
     "output_type": "stream",
     "text": [
      "True\n",
      "Die Tiefenkarte existiert bereits\n"
     ]
    }
   ],
   "source": [
    "url_Iphone = r\"C:\\Users\\Diren\\Nextcloud\\HTW\\4.Semester-Masterarbeit\\Masterarbeit\\Code\\IphoneTestBilder\\Küche\\Box\\IMG_8680_max52cm_min45cm.jpg\"\n",
    "output_dir_Iphone = r\"C:\\Users\\Diren\\Nextcloud\\HTW\\4.Semester-Masterarbeit\\Masterarbeit\\Code\\IPhoneTiefenkarten\"\n",
    "\n",
    "rgb_url_Iphone, depth_url_Iphone = transform_jpeg_to_depthmap_iphone(url_Iphone, output_dir_Iphone) #Nutzung unserer Funktion\n",
    "\n",
    "#Open Images\n",
    "depth_im_Iphone = Image.open(depth_url_Iphone)  # Quelle: https://stackoverflow.com/a/67346474\n",
    "rgb_im_Iphone = Image.open(rgb_url_Iphone)"
   ],
   "metadata": {
    "collapsed": false,
    "ExecuteTime": {
     "end_time": "2025-02-01T17:55:30.405764500Z",
     "start_time": "2025-02-01T17:55:30.345462400Z"
    }
   },
   "id": "16a012394f44d047"
  },
  {
   "cell_type": "markdown",
   "source": [
    "IPhone Daten aus Xcode "
   ],
   "metadata": {
    "collapsed": false
   },
   "id": "94f3923577c5a5e0"
  },
  {
   "cell_type": "code",
   "execution_count": 4,
   "outputs": [
    {
     "data": {
      "text/plain": "array([[0.2502, 0.2502, 0.2534, ..., 0.2135, 0.2073, 0.2197],\n       [0.2468, 0.244 , 0.2544, ..., 0.2103, 0.2128, 0.1843],\n       [0.2615, 0.2429, 0.254 , ..., 0.2067, 0.2251, 0.1938],\n       ...,\n       [0.2227, 0.218 , 0.2299, ..., 0.2062, 0.2168, 0.2299],\n       [0.213 , 0.2186, 0.2355, ..., 0.219 , 0.2151, 0.2338],\n       [0.1919, 0.177 , 0.2175, ..., 0.2067, 0.2153, 0.2617]],\n      dtype=float16)"
     },
     "execution_count": 4,
     "metadata": {},
     "output_type": "execute_result"
    }
   ],
   "source": [
    "binary_url = r\"C:\\Users\\Diren\\Nextcloud\\DepthMap4.bin\"\n",
    "transform_binary_to_depthmap(binary_url)"
   ],
   "metadata": {
    "collapsed": false,
    "ExecuteTime": {
     "end_time": "2025-02-01T17:55:32.590380300Z",
     "start_time": "2025-02-01T17:55:32.550615400Z"
    }
   },
   "id": "1603666cc89ae08e"
  },
  {
   "cell_type": "markdown",
   "source": [
    "Resize RGB image to size of depthmap (only for exif data)\n",
    "\n",
    "We need to resize the rgb image later to this size to combine depth map and RGB image and create a RGBD image. First we get the size of the depth map and then resize the RGB image to that size."
   ],
   "metadata": {
    "collapsed": false
   },
   "id": "970d30a62a927650"
  },
  {
   "cell_type": "code",
   "execution_count": 5,
   "outputs": [],
   "source": [
    "def resize(rgb_im, depth_im):\n",
    "    rgb_width, rgb_height = rgb_im.size\n",
    "    rgb_width_original, rgb_height_original = rgb_im.size #need that for later use\n",
    "    dm_width, dm_height = depth_im.size  # width and height of depth map image. \n",
    "    \n",
    "    print(f\"dm_height:{dm_height}, dm_width:{dm_width}\\n rgb_height:{rgb_height}, rgb_width:{rgb_width}\")  # need to scale our RGB image to the size of our depthmap image\n",
    "    \n",
    "    size = (dm_width, dm_height)  # define new size\n",
    "    rgb_im = rgb_im.resize(size)  # fitting the rgb image size to the size of the depth image\n",
    "    \n",
    "    rgb_width, rgb_height = rgb_im.size\n",
    "    print(f\"new_rgb_height:{rgb_height}, new_rgb_width:{rgb_width}\")\n",
    "    \n",
    "    return rgb_im, dm_width, dm_height, rgb_width_original, rgb_height_original"
   ],
   "metadata": {
    "collapsed": false,
    "ExecuteTime": {
     "end_time": "2025-01-30T18:17:15.375233600Z",
     "start_time": "2025-01-30T18:17:15.310470600Z"
    }
   },
   "id": "5f2266d267c65d5c"
  },
  {
   "cell_type": "markdown",
   "source": [
    "Resize Iphone RGB Image"
   ],
   "metadata": {
    "collapsed": false
   },
   "id": "3189095b899d3b40"
  },
  {
   "cell_type": "code",
   "execution_count": 6,
   "outputs": [
    {
     "name": "stdout",
     "output_type": "stream",
     "text": [
      "dm_height:576, dm_width:768\n",
      " rgb_height:3024, rgb_width:4032\n",
      "new_rgb_height:576, new_rgb_width:768\n"
     ]
    }
   ],
   "source": [
    "rgb_im_Iphone, dm_width_Iphone, dm_height_Iphone, rgb_width_Iphone, rgb_height_Iphone = resize(rgb_im_Iphone, depth_im_Iphone)"
   ],
   "metadata": {
    "collapsed": false,
    "ExecuteTime": {
     "end_time": "2025-01-30T18:17:15.821939700Z",
     "start_time": "2025-01-30T18:17:15.674199500Z"
    }
   },
   "id": "f41e004b079dd11a"
  },
  {
   "cell_type": "markdown",
   "source": [
    "Getting the images as numpy arrays for later use"
   ],
   "metadata": {
    "collapsed": false
   },
   "id": "d7e4ddee5397e5d2"
  },
  {
   "cell_type": "markdown",
   "source": [
    "Iphone array"
   ],
   "metadata": {
    "collapsed": false
   },
   "id": "75a0421fc52fb861"
  },
  {
   "cell_type": "code",
   "execution_count": 7,
   "outputs": [],
   "source": [
    "depth_array_Iphone = np.array(depth_im_Iphone)  # getting the depthmap as a numpy array\n",
    "rgb_array_Iphone = np.array(rgb_im_Iphone)  # getting the rgb image as a numpy array"
   ],
   "metadata": {
    "collapsed": false,
    "ExecuteTime": {
     "end_time": "2025-01-30T18:17:16.304771300Z",
     "start_time": "2025-01-30T18:17:16.244464900Z"
    }
   },
   "id": "12cc2b6e80e09492"
  },
  {
   "cell_type": "markdown",
   "source": [
    "We need the images as open3d objects or else we can´t create the RGBD image"
   ],
   "metadata": {
    "collapsed": false
   },
   "id": "30ad51b42447c830"
  },
  {
   "cell_type": "markdown",
   "source": [
    "Iphone o3d object"
   ],
   "metadata": {
    "collapsed": false
   },
   "id": "ac9046c5c82b2a76"
  },
  {
   "cell_type": "code",
   "execution_count": 8,
   "outputs": [],
   "source": [
    "# convert the arrays to open3d objects Quelle: https://stackoverflow.com/questions/63587617/how-to-create-a-rgbd-image-from-numpy-rgb-array-and-depth-array\n",
    "rgb_o3d_Iphone = o3d.geometry.Image(rgb_array_Iphone)\n",
    "depth_o3d_Iphone = o3d.geometry.Image(depth_array_Iphone)\n",
    "#depth_3d = o3d.geometry.Image(np.ascontiguousarray(depth_array_Iphone))"
   ],
   "metadata": {
    "collapsed": false,
    "ExecuteTime": {
     "end_time": "2025-01-30T18:17:18.536708900Z",
     "start_time": "2025-01-30T18:17:18.487216800Z"
    }
   },
   "id": "1ff1eecea57644fb"
  },
  {
   "cell_type": "markdown",
   "source": [
    "# Processing depth map"
   ],
   "metadata": {
    "collapsed": false
   },
   "id": "a91634b7fa777944"
  },
  {
   "cell_type": "markdown",
   "source": [
    "Plotting the Iphone depthmap "
   ],
   "metadata": {
    "collapsed": false
   },
   "id": "7610897eac83ed2"
  },
  {
   "cell_type": "code",
   "execution_count": 9,
   "id": "initial_id",
   "metadata": {
    "collapsed": true,
    "ExecuteTime": {
     "end_time": "2025-01-30T18:17:19.482049Z",
     "start_time": "2025-01-30T18:17:19.258530600Z"
    }
   },
   "outputs": [
    {
     "data": {
      "text/plain": "<Figure size 640x480 with 2 Axes>",
      "image/png": "[encoded data removed]"
     },
     "metadata": {},
     "output_type": "display_data"
    }
   ],
   "source": [
    "# plotting the depthmap\n",
    "plt.imshow(depth_array_Iphone)\n",
    "plt.colorbar(label=\"Depth Value\")\n",
    "plt.title(\"DepthMapIPhone\")\n",
    "plt.ylabel(\"Height\")\n",
    "plt.xlabel(\"Width\")\n",
    "plt.show()\n"
   ]
  },
  {
   "cell_type": "code",
   "execution_count": 12,
   "outputs": [
    {
     "data": {
      "text/plain": "(576, 768)"
     },
     "execution_count": 12,
     "metadata": {},
     "output_type": "execute_result"
    }
   ],
   "source": [
    "depth_array_Iphone.shape"
   ],
   "metadata": {
    "collapsed": false,
    "ExecuteTime": {
     "end_time": "2025-01-30T18:18:13.656609200Z",
     "start_time": "2025-01-30T18:18:13.586387900Z"
    }
   },
   "id": "860835042b470125"
  },
  {
   "cell_type": "markdown",
   "source": [
    "## Scale depth map to real values"
   ],
   "metadata": {
    "collapsed": false
   },
   "id": "d65587b3b312c0e"
  },
  {
   "cell_type": "markdown",
   "source": [
    "Übersetzen der Uint8 Werte in Floats"
   ],
   "metadata": {
    "collapsed": false
   },
   "id": "8879814e455b7ab0"
  },
  {
   "cell_type": "code",
   "execution_count": 10,
   "outputs": [],
   "source": [
    "\n",
    "# Float Min/Max Values aus EXIF-Daten\n",
    "float_min = 0.45\n",
    "float_max = 0.52\n",
    "\n",
    "# Umgekehrte Skalierung der Tiefenwerte. Umgekehrt, da die originale Tiefenkarte scheinbar invertiert ist.\n",
    "depth_map_meters = float_max - (depth_array_Iphone / 255.0) * (float_max - float_min)\n"
   ],
   "metadata": {
    "collapsed": false,
    "ExecuteTime": {
     "end_time": "2025-01-30T18:17:26.830872200Z",
     "start_time": "2025-01-30T18:17:26.806962100Z"
    }
   },
   "id": "897d60ca4b370893"
  },
  {
   "cell_type": "code",
   "execution_count": 11,
   "outputs": [
    {
     "data": {
      "text/plain": "<Figure size 640x480 with 2 Axes>",
      "image/png": "[encoded data removed]"
     },
     "metadata": {},
     "output_type": "display_data"
    }
   ],
   "source": [
    "# plotting the depthmap\n",
    "plt.imshow(depth_map_meters)\n",
    "plt.colorbar(label=\"Depth Value\")\n",
    "plt.title(\"DepthMapIPhone\")\n",
    "plt.ylabel(\"Height\")\n",
    "plt.xlabel(\"Width\")\n",
    "plt.show()"
   ],
   "metadata": {
    "collapsed": false,
    "ExecuteTime": {
     "end_time": "2025-01-30T18:17:27.379557900Z",
     "start_time": "2025-01-30T18:17:27.220710400Z"
    }
   },
   "id": "c753df955775a0b2"
  },
  {
   "cell_type": "markdown",
   "source": [
    " Processing Depth Map"
   ],
   "metadata": {
    "collapsed": false
   },
   "id": "9353088785aca80b"
  },
  {
   "cell_type": "markdown",
   "source": [
    "Filterung"
   ],
   "metadata": {
    "collapsed": false
   },
   "id": "d0ae144eabd6eb3b"
  },
  {
   "cell_type": "code",
   "execution_count": null,
   "outputs": [],
   "source": [],
   "metadata": {
    "collapsed": false,
    "ExecuteTime": {
     "start_time": "2025-01-30T18:16:06.499653200Z"
    }
   },
   "id": "2a35190ee74f7799"
  },
  {
   "cell_type": "markdown",
   "source": [
    "# Create RGBD image"
   ],
   "metadata": {
    "collapsed": false
   },
   "id": "e6bc2e5080091bec"
  },
  {
   "cell_type": "markdown",
   "source": [
    " RGBD Image"
   ],
   "metadata": {
    "collapsed": false
   },
   "id": "5b8c4137d941279a"
  },
  {
   "cell_type": "code",
   "execution_count": null,
   "outputs": [],
   "source": [
    "rgbd = o3d.geometry.RGBDImage.create_from_color_and_depth(rgb_o3d_Iphone, depth_o3d_Iphone)  # Quelle:https://www.open3d.org/docs/latest/python_api/open3d.geometry.RGBDImage.html und https://stackoverflo.com/questions/63587617/how-to-create-a-rgbd-image-from-numpy-rgb-array-and-depth-array"
   ],
   "metadata": {
    "collapsed": false,
    "ExecuteTime": {
     "start_time": "2025-01-30T18:16:06.500653400Z"
    }
   },
   "id": "72ae92bfc4cc3f4d"
  },
  {
   "cell_type": "markdown",
   "source": [
    "Comparison of RGB and depth map image"
   ],
   "metadata": {
    "collapsed": false
   },
   "id": "a614b8ec2dd05d5"
  },
  {
   "cell_type": "code",
   "execution_count": null,
   "outputs": [],
   "source": [
    "plt.subplot(1, 2, 1)\n",
    "plt.title(\"Farbbild\")\n",
    "plt.imshow(rgbd.color)\n",
    "plt.subplot(1, 2, 2)\n",
    "plt.title(\"Tiefenbild\")\n",
    "plt.imshow(rgbd.depth)\n",
    "plt.show()"
   ],
   "metadata": {
    "collapsed": false,
    "ExecuteTime": {
     "start_time": "2025-01-30T18:16:06.501652500Z"
    }
   },
   "id": "2e778af0be6ac3d3"
  },
  {
   "cell_type": "markdown",
   "source": [
    "# Get camera intrinsics"
   ],
   "metadata": {
    "collapsed": false
   },
   "id": "b7f4f17b15cf04bc"
  },
  {
   "cell_type": "markdown",
   "source": [
    "With the intrinsics of the camera that took the photo we are able to correct distortions "
   ],
   "metadata": {
    "collapsed": false
   },
   "id": "de44fa14f993f5a3"
  },
  {
   "cell_type": "markdown",
   "source": [
    "## OpenCV camera calibration"
   ],
   "metadata": {
    "collapsed": false
   },
   "id": "9020369b69105f43"
  },
  {
   "cell_type": "code",
   "execution_count": null,
   "outputs": [],
   "source": [
    "images = glob.glob(r\"C:\\Users\\Diren\\Nextcloud\\HTW\\4.Semester-Masterarbeit\\Masterarbeit\\Code\\Chesspattern\\8x11_normalCamera\\*.jpg\") #checkerboard pictures for calibration"
   ],
   "metadata": {
    "collapsed": false,
    "ExecuteTime": {
     "start_time": "2025-01-30T18:16:06.502652700Z"
    }
   },
   "id": "cc0234dfd51f6a0a"
  },
  {
   "cell_type": "code",
   "execution_count": null,
   "outputs": [],
   "source": [
    "ret,mtx,dist,rvecs,tvecs, reprojection_error = get_camera_intrinsics(images)"
   ],
   "metadata": {
    "collapsed": false,
    "ExecuteTime": {
     "start_time": "2025-01-30T18:16:06.504653300Z"
    }
   },
   "id": "d50c84156f5bbf0e"
  },
  {
   "cell_type": "markdown",
   "source": [
    "because the depthmap image is 768x576 and i can´t calibrate the lidar sensor directly, i will scale the matrix (mtx) and distortion coefficients (dist) of the normal camera down. "
   ],
   "metadata": {
    "collapsed": false
   },
   "id": "28fa21d1a172d7e6"
  },
  {
   "cell_type": "code",
   "execution_count": null,
   "outputs": [],
   "source": [
    "original_width, original_height = 3024, 4032\n",
    "\n",
    "# sclaingfactor\n",
    "scale_x = dm_width_Iphone / rgb_width_Iphone\n",
    "scale_y = dm_height_Iphone / rgb_height_Iphone\n",
    "\n",
    "# scaling\n",
    "scaled_mtx = mtx.copy()\n",
    "scaled_mtx[0, 0] *= scale_x  # f_x\n",
    "scaled_mtx[1, 1] *= scale_y  # f_y\n",
    "scaled_mtx[0, 2] *= scale_x  # c_x\n",
    "scaled_mtx[1, 2] *= scale_y  # c_y\n",
    "\n",
    "print(\"Angepasste intrinsische Matrix:\")\n",
    "print(scaled_mtx)"
   ],
   "metadata": {
    "collapsed": false,
    "ExecuteTime": {
     "start_time": "2025-01-30T18:16:06.505653200Z"
    }
   },
   "id": "9a16b3ac091cc10a"
  },
  {
   "cell_type": "markdown",
   "source": [
    "## Exiftool camera calibration"
   ],
   "metadata": {
    "collapsed": false
   },
   "id": "bbff157784c1fe25"
  },
  {
   "cell_type": "markdown",
   "source": [
    "intrinsische Matrix und distortion_coefficients via exif"
   ],
   "metadata": {
    "collapsed": false
   },
   "id": "523076f5d7447afb"
  },
  {
   "cell_type": "code",
   "execution_count": null,
   "outputs": [],
   "source": [
    "mtx_exif = np.array([\n",
    "    [2878.218994140625, 0.0, 1509.392333984375],\n",
    "    [0.0, 2878.218994140625, 2012.1256],\n",
    "    [0.0, 0.0, 1.0]\n",
    "])\n"
   ],
   "metadata": {
    "collapsed": false,
    "ExecuteTime": {
     "start_time": "2025-01-30T18:16:06.506654700Z"
    }
   },
   "id": "a27019d0a2fe3f72"
  },
  {
   "cell_type": "code",
   "execution_count": null,
   "outputs": [],
   "source": [
    "distortion_coefficients_exif = np.array([\n",
    "    -0.35576209425926208,  # k1\n",
    "    -0.0066862036474049091,  # k2\n",
    "    0.0057414853945374489,  # p1\n",
    "    -0.00049229874275624752,  # p2\n",
    "    1.8682043446460739e-05,  # k3\n",
    "    -3.3853208947220992e-07,  # k4\n",
    "    2.383720332232997e-09   # k5\n",
    "])"
   ],
   "metadata": {
    "collapsed": false,
    "ExecuteTime": {
     "start_time": "2025-01-30T18:16:06.508653Z"
    }
   },
   "id": "7781ea3a5f9cb512"
  },
  {
   "cell_type": "code",
   "execution_count": null,
   "outputs": [],
   "source": [
    "distortion_coefficients_exif = distortion_coefficients_exif[:5]"
   ],
   "metadata": {
    "collapsed": false,
    "ExecuteTime": {
     "end_time": "2025-01-30T18:16:06.528533900Z",
     "start_time": "2025-01-30T18:16:06.509653900Z"
    }
   },
   "id": "da63ab9947255abd"
  },
  {
   "cell_type": "markdown",
   "source": [
    "Wir müssen die Exif mxt anpassen, da die Werte für die Abmessung des RGB-Bilds abgestimmt sind und nun auf die Abmessung der Tiefenkarte skaliert werden muss."
   ],
   "metadata": {
    "collapsed": false
   },
   "id": "dcf56ea74e0c2e43"
  },
  {
   "cell_type": "code",
   "execution_count": null,
   "outputs": [],
   "source": [
    "# sclaingfactor\n",
    "scale_x = dm_width_Iphone / rgb_width_Iphone\n",
    "scale_y = dm_height_Iphone / rgb_height_Iphone\n",
    "\n",
    "# scaling\n",
    "scaled_mtx_exif = mtx_exif.copy()\n",
    "scaled_mtx_exif[0, 0] *= scale_x  # f_x\n",
    "scaled_mtx_exif[1, 1] *= scale_y  # f_y\n",
    "scaled_mtx_exif[0, 2] *= scale_x  # c_x\n",
    "scaled_mtx_exif[1, 2] *= scale_y  # c_y\n",
    "\n",
    "print(\"Angepasste intrinsische Matrix:\")\n",
    "print(scaled_mtx_exif)"
   ],
   "metadata": {
    "collapsed": false,
    "ExecuteTime": {
     "start_time": "2025-01-30T18:16:06.510653400Z"
    }
   },
   "id": "170c5784cf9b96e4"
  },
  {
   "cell_type": "markdown",
   "source": [
    "because the depthmap is already processes by the IPhone and normalized, I have to scale to numbers back to meters. the maximum depth captured by the LIDAR sensor seems to be 5 meters.\n",
    "so the maximum value of the unedited array, which is 255, is equal to 5 meters while 0 = 0 meters."
   ],
   "metadata": {
    "collapsed": false
   },
   "id": "385124c70b38e266"
  },
  {
   "cell_type": "markdown",
   "source": [
    "scaled intrinsic"
   ],
   "metadata": {
    "collapsed": false
   },
   "id": "9df5c8e887f3f655"
  },
  {
   "cell_type": "code",
   "execution_count": null,
   "outputs": [],
   "source": [
    "fx = scaled_mtx_exif[0, 0]\n",
    "fy = scaled_mtx_exif[1, 1]\n",
    "cx = scaled_mtx_exif[0, 2]\n",
    "cy = scaled_mtx_exif[1, 2]\n",
    "\n",
    "print(f\"fx: {fx}, fy: {fy}, cx: {cx}, cy: {cy}\")\n",
    "\n",
    "\n",
    "# Intrinsic Matrix als Open3D-Objekt\n",
    "intrinsic_exif_scaled = o3d.camera.PinholeCameraIntrinsic(width=dm_width_Iphone,height=dm_height_Iphone, fx=fx, fy=fy, cx=cx, cy=cy)\n"
   ],
   "metadata": {
    "collapsed": false,
    "ExecuteTime": {
     "start_time": "2025-01-30T18:16:06.512653Z"
    }
   },
   "id": "245dd17e9b3540aa"
  },
  {
   "cell_type": "markdown",
   "source": [
    "unscaled intrinsic"
   ],
   "metadata": {
    "collapsed": false
   },
   "id": "b26bc896d0f1b3ad"
  },
  {
   "cell_type": "code",
   "execution_count": null,
   "outputs": [],
   "source": [
    "fx = mtx_exif[0, 0]\n",
    "fy = mtx_exif[1, 1]\n",
    "cx = mtx_exif[0, 2]\n",
    "cy = mtx_exif[1, 2]\n",
    "\n",
    "print(f\"fx: {fx}, fy: {fy}, cx: {cx}, cy: {cy}\")\n",
    "\n",
    "\n",
    "# Intrinsic Matrix als Open3D-Objekt\n",
    "intrinsic_exif = o3d.camera.PinholeCameraIntrinsic(width=dm_width_Iphone,height=dm_height_Iphone, fx=fx, fy=fy, cx=cx, cy=cy)\n"
   ],
   "metadata": {
    "collapsed": false,
    "ExecuteTime": {
     "start_time": "2025-01-30T18:16:06.513653400Z"
    }
   },
   "id": "f2e00ae45da5fe16"
  },
  {
   "cell_type": "markdown",
   "source": [
    "# Create point cloud"
   ],
   "metadata": {
    "collapsed": false
   },
   "id": "80540d377b4957c0"
  },
  {
   "cell_type": "markdown",
   "source": [
    "Open3D Object without metric scaling"
   ],
   "metadata": {
    "collapsed": false
   },
   "id": "3f35e1a1797f52cc"
  },
  {
   "cell_type": "code",
   "execution_count": null,
   "outputs": [],
   "source": [
    "depth_data_uint16_Iphone = (depth_array_Iphone.astype(np.uint16)) #Quelle: https://stackoverflow.com/questions/73067231/how-to-convert-uint8-image-to-uint16-python\n",
    "depth_uint16_o3d_Iphone = o3d.geometry.Image(depth_data_uint16_Iphone)"
   ],
   "metadata": {
    "collapsed": false,
    "ExecuteTime": {
     "start_time": "2025-01-30T18:16:06.514652900Z"
    }
   },
   "id": "74d9043e1ed383c7"
  },
  {
   "cell_type": "markdown",
   "source": [
    "Metric Open3D Object"
   ],
   "metadata": {
    "collapsed": false
   },
   "id": "473933370c60b2aa"
  },
  {
   "cell_type": "code",
   "execution_count": null,
   "outputs": [],
   "source": [
    "depth_data_uint16_Iphone_metric = (depth_map_meters * 1000).astype(np.uint16)  # Meter -> Millimeter\n",
    "depth_uint16_o3d_Iphone_metric = o3d.geometry.Image(depth_data_uint16_Iphone_metric)\n"
   ],
   "metadata": {
    "collapsed": false,
    "ExecuteTime": {
     "start_time": "2025-01-30T18:16:06.516653400Z"
    }
   },
   "id": "c1bdc46e3570bc7c"
  },
  {
   "cell_type": "markdown",
   "source": [
    "The PCD looks more accurate when scaling the intrinsic matrix first"
   ],
   "metadata": {
    "collapsed": false
   },
   "id": "ca3b428a00bb98f8"
  },
  {
   "cell_type": "markdown",
   "source": [
    "## Point cloud only from depth image"
   ],
   "metadata": {
    "collapsed": false
   },
   "id": "b4cf780a8dbf3bad"
  },
  {
   "cell_type": "markdown",
   "source": [
    "PCD Iphone"
   ],
   "metadata": {
    "collapsed": false
   },
   "id": "f7e386c5ea526fd9"
  },
  {
   "cell_type": "markdown",
   "source": [
    "PCD without metric scaling"
   ],
   "metadata": {
    "collapsed": false
   },
   "id": "b0010810217dba32"
  },
  {
   "cell_type": "code",
   "execution_count": null,
   "outputs": [],
   "source": [
    "\n",
    "# Open3D-Image aus Tiefenkarte erstellen\n",
    "depth_image = o3d.geometry.Image(depth_uint16_o3d_Iphone)\n",
    "\n",
    "# Punktwolke aus Tiefenkarte erstellen\n",
    "pcd_Iphone_int = o3d.geometry.PointCloud.create_from_depth_image(\n",
    "    depth_image,\n",
    "    intrinsic=intrinsic_exif_scaled\n",
    "    #depth_scale=1000.0,  # Skalierungsfaktor für Millimeter\n",
    "    #depth_trunc=1000.0,  # Maximale Tiefe in Millimetern\n",
    ")\n"
   ],
   "metadata": {
    "collapsed": false,
    "ExecuteTime": {
     "start_time": "2025-01-30T18:16:06.517653300Z"
    }
   },
   "id": "cb4348dd465b3f7a"
  },
  {
   "cell_type": "code",
   "execution_count": null,
   "outputs": [],
   "source": [
    "o3d.visualization.draw_geometries([pcd_Iphone_int])"
   ],
   "metadata": {
    "collapsed": false,
    "ExecuteTime": {
     "start_time": "2025-01-30T18:16:06.518653400Z"
    }
   },
   "id": "248f03a609b2800e"
  },
  {
   "cell_type": "markdown",
   "source": [
    "Metric PCD"
   ],
   "metadata": {
    "collapsed": false
   },
   "id": "4585770666aee3bb"
  },
  {
   "cell_type": "code",
   "execution_count": null,
   "outputs": [],
   "source": [
    "depth_image_metric = o3d.geometry.Image(depth_uint16_o3d_Iphone_metric)\n",
    "\n",
    "pcd_Iphone_metric = o3d.geometry.PointCloud.create_from_depth_image(\n",
    "    depth_image_metric,\n",
    "    intrinsic=intrinsic_exif_scaled,\n",
    "    depth_scale=1000.0,  # Skalierungsfaktor für Millimeter\n",
    "    depth_trunc=3000.0,  # Maximale Tiefe in Millimetern\n",
    ")\n"
   ],
   "metadata": {
    "collapsed": false,
    "ExecuteTime": {
     "start_time": "2025-01-30T18:16:06.520653300Z"
    }
   },
   "id": "179d2c717bc6fd60"
  },
  {
   "cell_type": "code",
   "execution_count": null,
   "outputs": [],
   "source": [
    "o3d.visualization.draw_geometries([pcd_Iphone_metric])"
   ],
   "metadata": {
    "collapsed": false,
    "ExecuteTime": {
     "start_time": "2025-01-30T18:16:06.522652500Z"
    }
   },
   "id": "ccfd0c79dc86d8e5"
  },
  {
   "cell_type": "markdown",
   "source": [
    "## Point cloud only from RGBD image"
   ],
   "metadata": {
    "collapsed": false
   },
   "id": "64e0b40d4bc849c"
  },
  {
   "cell_type": "code",
   "execution_count": null,
   "outputs": [],
   "source": [
    "pcrgbd = o3d.geometry.PointCloud.create_from_rgbd_image(rgbd, intrinsic_exif_scaled)\n",
    "o3d.visualization.draw_geometries([pcrgbd])"
   ],
   "metadata": {
    "collapsed": false,
    "ExecuteTime": {
     "start_time": "2025-01-30T18:16:06.523653200Z"
    }
   },
   "id": "fa249596009e4590"
  },
  {
   "cell_type": "markdown",
   "source": [
    "# Clean Point Cloud"
   ],
   "metadata": {
    "collapsed": false
   },
   "id": "8e0c034315a431d1"
  },
  {
   "cell_type": "markdown",
   "source": [
    "To get better results from the PC for the volume estimation I will clean it using Open3D methods"
   ],
   "metadata": {
    "collapsed": false
   },
   "id": "2fa1b68d2f6a6a44"
  },
  {
   "cell_type": "code",
   "execution_count": null,
   "outputs": [],
   "source": [
    "pcd_center = pcd_Iphone_metric.get_center()\n",
    "pcd_Iphone_metric.translate(pcd_center)"
   ],
   "metadata": {
    "collapsed": false,
    "ExecuteTime": {
     "start_time": "2025-01-30T18:16:06.524652500Z"
    }
   },
   "id": "b49bc6ace5251e46"
  },
  {
   "cell_type": "markdown",
   "source": [
    "## Voxelization"
   ],
   "metadata": {
    "collapsed": false
   },
   "id": "809869c1576a3643"
  },
  {
   "cell_type": "code",
   "execution_count": null,
   "outputs": [],
   "source": [
    "#pcd_Iphone_metric = pcd_Iphone_metric.voxel_down_sample(voxel_size=0.0000005)\n",
    "#o3d.visualization.draw_geometries([pcd_Iphone_metric])"
   ],
   "metadata": {
    "collapsed": false,
    "ExecuteTime": {
     "start_time": "2025-01-30T18:16:06.525654Z"
    }
   },
   "id": "35984c2e205a6935"
  },
  {
   "cell_type": "markdown",
   "source": [
    "## Statistical oulier removal (SOR)\n",
    "Bereinigung der Punktwolke mit Statistical Outlier Removal"
   ],
   "metadata": {
    "collapsed": false
   },
   "id": "ca8b983931bb725"
  },
  {
   "cell_type": "code",
   "execution_count": null,
   "outputs": [],
   "source": [
    "#Quelle: https://www.open3d.org/docs/latest/tutorial/Advanced/pointcloud_outlier_removal.html\n",
    "\n",
    "def display_inlier_outlier(cloud, ind):\n",
    "    inlier_cloud = cloud.select_by_index(ind)\n",
    "    outlier_cloud = cloud.select_by_index(ind, invert=True)\n",
    "\n",
    "    print(\"Showing outliers (red) and inliers (gray): \")\n",
    "    outlier_cloud.paint_uniform_color([1, 0, 0])\n",
    "    inlier_cloud.paint_uniform_color([0.8, 0.8, 0.8])\n",
    "    o3d.visualization.draw_geometries([inlier_cloud, outlier_cloud])"
   ],
   "metadata": {
    "collapsed": false,
    "ExecuteTime": {
     "start_time": "2025-01-30T18:16:06.527465700Z"
    }
   },
   "id": "6d9febbb1ea5ea92"
  },
  {
   "cell_type": "markdown",
   "source": [
    "Removing the outliers"
   ],
   "metadata": {
    "collapsed": false
   },
   "id": "637c3889b6512928"
  },
  {
   "cell_type": "code",
   "execution_count": null,
   "outputs": [],
   "source": [
    "cl, ind = pcd_Iphone_metric.remove_statistical_outlier(nb_neighbors=100, std_ratio=3.0) #gute Ergebnisse mit diesen Werten bisher"
   ],
   "metadata": {
    "collapsed": false,
    "ExecuteTime": {
     "end_time": "2025-01-30T18:16:06.696645900Z",
     "start_time": "2025-01-30T18:16:06.528533900Z"
    }
   },
   "id": "559ba76b5eeea0aa"
  },
  {
   "cell_type": "markdown",
   "source": [
    "Displaying inlier in grey and outlier in red"
   ],
   "metadata": {
    "collapsed": false
   },
   "id": "cab1a1430738f91f"
  },
  {
   "cell_type": "code",
   "execution_count": null,
   "outputs": [],
   "source": [
    "display_inlier_outlier(pcd_Iphone_metric, ind)"
   ],
   "metadata": {
    "collapsed": false,
    "ExecuteTime": {
     "start_time": "2025-01-30T18:16:06.529750700Z"
    }
   },
   "id": "d6fd19f70e9cc21d"
  },
  {
   "cell_type": "markdown",
   "source": [
    "We will use this PC from now on"
   ],
   "metadata": {
    "collapsed": false
   },
   "id": "6e9e78df7269ea97"
  },
  {
   "cell_type": "code",
   "execution_count": null,
   "outputs": [],
   "source": [
    "# Cleaned PC\n",
    "pcd_Iphone_metric = pcd_Iphone_metric.select_by_index(ind)  # Nur Inlier"
   ],
   "metadata": {
    "collapsed": false,
    "ExecuteTime": {
     "start_time": "2025-01-30T18:16:06.531320600Z"
    }
   },
   "id": "9200fe1e7f207195"
  },
  {
   "cell_type": "markdown",
   "source": [
    "Visualizing the new PC"
   ],
   "metadata": {
    "collapsed": false
   },
   "id": "1991410888644ae2"
  },
  {
   "cell_type": "code",
   "execution_count": null,
   "outputs": [],
   "source": [
    "#o3d.visualization.draw_geometries([pcd_Iphone_metric])"
   ],
   "metadata": {
    "collapsed": false,
    "ExecuteTime": {
     "start_time": "2025-01-30T18:16:06.531835800Z"
    }
   },
   "id": "10ca47518df761a0"
  },
  {
   "cell_type": "markdown",
   "source": [
    "## Estimating normals"
   ],
   "metadata": {
    "collapsed": false
   },
   "id": "9c996acfc8122fa"
  },
  {
   "cell_type": "code",
   "execution_count": null,
   "outputs": [],
   "source": [
    "nn_distance = np.mean(pcd_Iphone_metric.compute_nearest_neighbor_distance())\n",
    "\n",
    "print(nn_distance)"
   ],
   "metadata": {
    "collapsed": false,
    "ExecuteTime": {
     "start_time": "2025-01-30T18:16:06.533385100Z"
    }
   },
   "id": "1913115ea6d42ece"
  },
  {
   "cell_type": "code",
   "execution_count": null,
   "outputs": [],
   "source": [
    "radius_normals = nn_distance * 4\n",
    "\n",
    "pcd_Iphone_metric.estimate_normals(search_param=o3d.geometry.KDTreeSearchParamHybrid(radius=radius_normals, max_nn=16), fast_normal_computation=True)\n",
    "\n",
    "pcd_Iphone_metric.paint_uniform_color([0.6, 0.6, 0.6])\n",
    "o3d.visualization.draw_geometries([pcd_Iphone_metric])"
   ],
   "metadata": {
    "collapsed": false,
    "ExecuteTime": {
     "start_time": "2025-01-30T18:16:06.534971500Z"
    }
   },
   "id": "482121de1df864e7"
  },
  {
   "cell_type": "markdown",
   "source": [
    "## Plane segmentation with RANSAC"
   ],
   "metadata": {
    "collapsed": false
   },
   "id": "656244480f7015ca"
  },
  {
   "cell_type": "code",
   "execution_count": null,
   "outputs": [],
   "source": [
    "plane_model, inliers = pcd_Iphone_metric.segment_plane(\n",
    "    distance_threshold=0.01,\n",
    "    ransac_n=10,\n",
    "    num_iterations=6000,\n",
    "    probability=1\n",
    ")\n",
    "\n",
    "[a, b, c, d] = plane_model.tolist()\n",
    "\n",
    "# Inlier- und Outlier-Punktwolken\n",
    "inlier_cloud = pcd_Iphone_metric.select_by_index(inliers)\n",
    "inlier_cloud = inlier_cloud.paint_uniform_color([1.0, 0, 0])\n",
    "outlier_cloud = pcd_Iphone_metric.select_by_index(inliers, invert=True)\n",
    "\n",
    "# Darstellung der Punktwolken\n",
    "o3d.visualization.draw_geometries(\n",
    "    [inlier_cloud, outlier_cloud])\n"
   ],
   "metadata": {
    "collapsed": false,
    "ExecuteTime": {
     "start_time": "2025-01-30T18:16:06.536531800Z"
    }
   },
   "id": "9f5a791bd9d7906a"
  },
  {
   "cell_type": "code",
   "execution_count": null,
   "outputs": [],
   "source": [
    "pcd_Iphone_metric = outlier_cloud"
   ],
   "metadata": {
    "collapsed": false,
    "ExecuteTime": {
     "start_time": "2025-01-30T18:16:06.537598300Z"
    }
   },
   "id": "e48890f776ce5d89"
  },
  {
   "cell_type": "code",
   "execution_count": null,
   "outputs": [],
   "source": [
    "o3d.visualization.draw_geometries([pcd_Iphone_metric], window_name=\"\")"
   ],
   "metadata": {
    "collapsed": false,
    "ExecuteTime": {
     "start_time": "2025-01-30T18:16:06.538647Z"
    }
   },
   "id": "ace07bdbb3baaa40"
  },
  {
   "cell_type": "markdown",
   "source": [
    "## SOR again"
   ],
   "metadata": {
    "collapsed": false
   },
   "id": "5032234e569fd5da"
  },
  {
   "cell_type": "code",
   "execution_count": null,
   "outputs": [],
   "source": [
    "#ggf. kann man für die restlichen punkte nun wieder SOR nutzen?\n",
    "cl, ind = pcd_Iphone_metric.remove_statistical_outlier(nb_neighbors=1000, std_ratio=3.0) "
   ],
   "metadata": {
    "collapsed": false,
    "ExecuteTime": {
     "start_time": "2025-01-30T18:16:06.539645800Z"
    }
   },
   "id": "116c594e0512a6b"
  },
  {
   "cell_type": "code",
   "execution_count": null,
   "outputs": [],
   "source": [
    "display_inlier_outlier(pcd_Iphone_metric, ind)"
   ],
   "metadata": {
    "collapsed": false,
    "ExecuteTime": {
     "start_time": "2025-01-30T18:16:06.540720900Z"
    }
   },
   "id": "7e5cddc031889f6e"
  },
  {
   "cell_type": "code",
   "execution_count": null,
   "outputs": [],
   "source": [
    "# Cleaned PC\n",
    "pcd_Iphone_metric = pcd_Iphone_metric.select_by_index(ind)  # Nur Inlier"
   ],
   "metadata": {
    "collapsed": false,
    "ExecuteTime": {
     "start_time": "2025-01-30T18:16:06.541786700Z"
    }
   },
   "id": "344e2540751ba382"
  },
  {
   "cell_type": "markdown",
   "source": [
    "Visualizing the new PC"
   ],
   "metadata": {
    "collapsed": false
   },
   "id": "6f711624ceb16b43"
  },
  {
   "cell_type": "code",
   "execution_count": null,
   "outputs": [],
   "source": [
    "o3d.visualization.draw_geometries([pcd_Iphone_metric])"
   ],
   "metadata": {
    "collapsed": false,
    "ExecuteTime": {
     "start_time": "2025-01-30T18:16:06.543350300Z"
    }
   },
   "id": "bca0a1b7869c55e0"
  },
  {
   "cell_type": "markdown",
   "source": [
    "## Hidden point removal"
   ],
   "metadata": {
    "collapsed": false
   },
   "id": "3fecadf62c0f4faf"
  },
  {
   "cell_type": "code",
   "execution_count": null,
   "outputs": [],
   "source": [],
   "metadata": {
    "collapsed": false,
    "ExecuteTime": {
     "start_time": "2025-01-30T18:16:06.544413600Z"
    }
   },
   "id": "d515024fc9cc113e"
  },
  {
   "cell_type": "markdown",
   "source": [
    "# Sonstiges/Tests"
   ],
   "metadata": {
    "collapsed": false
   },
   "id": "d9795dfa927ff3c"
  },
  {
   "cell_type": "markdown",
   "source": [
    "## DBSCAN-Clustering\n",
    "Ggf. brauchen wir DBSACN nicht, da wir die Tischebene behalten wollen."
   ],
   "metadata": {
    "collapsed": false
   },
   "id": "25b73866ac7bb644"
  },
  {
   "cell_type": "code",
   "execution_count": null,
   "outputs": [],
   "source": [
    "# DBSCAN-Clustering\n",
    "eps = 0.02  # Radius für Nachbarn\n",
    "min_points = 50  # Mindestanzahl von Punkten in einem Cluster\n",
    "labels = np.array(pcd_Iphone_metric.cluster_dbscan(eps=eps, min_points=min_points, print_progress=True))\n",
    "\n",
    "num_clusters = len(set(labels)) - (1 if -1 in labels else 0)\n",
    "print(f\"Anzahl der Cluster: {num_clusters}\")\n",
    "\n",
    "# colors for clusters\n",
    "colors = plt.get_cmap(\"tab20\")(labels / (num_clusters if num_clusters > 0 else 1))\n",
    "colors[labels < 0] = 0  # Rauschen (Label -1) schwarz färben\n",
    "pcd_Iphone_metric.colors = o3d.utility.Vector3dVector(colors[:, :3])\n",
    "\n",
    "o3d.visualization.draw_geometries([pcd_Iphone_metric])"
   ],
   "metadata": {
    "collapsed": false,
    "ExecuteTime": {
     "start_time": "2025-01-30T18:16:06.545461400Z"
    }
   },
   "id": "49612a7a81425ab"
  },
  {
   "cell_type": "code",
   "execution_count": null,
   "outputs": [],
   "source": [
    "for cluster_id in np.unique(labels):\n",
    "    cluster_size = np.sum(labels == cluster_id)\n",
    "    if cluster_id == -1:\n",
    "        print(f\"Rauschen: {cluster_size} Punkte\")\n",
    "    else:\n",
    "        print(f\"Cluster {cluster_id}: {cluster_size} Punkte\")"
   ],
   "metadata": {
    "collapsed": false,
    "ExecuteTime": {
     "start_time": "2025-01-30T18:16:06.547030300Z"
    }
   },
   "id": "206a8fec03afed20"
  },
  {
   "cell_type": "code",
   "execution_count": null,
   "outputs": [],
   "source": [
    "# ID des zu entfernenden Clusters\n",
    "cluster_to_remove = 1  # Ersetzen Sie dies durch die Cluster-ID des unerwünschten Clusters\n",
    "\n",
    "# Indizes der Punkte im Cluster finden\n",
    "indices_to_remove = np.where(labels == cluster_to_remove)[0]\n",
    "\n",
    "# Punktwolke ohne das unerwünschte Cluster erstellen\n",
    "remaining_cloud = pcd_Iphone_metric.select_by_index(indices_to_remove, invert=True)\n",
    "\n",
    "# Visualisierung der bereinigten Punktwolke\n",
    "o3d.visualization.draw_geometries([remaining_cloud], window_name=\"Bereinigte Punktwolke\")\n"
   ],
   "metadata": {
    "collapsed": false,
    "ExecuteTime": {
     "start_time": "2025-01-30T18:16:06.548081400Z"
    }
   },
   "id": "552300631fa92b9e"
  },
  {
   "cell_type": "markdown",
   "source": [
    "## Convex Hull\n",
    "Die Konvexe Hülle wird ggf. relevant für die Volumenberechnung, sobald ich nur das Zielobjekt extrahieren kann. Problem ist nur bei dieser Methode, dass bspw. runde Objekte überschätzt werden. "
   ],
   "metadata": {
    "collapsed": false
   },
   "id": "fdf349ae545468e9"
  },
  {
   "cell_type": "code",
   "execution_count": null,
   "outputs": [],
   "source": [
    "scale_factor = 1000  # Skalieren um den Faktor 1000 (z. B. mm -> m)\n",
    "remaining_cloud.scale(scale_factor, center=remaining_cloud.get_center())"
   ],
   "metadata": {
    "collapsed": false,
    "ExecuteTime": {
     "start_time": "2025-01-30T18:16:06.548605600Z"
    }
   },
   "id": "d5091539ec43ab0b"
  },
  {
   "cell_type": "code",
   "execution_count": null,
   "outputs": [],
   "source": [
    "# calculate hull\n",
    "hull_mesh, hull_vertices = remaining_cloud.compute_convex_hull()\n",
    "\n",
    "hull_ls = o3d.geometry.LineSet.create_from_triangle_mesh(hull_mesh)\n",
    "\n",
    "hull_ls.paint_uniform_color([1, 0, 0])\n",
    "\n",
    "o3d.visualization.draw_geometries([remaining_cloud, hull_ls])\n"
   ],
   "metadata": {
    "collapsed": false,
    "ExecuteTime": {
     "start_time": "2025-01-30T18:16:06.549649700Z"
    }
   },
   "id": "42f88c909e06b7d3"
  },
  {
   "cell_type": "code",
   "execution_count": null,
   "outputs": [],
   "source": [
    "# Konvexe Hülle aus der Punktwolke berechnen\n",
    "hull, _ = remaining_cloud.compute_convex_hull()\n",
    "\n",
    "#Volumen der konvexen Hülle berechnen\n",
    "volume = hull.get_volume()\n",
    "\n",
    "print(f\"Volumen der konvexen Hülle: {volume:.2f} Einheiten^3\")"
   ],
   "metadata": {
    "collapsed": false,
    "ExecuteTime": {
     "start_time": "2025-01-30T18:16:06.551219Z"
    }
   },
   "id": "ca286370d50257f6"
  },
  {
   "cell_type": "code",
   "execution_count": null,
   "outputs": [],
   "source": [
    "bounds = remaining_cloud.get_max_bound() - remaining_cloud.get_min_bound()\n",
    "print(f\"Ausdehnung der Punktwolke: x={bounds[0]:.2f}, y={bounds[1]:.2f}, z={bounds[2]:.2f}\")\n"
   ],
   "metadata": {
    "collapsed": false,
    "ExecuteTime": {
     "start_time": "2025-01-30T18:16:06.552257600Z"
    }
   },
   "id": "d9747f53592e117"
  },
  {
   "cell_type": "code",
   "execution_count": null,
   "outputs": [],
   "source": [
    "print(f\"Anzahl der Punkte in der konvexen Hülle: {len(hull.vertices)}\")\n",
    "print(f\"Anzahl der Dreiecke in der konvexen Hülle: {len(hull.triangles)}\")\n"
   ],
   "metadata": {
    "collapsed": false,
    "ExecuteTime": {
     "start_time": "2025-01-30T18:16:06.553299200Z"
    }
   },
   "id": "7b0fd9718c043ea4"
  },
  {
   "cell_type": "code",
   "execution_count": null,
   "outputs": [],
   "source": [
    "# Visualisierung der Hülle und Punktwolke\n",
    "hull.paint_uniform_color([1, 0, 0])  # Hülle rot färben\n",
    "o3d.visualization.draw_geometries([remaining_cloud, hull])"
   ],
   "metadata": {
    "collapsed": false,
    "ExecuteTime": {
     "start_time": "2025-01-30T18:16:06.553821500Z"
    }
   },
   "id": "d4317f866b49cf7e"
  },
  {
   "cell_type": "markdown",
   "source": [
    "## Mesh\n",
    "Ggf. auch interessant"
   ],
   "metadata": {
    "collapsed": false
   },
   "id": "893e80589c9fa959"
  },
  {
   "cell_type": "markdown",
   "source": [
    "## Interaktive PC"
   ],
   "metadata": {
    "collapsed": false
   },
   "id": "1074126d208c070d"
  },
  {
   "cell_type": "code",
   "execution_count": null,
   "outputs": [],
   "source": [
    "# Punktwolke interaktiv anzeigen\n",
    "print(\"Drücke 'Shift + Linksklick', um Punkte auszuwählen, und 'Shift + Rechtsklick', um Auswahl aufzuheben.\")\n",
    "picked_points = o3d.visualization.draw_geometries_with_editing([pcd_Iphone_metric])\n",
    "\n",
    "# Ausgewählte Punkt-Indizes anzeigen\n",
    "print(f\"Ausgewählte Punkt-Indizes: {picked_points}\")"
   ],
   "metadata": {
    "collapsed": false,
    "ExecuteTime": {
     "start_time": "2025-01-30T18:16:06.554893100Z"
    }
   },
   "id": "a4b497526f0b6b97"
  },
  {
   "cell_type": "code",
   "execution_count": null,
   "outputs": [],
   "source": [
    "print(picked_points)"
   ],
   "metadata": {
    "collapsed": false,
    "ExecuteTime": {
     "start_time": "2025-01-30T18:16:06.556009400Z"
    }
   },
   "id": "6111c305f9b8c2cb"
  },
  {
   "cell_type": "code",
   "execution_count": null,
   "outputs": [],
   "source": [
    "import numpy as np\n",
    "\n",
    "# Koordinaten der Punkte\n",
    "point1 = np.array([0.23, 0.015, 0.45])  # Punkt 1 (#250552)\n",
    "point2 = np.array([-0.04, 0.025, 0.46])  # Punkt 2 (#52765)\n",
    "\n",
    "# Euklidische Distanz berechnen\n",
    "distance = np.linalg.norm(point2 - point1)\n",
    "\n",
    "# Ergebnis ausgeben\n",
    "print(f\"Abstand zwischen den Punkten: {distance:.6f} Einheiten\")\n"
   ],
   "metadata": {
    "collapsed": false,
    "ExecuteTime": {
     "start_time": "2025-01-30T18:16:06.556726200Z"
    }
   },
   "id": "a4e060c634c2dc13"
  },
  {
   "cell_type": "markdown",
   "source": [
    "weiteres"
   ],
   "metadata": {
    "collapsed": false
   },
   "id": "917f36d5b264b25a"
  },
  {
   "cell_type": "code",
   "execution_count": null,
   "outputs": [],
   "source": [
    "# Punktkoordinaten abrufen\n",
    "points = np.asarray(pcd_Iphone_metric.points)\n",
    "\n",
    "# Minimum und Maximum der Z-Achse (Tiefe) prüfen\n",
    "min_z = np.min(points[:, 2])\n",
    "max_z = np.max(points[:, 2])\n",
    "\n",
    "print(f\"Minimale Z-Tiefe: {min_z}\")\n",
    "print(f\"Maximale Z-Tiefe: {max_z}\")"
   ],
   "metadata": {
    "collapsed": false,
    "ExecuteTime": {
     "start_time": "2025-01-30T18:16:06.557238500Z"
    }
   },
   "id": "109926315faa3bd4"
  }
 ],
 "metadata": {
  "kernelspec": {
   "display_name": "Python 3",
   "language": "python",
   "name": "python3"
  },
  "language_info": {
   "codemirror_mode": {
    "name": "ipython",
    "version": 2
   },
   "file_extension": ".py",
   "mimetype": "text/x-python",
   "name": "python",
   "nbconvert_exporter": "python",
   "pygments_lexer": "ipython2",
   "version": "2.7.6"
  }
 },
 "nbformat": 4,
 "nbformat_minor": 5
}
